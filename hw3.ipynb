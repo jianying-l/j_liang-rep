{
 "cells": [
  {
   "cell_type": "code",
   "execution_count": 1,
   "metadata": {
    "collapsed": true
   },
   "outputs": [],
   "source": [
    "import numpy as np\n",
    "import pandas as pd\n",
    "from sklearn.datasets import load_digits\n",
    "import matplotlib.pyplot as plt\n",
    "digits= load_digits()\n",
    "from sklearn.model_selection import train_test_split\n",
    "x_train, x_test, y_train, y_test = train_test_split(digits.data, digits.target, test_size=0.20, random_state=0)\n",
    "\n",
    "import warnings\n",
    "warnings.filterwarnings('ignore')"
   ]
  },
  {
   "cell_type": "code",
   "execution_count": 2,
   "metadata": {},
   "outputs": [
    {
     "data": {
      "image/png": "[encoded data removed]",
      "text/plain": [
       "<matplotlib.figure.Figure at 0x19f28f3afd0>"
      ]
     },
     "metadata": {},
     "output_type": "display_data"
    }
   ],
   "source": [
    "plt.rcParams['figure.figsize'] = 8,6\n",
    "plt.imshow(np.reshape(x_train[1], (8,8)), cmap=plt.cm.gray);\n",
    "plt.show()"
   ]
  },
  {
   "cell_type": "code",
   "execution_count": 3,
   "metadata": {
    "collapsed": true
   },
   "outputs": [],
   "source": [
    "from sklearn.model_selection import StratifiedKFold\n",
    "\n",
    "#define a function that run 5-fold cross validation and take the average of the validation accuracy to indicate performance.\n",
    "def lr_mod(model,x_train,y_train):\n",
    "    acc_cv=0\n",
    "    skf = StratifiedKFold(n_splits=5)\n",
    "    skf.get_n_splits(x_train, y_train)\n",
    "    for tr_index, tst_index in skf.split(x_train, y_train):\n",
    "\n",
    "        x_tr, x_valid = x_train[tr_index], x_train[tst_index]\n",
    "        y_tr, y_valid = y_train[tr_index], y_train[tst_index]\n",
    "        model.fit(x_tr, y_tr)\n",
    "        ypred = model.predict(x_valid)\n",
    "        #subtracting validation matrix from the prediction matrix, the number of zeros is the correct prediction\n",
    "        accu = 1-np.count_nonzero(ypred-y_valid)/len(y_valid)\n",
    "        acc_cv += accu\n",
    "        \n",
    "    return acc_cv/5\n",
    "\n",
    "\n"
   ]
  },
  {
   "cell_type": "code",
   "execution_count": 4,
   "metadata": {},
   "outputs": [
    {
     "name": "stdout",
     "output_type": "stream",
     "text": [
      "training set accuracy 0.9596550749080613\n"
     ]
    },
    {
     "data": {
      "text/plain": [
       "0.95"
      ]
     },
     "execution_count": 4,
     "metadata": {},
     "output_type": "execute_result"
    }
   ],
   "source": [
    "from sklearn.linear_model import LogisticRegression\n",
    "old_model = LogisticRegression()\n",
    "acc_t=lr_mod(old_model,x_train,y_train)\n",
    "print(\"training set accuracy\",acc_t)\n",
    "#a simple logistic regression model\n",
    "\n",
    "old_model.fit(x_train, y_train)\n",
    "y_pred=old_model.predict(x_test)\n",
    "acc_test = 1-np.count_nonzero(y_pred-y_test)/len(y_test)\n",
    "acc_test#test set accuracy"
   ]
  },
  {
   "cell_type": "code",
   "execution_count": 5,
   "metadata": {
    "scrolled": false
   },
   "outputs": [
    {
     "name": "stdout",
     "output_type": "stream",
     "text": [
      "0.938149822901343\n",
      "0.938149822901343\n",
      "0.938149822901343\n",
      "0.938149822901343\n",
      "0.938149822901343\n",
      "0.9388562336162856\n",
      "0.9249325146092392\n",
      "0.8853423307847439\n",
      "0.8659026082340393\n",
      "0.8415107515019258\n",
      "\n",
      " select alpha = 0.01\n",
      "validation accuracy is  0.938856233616\n"
     ]
    },
    {
     "data": {
      "text/plain": [
       "0.9277777777777778"
      ]
     },
     "execution_count": 5,
     "metadata": {},
     "output_type": "execute_result"
    }
   ],
   "source": [
    "# L2 Ridge\n",
    "from sklearn.linear_model import RidgeClassifier as rid\n",
    "alpha_ridge = [1e-15, 1e-10, 1e-8, 1e-4, 1e-3,1e-2, 1, 5, 10, 20] #list of C values\n",
    "ridge_acc=[]\n",
    "for i in range(10):\n",
    "    ridge_mod = rid(alpha = alpha_ridge[i], normalize=True)\n",
    "    acc_r=lr_mod(ridge_mod,x_train,y_train)# fit model for every C values\n",
    "    print(acc_r) #validation accuracy\n",
    "    ridge_acc.append(acc_r)\n",
    "\n",
    "sl_alpha=alpha_ridge[np.argmax(ridge_acc)]#select the one with maximun validation accuracy\n",
    "print(\"\\n select alpha =\", sl_alpha)\n",
    "ridge_mod=rid(alpha=sl_alpha,normalize=True)\n",
    "print(\"validation accuracy is \",np.max(ridge_acc))#validation accuracy\n",
    "\n",
    "ridge_mod.fit(x_train, y_train)\n",
    "y_pred=ridge_mod.predict(x_test)\n",
    "acc_rid = 1-np.count_nonzero(y_pred-y_test)/len(y_test)\n",
    "acc_rid# test set accuracy"
   ]
  },
  {
   "cell_type": "code",
   "execution_count": 6,
   "metadata": {},
   "outputs": [
    {
     "name": "stdout",
     "output_type": "stream",
     "text": [
      "select alpha = 1\n",
      "validation accuracy = 0.95619238361\n"
     ]
    },
    {
     "data": {
      "text/plain": [
       "0.9527777777777777"
      ]
     },
     "execution_count": 6,
     "metadata": {},
     "output_type": "execute_result"
    }
   ],
   "source": [
    "#L1 lasso\n",
    "alpha_lasso = [1e-15, 1e-10, 1e-8, 1e-5,1e-4, 1e-3,1e-2, 1, 5, 10]#list of C values\n",
    "lasso_acc=[]\n",
    "for i in range(10):\n",
    "    lasso_mod = LogisticRegression(penalty='l1',C=alpha_lasso[i])\n",
    "    acc_l=lr_mod(lasso_mod,x_train,y_train)#fit model\n",
    "    lasso_acc.append(acc_l)\n",
    "\n",
    "sl_alpha=alpha_lasso[np.argmax(lasso_acc)]#select highest validation accuracy model\n",
    "print(\"select alpha =\", sl_alpha)\n",
    "lasso_mod = LogisticRegression(penalty='l1',C=sl_alpha)\n",
    "print(\"validation accuracy =\",np.max(lasso_acc))#validation\n",
    "\n",
    "lasso_mod.fit(x_train, y_train)\n",
    "y_pred_l=lasso_mod.predict(x_test)\n",
    "acc_las = 1-np.count_nonzero(y_pred_l-y_test)/len(y_test)\n",
    "acc_las#tese set accuracy"
   ]
  },
  {
   "cell_type": "code",
   "execution_count": 7,
   "metadata": {},
   "outputs": [
    {
     "data": {
      "image/png": "[encoded data removed]",
      "text/plain": [
       "<matplotlib.figure.Figure at 0x19f2c98cdd8>"
      ]
     },
     "metadata": {},
     "output_type": "display_data"
    }
   ],
   "source": [
    "plt.plot(alpha_ridge,ridge_acc)#plot ridge graph\n",
    "plt.show()"
   ]
  },
  {
   "cell_type": "code",
   "execution_count": 8,
   "metadata": {},
   "outputs": [
    {
     "data": {
      "image/png": "[encoded data removed]",
      "text/plain": [
       "<matplotlib.figure.Figure at 0x19f2c98cc50>"
      ]
     },
     "metadata": {},
     "output_type": "display_data"
    }
   ],
   "source": [
    "plt.plot(alpha_lasso,lasso_acc)#plot lasso graph\n",
    "plt.show()"
   ]
  },
  {
   "cell_type": "code",
   "execution_count": 22,
   "metadata": {
    "collapsed": true
   },
   "outputs": [],
   "source": [
    "import tensorflow as tf\n",
    "tf.reset_default_graph()"
   ]
  },
  {
   "cell_type": "code",
   "execution_count": 23,
   "metadata": {
    "collapsed": true
   },
   "outputs": [],
   "source": [
    "from datetime import datetime\n",
    "import os\n",
    "import pathlib\n",
    "\n",
    "t = datetime.utcnow().strftime(\"%Y%m%d%H%M%S\") \n",
    "log_dir = \"tf_logs\"\n",
    "logd = \"/tmp/{}/r{}/\".format(log_dir, t)\n",
    "\n",
    "# Then every time you have specified a graph run:\n",
    "# file_writer = tf.summary.FileWriter(logdir, tf.get_default_graph())\n",
    "\n",
    "# Make directory if it doesn't exist\n",
    "\n",
    "from pathlib import Path\n",
    "home = str(Path.home())\n",
    "\n",
    "logdir = os.path.join(os.sep,home,logd)\n",
    "\n",
    "if not os.path.exists(logdir):\n",
    "    os.makedirs(logdir)"
   ]
  },
  {
   "cell_type": "code",
   "execution_count": 24,
   "metadata": {
    "collapsed": true
   },
   "outputs": [],
   "source": [
    "# TensorBoard Graph visualizer in notebook\n",
    "import numpy as np\n",
    "from IPython.display import clear_output, Image, display, HTML\n",
    "\n",
    "def strip_consts(graph_def, max_const_size=32):\n",
    "    \"\"\"Strip large constant values from graph_def.\"\"\"\n",
    "    strip_def = tf.GraphDef()\n",
    "    for n0 in graph_def.node:\n",
    "        n = strip_def.node.add() \n",
    "        n.MergeFrom(n0)\n",
    "        if n.op == 'Const':\n",
    "            tensor = n.attr['value'].tensor\n",
    "            size = len(tensor.tensor_content)\n",
    "            if size > max_const_size:\n",
    "                tensor.tensor_content = \"<stripped %d bytes>\"%size\n",
    "    return strip_def\n",
    "\n",
    "def show_graph(graph_def, max_const_size=32):\n",
    "    \"\"\"Visualize TensorFlow graph.\"\"\"\n",
    "    if hasattr(graph_def, 'as_graph_def'):\n",
    "        graph_def = graph_def.as_graph_def()\n",
    "    strip_def = strip_consts(graph_def, max_const_size=max_const_size)\n",
    "    code = \"\"\"\n",
    "        <script src=\"//cdnjs.cloudflare.com/ajax/libs/polymer/0.3.3/platform.js\"></script>\n",
    "        <script>\n",
    "          function load() {{\n",
    "            document.getElementById(\"{id}\").pbtxt = {data};\n",
    "          }}\n",
    "        </script>\n",
    "        <link rel=\"import\" href=\"https://tensorboard.appspot.com/tf-graph-basic.build.html\" onload=load()>\n",
    "        <div style=\"height:600px\">\n",
    "          <tf-graph-basic id=\"{id}\"></tf-graph-basic>\n",
    "        </div>\n",
    "    \"\"\".format(data=repr(str(strip_def)), id='graph'+str(np.random.rand()))\n",
    "\n",
    "    iframe = \"\"\"\n",
    "        <iframe seamless style=\"width:1200px;height:620px;border:0\" srcdoc=\"{}\"></iframe>\n",
    "    \"\"\".format(code.replace('\"', '&quot;'))\n",
    "    display(HTML(iframe))"
   ]
  },
  {
   "cell_type": "code",
   "execution_count": 25,
   "metadata": {
    "collapsed": true
   },
   "outputs": [],
   "source": [
    "from sklearn.model_selection import train_test_split\n",
    "x_train, x_test, y_train, y_test = train_test_split(digits.data, digits.target, test_size=0.20, random_state=0)\n",
    "#load data"
   ]
  },
  {
   "cell_type": "code",
   "execution_count": 26,
   "metadata": {},
   "outputs": [],
   "source": [
    "import keras\n",
    "#define input, output sizes\n",
    "img_dim = 8*8\n",
    "num_classes = 10\n",
    "\n",
    "#reshape input matrix  (?,64)\n",
    "x_train = x_train.reshape(x_train.shape[0], img_dim)\n",
    "x_test = x_test.reshape(x_test.shape[0], 64)\n",
    "x_train = x_train.astype('float32')\n",
    "x_test = x_test.astype('float32')\n",
    "\n",
    "#reshape output values to labels  (?,10)\n",
    "y_train = keras.utils.to_categorical(y_train, num_classes)\n",
    "y_test = keras.utils.to_categorical(y_test, num_classes)"
   ]
  },
  {
   "cell_type": "code",
   "execution_count": 27,
   "metadata": {
    "collapsed": true
   },
   "outputs": [],
   "source": [
    "# Define input\n",
    "x = tf.placeholder(tf.float32,shape = [None,64]) \n",
    "\n",
    "W = tf.Variable(tf.zeros([64, 10])) # number of weights\n",
    "b = tf.Variable(tf.zeros([10])) # number of bias terms\n",
    "\n",
    "y_hat = tf.nn.softmax(tf.matmul(x, W) + b) \n",
    "# define what we'll take the softmax activation on\n",
    "y = tf.placeholder(tf.float32, [None, 10])\n",
    "\n",
    "# define loss function\n",
    "ce = tf.reduce_mean(-tf.reduce_sum( y* tf.log(y_hat),axis=1))"
   ]
  },
  {
   "cell_type": "code",
   "execution_count": 28,
   "metadata": {
    "collapsed": true
   },
   "outputs": [],
   "source": [
    "#define training step\n",
    "train_step = tf.train.GradientDescentOptimizer(learning_rate=0.001).minimize(ce)"
   ]
  },
  {
   "cell_type": "code",
   "execution_count": 29,
   "metadata": {
    "collapsed": true
   },
   "outputs": [],
   "source": [
    "#accuracy function\n",
    "def acc():\n",
    "    correct_prediction = tf.equal(tf.argmax(y,1), tf.argmax(y_hat,1))\n",
    "    accuracy = tf.reduce_mean(tf.cast(correct_prediction, tf.float32))\n",
    "    tr_ac=sess.run(accuracy, feed_dict={x: x_train, y: y_train})\n",
    "    vd_ac=sess.run(accuracy, feed_dict={x: x_test, y: y_test})\n",
    "    print(vd_ac)\n",
    "    return tr_ac,vd_ac"
   ]
  },
  {
   "cell_type": "code",
   "execution_count": 30,
   "metadata": {
    "collapsed": true
   },
   "outputs": [],
   "source": [
    "\n",
    "#new session\n",
    "sess = tf.Session()\n",
    "sess.run(tf.global_variables_initializer())"
   ]
  },
  {
   "cell_type": "code",
   "execution_count": 31,
   "metadata": {},
   "outputs": [
    {
     "name": "stdout",
     "output_type": "stream",
     "text": [
      "0.838889\n",
      "0.927778\n",
      "0.941667\n",
      "0.95\n",
      "0.95\n",
      "0.952778\n",
      "0.958333\n",
      "0.961111\n",
      "0.958333\n",
      "0.963889\n",
      "0.963889\n",
      "0.966667\n",
      "0.966667\n",
      "0.963889\n",
      "0.963889\n",
      "0.963889\n",
      "0.969444\n",
      "0.969444\n",
      "0.969444\n",
      "0.969444\n"
     ]
    }
   ],
   "source": [
    "#create lists for plots\n",
    "i_list=[]\n",
    "tr_list=[]\n",
    "vl_list=[]\n",
    "#find the number of batches for 100 batch size\n",
    "n_batches=np.floor(len(x_train)/100)\n",
    "for i in range(200):\n",
    "    #shuffle and split the training set data -----batching\n",
    "    shuffled_idx = np.random.permutation(len(x_train))  \n",
    "    \n",
    "    x_batches = np.array_split(x_train[shuffled_idx], n_batches)\n",
    "    y_batches = np.array_split(y_train[shuffled_idx], n_batches)\n",
    "    for x_batch, y_batch in zip(x_batches, y_batches):\n",
    "        sess.run(train_step, feed_dict={x: x_batch, y: y_batch})\n",
    "    #record every ten set of values\n",
    "    if i%10==0:\n",
    "        Train_ac,Valid_ac=acc()\n",
    "        i_list.append(i)\n",
    "        tr_list.append(Train_ac)\n",
    "        vl_list.append(Valid_ac)\n",
    "        "
   ]
  },
  {
   "cell_type": "code",
   "execution_count": 32,
   "metadata": {},
   "outputs": [
    {
     "name": "stdout",
     "output_type": "stream",
     "text": [
      "0.969444\n"
     ]
    },
    {
     "data": {
      "text/plain": [
       "(0.98260266, 0.96944445)"
      ]
     },
     "execution_count": 32,
     "metadata": {},
     "output_type": "execute_result"
    }
   ],
   "source": [
    "acc()"
   ]
  },
  {
   "cell_type": "code",
   "execution_count": 33,
   "metadata": {},
   "outputs": [
    {
     "data": {
      "image/png": "[encoded data removed]",
      "text/plain": [
       "<matplotlib.figure.Figure at 0x19f31b7c908>"
      ]
     },
     "metadata": {},
     "output_type": "display_data"
    }
   ],
   "source": [
    "plt.plot(i_list,tr_list)\n",
    "plt.title('training accuracy')\n",
    "plt.show()"
   ]
  },
  {
   "cell_type": "code",
   "execution_count": 34,
   "metadata": {},
   "outputs": [
    {
     "data": {
      "image/png": "[encoded data removed]",
      "text/plain": [
       "<matplotlib.figure.Figure at 0x19f31e5a588>"
      ]
     },
     "metadata": {},
     "output_type": "display_data"
    }
   ],
   "source": [
    "plt.plot(i_list,vl_list)\n",
    "plt.title('validation accuracy')\n",
    "plt.show()"
   ]
  },
  {
   "cell_type": "code",
   "execution_count": 35,
   "metadata": {},
   "outputs": [
    {
     "data": {
      "text/html": [
       "\n",
       "        <iframe seamless style=\"width:1200px;height:620px;border:0\" srcdoc=\"\n",
       "        <script src=&quot;//cdnjs.cloudflare.com/ajax/libs/polymer/0.3.3/platform.js&quot;></script>\n",
       "        <script>\n",
       "          function load() {\n",
       "            document.getElementById(&quot;graph0.5996940515514045&quot;).pbtxt = 'node {\\n  name: &quot;hidden/Placeholder&quot;\\n  op: &quot;Placeholder&quot;\\n  attr {\\n    key: &quot;dtype&quot;\\n    value {\\n      type: DT_FLOAT\\n    }\\n  }\\n  attr {\\n    key: &quot;shape&quot;\\n    value {\\n      shape {\\n        dim {\\n          size: -1\\n        }\\n        dim {\\n          size: 784\\n        }\\n      }\\n    }\\n  }\\n}\\nnode {\\n  name: &quot;hidden/zeros&quot;\\n  op: &quot;Const&quot;\\n  attr {\\n    key: &quot;dtype&quot;\\n    value {\\n      type: DT_FLOAT\\n    }\\n  }\\n  attr {\\n    key: &quot;value&quot;\\n    value {\\n      tensor {\\n        dtype: DT_FLOAT\\n        tensor_shape {\\n          dim {\\n            size: 784\\n          }\\n          dim {\\n            size: 10\\n          }\\n        }\\n        float_val: 0.0\\n      }\\n    }\\n  }\\n}\\nnode {\\n  name: &quot;hidden/Variable&quot;\\n  op: &quot;VariableV2&quot;\\n  attr {\\n    key: &quot;container&quot;\\n    value {\\n      s: &quot;&quot;\\n    }\\n  }\\n  attr {\\n    key: &quot;dtype&quot;\\n    value {\\n      type: DT_FLOAT\\n    }\\n  }\\n  attr {\\n    key: &quot;shape&quot;\\n    value {\\n      shape {\\n        dim {\\n          size: 784\\n        }\\n        dim {\\n          size: 10\\n        }\\n      }\\n    }\\n  }\\n  attr {\\n    key: &quot;shared_name&quot;\\n    value {\\n      s: &quot;&quot;\\n    }\\n  }\\n}\\nnode {\\n  name: &quot;hidden/Variable/Assign&quot;\\n  op: &quot;Assign&quot;\\n  input: &quot;hidden/Variable&quot;\\n  input: &quot;hidden/zeros&quot;\\n  attr {\\n    key: &quot;T&quot;\\n    value {\\n      type: DT_FLOAT\\n    }\\n  }\\n  attr {\\n    key: &quot;_class&quot;\\n    value {\\n      list {\\n        s: &quot;loc:@hidden/Variable&quot;\\n      }\\n    }\\n  }\\n  attr {\\n    key: &quot;use_locking&quot;\\n    value {\\n      b: true\\n    }\\n  }\\n  attr {\\n    key: &quot;validate_shape&quot;\\n    value {\\n      b: true\\n    }\\n  }\\n}\\nnode {\\n  name: &quot;hidden/Variable/read&quot;\\n  op: &quot;Identity&quot;\\n  input: &quot;hidden/Variable&quot;\\n  attr {\\n    key: &quot;T&quot;\\n    value {\\n      type: DT_FLOAT\\n    }\\n  }\\n  attr {\\n    key: &quot;_class&quot;\\n    value {\\n      list {\\n        s: &quot;loc:@hidden/Variable&quot;\\n      }\\n    }\\n  }\\n}\\nnode {\\n  name: &quot;hidden/zeros_1&quot;\\n  op: &quot;Const&quot;\\n  attr {\\n    key: &quot;dtype&quot;\\n    value {\\n      type: DT_FLOAT\\n    }\\n  }\\n  attr {\\n    key: &quot;value&quot;\\n    value {\\n      tensor {\\n        dtype: DT_FLOAT\\n        tensor_shape {\\n          dim {\\n            size: 10\\n          }\\n        }\\n        float_val: 0.0\\n      }\\n    }\\n  }\\n}\\nnode {\\n  name: &quot;hidden/Variable_1&quot;\\n  op: &quot;VariableV2&quot;\\n  attr {\\n    key: &quot;container&quot;\\n    value {\\n      s: &quot;&quot;\\n    }\\n  }\\n  attr {\\n    key: &quot;dtype&quot;\\n    value {\\n      type: DT_FLOAT\\n    }\\n  }\\n  attr {\\n    key: &quot;shape&quot;\\n    value {\\n      shape {\\n        dim {\\n          size: 10\\n        }\\n      }\\n    }\\n  }\\n  attr {\\n    key: &quot;shared_name&quot;\\n    value {\\n      s: &quot;&quot;\\n    }\\n  }\\n}\\nnode {\\n  name: &quot;hidden/Variable_1/Assign&quot;\\n  op: &quot;Assign&quot;\\n  input: &quot;hidden/Variable_1&quot;\\n  input: &quot;hidden/zeros_1&quot;\\n  attr {\\n    key: &quot;T&quot;\\n    value {\\n      type: DT_FLOAT\\n    }\\n  }\\n  attr {\\n    key: &quot;_class&quot;\\n    value {\\n      list {\\n        s: &quot;loc:@hidden/Variable_1&quot;\\n      }\\n    }\\n  }\\n  attr {\\n    key: &quot;use_locking&quot;\\n    value {\\n      b: true\\n    }\\n  }\\n  attr {\\n    key: &quot;validate_shape&quot;\\n    value {\\n      b: true\\n    }\\n  }\\n}\\nnode {\\n  name: &quot;hidden/Variable_1/read&quot;\\n  op: &quot;Identity&quot;\\n  input: &quot;hidden/Variable_1&quot;\\n  attr {\\n    key: &quot;T&quot;\\n    value {\\n      type: DT_FLOAT\\n    }\\n  }\\n  attr {\\n    key: &quot;_class&quot;\\n    value {\\n      list {\\n        s: &quot;loc:@hidden/Variable_1&quot;\\n      }\\n    }\\n  }\\n}\\nnode {\\n  name: &quot;hidden/MatMul&quot;\\n  op: &quot;MatMul&quot;\\n  input: &quot;hidden/Placeholder&quot;\\n  input: &quot;hidden/Variable/read&quot;\\n  attr {\\n    key: &quot;T&quot;\\n    value {\\n      type: DT_FLOAT\\n    }\\n  }\\n  attr {\\n    key: &quot;transpose_a&quot;\\n    value {\\n      b: false\\n    }\\n  }\\n  attr {\\n    key: &quot;transpose_b&quot;\\n    value {\\n      b: false\\n    }\\n  }\\n}\\nnode {\\n  name: &quot;hidden/add&quot;\\n  op: &quot;Add&quot;\\n  input: &quot;hidden/MatMul&quot;\\n  input: &quot;hidden/Variable_1/read&quot;\\n  attr {\\n    key: &quot;T&quot;\\n    value {\\n      type: DT_FLOAT\\n    }\\n  }\\n}\\nnode {\\n  name: &quot;hidden/Softmax&quot;\\n  op: &quot;Softmax&quot;\\n  input: &quot;hidden/add&quot;\\n  attr {\\n    key: &quot;T&quot;\\n    value {\\n      type: DT_FLOAT\\n    }\\n  }\\n}\\nnode {\\n  name: &quot;second/Placeholder&quot;\\n  op: &quot;Placeholder&quot;\\n  attr {\\n    key: &quot;dtype&quot;\\n    value {\\n      type: DT_FLOAT\\n    }\\n  }\\n  attr {\\n    key: &quot;shape&quot;\\n    value {\\n      shape {\\n        dim {\\n          size: -1\\n        }\\n        dim {\\n          size: 10\\n        }\\n      }\\n    }\\n  }\\n}\\nnode {\\n  name: &quot;second/Log&quot;\\n  op: &quot;Log&quot;\\n  input: &quot;hidden/Softmax&quot;\\n  attr {\\n    key: &quot;T&quot;\\n    value {\\n      type: DT_FLOAT\\n    }\\n  }\\n}\\nnode {\\n  name: &quot;second/mul&quot;\\n  op: &quot;Mul&quot;\\n  input: &quot;second/Placeholder&quot;\\n  input: &quot;second/Log&quot;\\n  attr {\\n    key: &quot;T&quot;\\n    value {\\n      type: DT_FLOAT\\n    }\\n  }\\n}\\nnode {\\n  name: &quot;second/Sum/reduction_indices&quot;\\n  op: &quot;Const&quot;\\n  attr {\\n    key: &quot;dtype&quot;\\n    value {\\n      type: DT_INT32\\n    }\\n  }\\n  attr {\\n    key: &quot;value&quot;\\n    value {\\n      tensor {\\n        dtype: DT_INT32\\n        tensor_shape {\\n        }\\n        int_val: 1\\n      }\\n    }\\n  }\\n}\\nnode {\\n  name: &quot;second/Sum&quot;\\n  op: &quot;Sum&quot;\\n  input: &quot;second/mul&quot;\\n  input: &quot;second/Sum/reduction_indices&quot;\\n  attr {\\n    key: &quot;T&quot;\\n    value {\\n      type: DT_FLOAT\\n    }\\n  }\\n  attr {\\n    key: &quot;Tidx&quot;\\n    value {\\n      type: DT_INT32\\n    }\\n  }\\n  attr {\\n    key: &quot;keep_dims&quot;\\n    value {\\n      b: false\\n    }\\n  }\\n}\\nnode {\\n  name: &quot;second/Neg&quot;\\n  op: &quot;Neg&quot;\\n  input: &quot;second/Sum&quot;\\n  attr {\\n    key: &quot;T&quot;\\n    value {\\n      type: DT_FLOAT\\n    }\\n  }\\n}\\nnode {\\n  name: &quot;second/Const&quot;\\n  op: &quot;Const&quot;\\n  attr {\\n    key: &quot;dtype&quot;\\n    value {\\n      type: DT_INT32\\n    }\\n  }\\n  attr {\\n    key: &quot;value&quot;\\n    value {\\n      tensor {\\n        dtype: DT_INT32\\n        tensor_shape {\\n          dim {\\n            size: 1\\n          }\\n        }\\n        int_val: 0\\n      }\\n    }\\n  }\\n}\\nnode {\\n  name: &quot;second/Mean&quot;\\n  op: &quot;Mean&quot;\\n  input: &quot;second/Neg&quot;\\n  input: &quot;second/Const&quot;\\n  attr {\\n    key: &quot;T&quot;\\n    value {\\n      type: DT_FLOAT\\n    }\\n  }\\n  attr {\\n    key: &quot;Tidx&quot;\\n    value {\\n      type: DT_INT32\\n    }\\n  }\\n  attr {\\n    key: &quot;keep_dims&quot;\\n    value {\\n      b: false\\n    }\\n  }\\n}\\n';\n",
       "          }\n",
       "        </script>\n",
       "        <link rel=&quot;import&quot; href=&quot;https://tensorboard.appspot.com/tf-graph-basic.build.html&quot; onload=load()>\n",
       "        <div style=&quot;height:600px&quot;>\n",
       "          <tf-graph-basic id=&quot;graph0.5996940515514045&quot;></tf-graph-basic>\n",
       "        </div>\n",
       "    \"></iframe>\n",
       "    "
      ],
      "text/plain": [
       "<IPython.core.display.HTML object>"
      ]
     },
     "metadata": {},
     "output_type": "display_data"
    }
   ],
   "source": [
    "graph1 = tf.Graph()\n",
    "#show grpah in tensorboard\n",
    "with graph1.as_default():\n",
    "\n",
    "    with tf.name_scope('hidden') as scope:\n",
    "        x = tf.placeholder(tf.float32,shape = [None,784]) \n",
    "        W = tf.Variable(tf.zeros([784, 10])) # number of weights\n",
    "        b = tf.Variable(tf.zeros([10])) # number of bias terms\n",
    "        y_hat = tf.nn.softmax(tf.matmul(x, W) + b)\n",
    "    with tf.name_scope('second') as scope:\n",
    "        y = tf.placeholder(tf.float32, [None, 10])\n",
    "        ce = tf.reduce_mean(-tf.reduce_sum( y* tf.log(y_hat),axis=1))\n",
    "    sess1 = tf.Session(graph=graph1)\n",
    "\n",
    "show_graph(graph1)\n",
    "#write graph to the temp directory to print the graph in tensorboard\n",
    "file_writer = tf.summary.FileWriter(logdir, graph1)"
   ]
  },
  {
   "cell_type": "code",
   "execution_count": 36,
   "metadata": {},
   "outputs": [
    {
     "data": {
      "text/plain": [
       "'C:/tmp/tf_logs/r20180402000652/'"
      ]
     },
     "execution_count": 36,
     "metadata": {},
     "output_type": "execute_result"
    }
   ],
   "source": [
    "logdir\n",
    "#tensorboard --logdir="
   ]
  },
  {
   "cell_type": "code",
   "execution_count": 37,
   "metadata": {
    "collapsed": true
   },
   "outputs": [],
   "source": [
    "## Part 2\n",
    "from sklearn.model_selection import train_test_split\n",
    "x_train, x_test, y_train, y_test = train_test_split(digits.data, digits.target, test_size=0.20, random_state=0)\n",
    "n=x_train.max()\n",
    "#normalize the data by dividing it by the maximun value (16)\n",
    "x_train /= n\n",
    "x_test /= n"
   ]
  },
  {
   "cell_type": "code",
   "execution_count": 38,
   "metadata": {
    "collapsed": true
   },
   "outputs": [],
   "source": [
    "# define features\n",
    "n_inputs = 8*8  # MNIST\n",
    "n_hidden1 = 300\n",
    "n_hidden2 = 200\n",
    "n_hidden3 = 100\n",
    "n_outputs = 10\n",
    "\n",
    "tf.reset_default_graph()\n",
    "# Placeholders for data (inputs and targets)\n",
    "X = tf.placeholder(tf.float32, shape=(None, n_inputs), name=\"X\")\n",
    "y = tf.placeholder(tf.int64, shape=(None), name=\"y\")"
   ]
  },
  {
   "cell_type": "code",
   "execution_count": 39,
   "metadata": {
    "collapsed": true
   },
   "outputs": [],
   "source": [
    "def neuron_layer(X, n_neurons, name, activation=None):\n",
    "    # X input to neuron\n",
    "    # number of neurons for the layer\n",
    "    # name of layer\n",
    "    # pass in eventual activation function\n",
    "    \n",
    "    with tf.name_scope(name):\n",
    "        n_inputs = int(X.get_shape()[1])\n",
    "        \n",
    "        # initialize weights to prevent vanishing / exploding gradients\n",
    "        stddev = 2 / np.sqrt(n_inputs)\n",
    "        init = tf.truncated_normal((n_inputs, n_neurons), stddev=stddev)\n",
    "        \n",
    "        # Initialize weights for the layer\n",
    "        W = tf.Variable(init, name=\"weights\")\n",
    "        # biases\n",
    "        b = tf.Variable(tf.zeros([n_neurons]), name=\"bias\")\n",
    "        # Output from every neuron\n",
    "        Z = tf.matmul(X, W) + b\n",
    "        if activation is not None:\n",
    "            return activation(Z)\n",
    "        else:\n",
    "            return Z"
   ]
  },
  {
   "cell_type": "code",
   "execution_count": 40,
   "metadata": {
    "collapsed": true
   },
   "outputs": [],
   "source": [
    "keep_prob=0.9 #dropout =0.1 so keep = 0.9\n",
    "\n",
    "# three hidden layers\n",
    "with tf.name_scope(\"dnn\"):\n",
    "        hidden1 = neuron_layer(X, n_hidden1, name=\"hidden1\",\n",
    "                               activation=tf.nn.tanh)\n",
    "        hidden1 = tf.nn.dropout(hidden1, keep_prob)\n",
    "        hidden2 = neuron_layer(hidden1, n_hidden2, name=\"hidden2\",\n",
    "                               activation=tf.nn.tanh)\n",
    "        hidden2 = tf.nn.dropout(hidden2, keep_prob)\n",
    "        hidden3 = neuron_layer(hidden2, n_hidden3, name=\"hidden3\",\n",
    "                               activation=tf.nn.tanh)\n",
    "        hidden3 = tf.nn.dropout(hidden3, keep_prob)\n",
    "        logits = neuron_layer(hidden3, n_outputs, name=\"outputs\")\n",
    "\n",
    "    "
   ]
  },
  {
   "cell_type": "code",
   "execution_count": 41,
   "metadata": {
    "collapsed": true
   },
   "outputs": [],
   "source": [
    "with tf.name_scope(\"loss\"):\n",
    "    # logits are from the last output of the dnn\n",
    "    xentropy = tf.nn.sparse_softmax_cross_entropy_with_logits(labels=y,\n",
    "                                                              logits=logits)\n",
    "    loss = tf.reduce_mean(xentropy, name=\"loss\")\n",
    "\n",
    "with tf.name_scope(\"train\"):\n",
    "    optimizer = tf.train.GradientDescentOptimizer(learning_rate=0.001)\n",
    "    training_op = optimizer.minimize(loss)\n",
    "\n",
    "with tf.name_scope(\"eval\"):\n",
    "    correct = tf.nn.in_top_k(logits, y, 1)\n",
    "    accuracy = tf.reduce_mean(tf.cast(correct, tf.float32))"
   ]
  },
  {
   "cell_type": "code",
   "execution_count": 42,
   "metadata": {},
   "outputs": [
    {
     "name": "stdout",
     "output_type": "stream",
     "text": [
      "0 Train accuracy: 0.147059 Val accuracy: 0.102778\n",
      "50 Train accuracy: 0.72549 Val accuracy: 0.683333\n",
      "100 Train accuracy: 0.803922 Val accuracy: 0.786111\n",
      "150 Train accuracy: 0.872549 Val accuracy: 0.85\n",
      "200 Train accuracy: 0.823529 Val accuracy: 0.886111\n",
      "250 Train accuracy: 0.921569 Val accuracy: 0.886111\n",
      "300 Train accuracy: 0.901961 Val accuracy: 0.905556\n",
      "350 Train accuracy: 0.911765 Val accuracy: 0.913889\n",
      "400 Train accuracy: 0.980392 Val accuracy: 0.927778\n",
      "450 Train accuracy: 0.941176 Val accuracy: 0.936111\n",
      "500 Train accuracy: 0.921569 Val accuracy: 0.922222\n",
      "550 Train accuracy: 0.921569 Val accuracy: 0.925\n",
      "600 Train accuracy: 0.960784 Val accuracy: 0.944444\n",
      "650 Train accuracy: 0.980392 Val accuracy: 0.947222\n",
      "700 Train accuracy: 0.960784 Val accuracy: 0.930556\n",
      "750 Train accuracy: 0.95098 Val accuracy: 0.947222\n",
      "800 Train accuracy: 0.941176 Val accuracy: 0.944444\n",
      "850 Train accuracy: 0.970588 Val accuracy: 0.936111\n",
      "900 Train accuracy: 0.980392 Val accuracy: 0.95\n",
      "950 Train accuracy: 0.990196 Val accuracy: 0.961111\n",
      "999 Train accuracy: 0.980392 Val accuracy: 0.955556\n"
     ]
    }
   ],
   "source": [
    "\n",
    "# gradient descent parameters\n",
    "n_epochs = 1000\n",
    "batch_size = 100\n",
    "n_batches=np.floor(len(x_train)/100)\n",
    "\n",
    "q2epoch=[]\n",
    "q2train=[]\n",
    "q2val=[]\n",
    "#initialize\n",
    "init = tf.global_variables_initializer()\n",
    "graph2 = tf.Graph()\n",
    "with tf.Session() as sess2:\n",
    "    \n",
    "    with graph2.as_default():    \n",
    "        init.run()\n",
    "        for epoch in range(n_epochs):\n",
    "            #shuffle and split -----batching\n",
    "            shuffled_idx = np.random.permutation(len(x_train))  \n",
    "    \n",
    "            x_batches = np.array_split(x_train[shuffled_idx], n_batches)\n",
    "            y_batches = np.array_split(y_train[shuffled_idx], n_batches)\n",
    "            for x_batch, y_batch in zip(x_batches, y_batches):\n",
    "                sess2.run(training_op, feed_dict={X: x_batch, y: y_batch})\n",
    "            #accuracy\n",
    "            acc_train = accuracy.eval(feed_dict={X: x_batch, y: y_batch},session=sess2)\n",
    "            acc_val = accuracy.eval(feed_dict={X: x_test, y: y_test})\n",
    "            #print values\n",
    "            if (epoch%50==0) | (epoch==999):\n",
    "                print(epoch, \"Train accuracy:\", acc_train, \"Val accuracy:\", acc_val)\n",
    "                q2epoch.append(epoch)\n",
    "                q2train.append(acc_train)\n",
    "                q2val.append(acc_val)\n",
    "\n"
   ]
  },
  {
   "cell_type": "code",
   "execution_count": 43,
   "metadata": {
    "collapsed": true
   },
   "outputs": [],
   "source": [
    "file_writer = tf.summary.FileWriter(logdir, graph2)#print graph to tensorboard"
   ]
  },
  {
   "cell_type": "code",
   "execution_count": 44,
   "metadata": {},
   "outputs": [
    {
     "data": {
      "image/png": "[encoded data removed]",
      "text/plain": [
       "<matplotlib.figure.Figure at 0x19f31eabf60>"
      ]
     },
     "metadata": {},
     "output_type": "display_data"
    }
   ],
   "source": [
    "plt.plot(q2epoch,q2train)\n",
    "plt.title('training accuracy')\n",
    "plt.show()"
   ]
  },
  {
   "cell_type": "code",
   "execution_count": 45,
   "metadata": {},
   "outputs": [
    {
     "data": {
      "image/png": "[encoded data removed]",
      "text/plain": [
       "<matplotlib.figure.Figure at 0x19f32334748>"
      ]
     },
     "metadata": {},
     "output_type": "display_data"
    }
   ],
   "source": [
    "plt.plot(q2epoch,q2val)\n",
    "plt.title('validation accuracy')\n",
    "plt.show()"
   ]
  },
  {
   "cell_type": "code",
   "execution_count": 46,
   "metadata": {
    "collapsed": true
   },
   "outputs": [],
   "source": [
    "###################Part 3\n",
    "from sklearn.model_selection import train_test_split\n",
    "x_train, x_test, y_train, y_test = train_test_split(digits.data, digits.target, test_size=0.20, random_state=0)\n",
    "#reload data"
   ]
  },
  {
   "cell_type": "code",
   "execution_count": 47,
   "metadata": {
    "collapsed": true
   },
   "outputs": [],
   "source": [
    "# define features\n",
    "n_inputs = 8*8  # MNIST\n",
    "n_hidden1 = 300\n",
    "n_hidden2 = 200\n",
    "n_hidden3 = 100\n",
    "n_outputs = 10\n",
    "\n",
    "tf.reset_default_graph()\n",
    "# Placeholders for data (inputs and targets)\n",
    "X = tf.placeholder(tf.float32, shape=(None, n_inputs), name=\"X\")\n",
    "y = tf.placeholder(tf.int64, shape=(None), name=\"y\")"
   ]
  },
  {
   "cell_type": "code",
   "execution_count": 48,
   "metadata": {
    "collapsed": true
   },
   "outputs": [],
   "source": [
    "def neuron_layer(X, n_neurons, name, activation=None):\n",
    "    # X input to neuron\n",
    "    # number of neurons for the layer\n",
    "    # name of layer\n",
    "    # pass in eventual activation function\n",
    "    \n",
    "    with tf.name_scope(name):\n",
    "        n_inputs = int(X.get_shape()[1])\n",
    "        \n",
    "        # initialize weights to prevent vanishing / exploding gradients\n",
    "        stddev = 2 / np.sqrt(n_inputs)\n",
    "        init = tf.truncated_normal((n_inputs, n_neurons), stddev=stddev)\n",
    "        \n",
    "        # Initialize weights for the layer\n",
    "        W = tf.Variable(init, name=\"weights\")\n",
    "        # biases\n",
    "        b = tf.Variable(tf.zeros([n_neurons]), name=\"bias\")\n",
    "        # Output from every neuron\n",
    "        Z = tf.matmul(X, W) + b\n",
    "        #####batch normalization\n",
    "        \n",
    "        ############# beta\n",
    "        beta = tf.Variable(tf.zeros([n_neurons]))\n",
    "        ##################gamma\n",
    "        gamma = tf.Variable(tf.ones([n_neurons]))\n",
    "        ##############mean and variance\n",
    "        mean,var=tf.nn.moments(Z,axes=[0])\n",
    "        ############# obtain moving average\n",
    "        MA=tf.train.ExponentialMovingAverage(decay=0.5)\n",
    "        with tf.control_dependencies([MA.apply([mean,var])]):\n",
    "            mean,var = tf.identity(mean),tf.identity(var)\n",
    "        \n",
    "        ### ((Z-mean)/std)*gamma +beta\n",
    "        Z=tf.nn.batch_normalization(Z,mean,var,beta,gamma,0.01)\n",
    "        if activation is not None:\n",
    "            return activation(Z)\n",
    "        else:\n",
    "            return Z\n",
    "        \n",
    "        "
   ]
  },
  {
   "cell_type": "code",
   "execution_count": 49,
   "metadata": {},
   "outputs": [],
   "source": [
    "keep_prob=0.9\n",
    "# 3 layers, dropout = 0.1\n",
    "with tf.name_scope(\"dnn\"):\n",
    "        hidden1 = neuron_layer(X, n_hidden1, name=\"hidden1\",\n",
    "                               activation=tf.nn.tanh)\n",
    "        hidden1 = tf.nn.dropout(hidden1, keep_prob)\n",
    "        hidden2 = neuron_layer(hidden1, n_hidden2, name=\"hidden2\",\n",
    "                               activation=tf.nn.tanh)\n",
    "        hidden2 = tf.nn.dropout(hidden2, keep_prob)\n",
    "        hidden3 = neuron_layer(hidden2, n_hidden3, name=\"hidden3\",\n",
    "                               activation=tf.nn.tanh)\n",
    "        hidden3 = tf.nn.dropout(hidden3, keep_prob)\n",
    "        logits = neuron_layer(hidden3, n_outputs, name=\"outputs\")\n",
    "\n",
    "    "
   ]
  },
  {
   "cell_type": "code",
   "execution_count": 50,
   "metadata": {
    "collapsed": true
   },
   "outputs": [],
   "source": [
    "with tf.name_scope(\"loss\"):\n",
    "    # logits are from the last output of the dnn\n",
    "    xentropy = tf.nn.sparse_softmax_cross_entropy_with_logits(labels=y,\n",
    "                                                              logits=logits)\n",
    "    loss = tf.reduce_mean(xentropy, name=\"loss\")\n",
    "\n",
    "with tf.name_scope(\"train\"):\n",
    "    optimizer = tf.train.GradientDescentOptimizer(learning_rate=0.001)\n",
    "    training_op = optimizer.minimize(loss)\n",
    "\n",
    "with tf.name_scope(\"eval\"):\n",
    "    correct = tf.nn.in_top_k(logits, y, 1)\n",
    "    accuracy = tf.reduce_mean(tf.cast(correct, tf.float32))"
   ]
  },
  {
   "cell_type": "code",
   "execution_count": 51,
   "metadata": {},
   "outputs": [
    {
     "name": "stdout",
     "output_type": "stream",
     "text": [
      "0 Train accuracy: 0.137255 Val accuracy: 0.144444\n",
      "50 Train accuracy: 0.803922 Val accuracy: 0.755556\n",
      "100 Train accuracy: 0.813725 Val accuracy: 0.852778\n",
      "150 Train accuracy: 0.921569 Val accuracy: 0.866667\n",
      "200 Train accuracy: 0.921569 Val accuracy: 0.894444\n",
      "250 Train accuracy: 0.931373 Val accuracy: 0.902778\n",
      "300 Train accuracy: 0.95098 Val accuracy: 0.919444\n",
      "350 Train accuracy: 0.911765 Val accuracy: 0.916667\n",
      "400 Train accuracy: 0.931373 Val accuracy: 0.925\n",
      "450 Train accuracy: 0.882353 Val accuracy: 0.936111\n",
      "500 Train accuracy: 0.911765 Val accuracy: 0.930556\n",
      "550 Train accuracy: 0.980392 Val accuracy: 0.944444\n",
      "600 Train accuracy: 0.941176 Val accuracy: 0.930556\n",
      "650 Train accuracy: 0.960784 Val accuracy: 0.933333\n",
      "700 Train accuracy: 0.911765 Val accuracy: 0.930556\n",
      "750 Train accuracy: 0.911765 Val accuracy: 0.944444\n",
      "800 Train accuracy: 0.960784 Val accuracy: 0.955556\n",
      "850 Train accuracy: 0.921569 Val accuracy: 0.936111\n",
      "900 Train accuracy: 0.931373 Val accuracy: 0.938889\n",
      "950 Train accuracy: 0.980392 Val accuracy: 0.933333\n",
      "999 Train accuracy: 0.990196 Val accuracy: 0.955556\n"
     ]
    }
   ],
   "source": [
    "\n",
    "#parameters\n",
    "n_epochs = 1000\n",
    "batch_size = 100\n",
    "n_batches=np.floor(len(x_train)/100)\n",
    "\n",
    "q3epoch=[]\n",
    "q3train=[]\n",
    "q3val=[]\n",
    "init = tf.global_variables_initializer()\n",
    "\n",
    "graph3 = tf.Graph()\n",
    "with tf.Session() as sess3:\n",
    "    \n",
    "    with graph3.as_default():    \n",
    "        init.run()\n",
    "        for epoch in range(n_epochs):\n",
    "            #batching\n",
    "            shuffled_idx = np.random.permutation(len(x_train))  \n",
    "    \n",
    "            x_batches = np.array_split(x_train[shuffled_idx], n_batches)\n",
    "            y_batches = np.array_split(y_train[shuffled_idx], n_batches)\n",
    "            for x_batch, y_batch in zip(x_batches, y_batches):\n",
    "                \n",
    "                sess3.run(training_op, feed_dict={X: x_batch, y: y_batch})\n",
    "            acc_train = accuracy.eval(feed_dict={X: x_batch, y: y_batch},session=sess3)\n",
    "            acc_val = accuracy.eval(feed_dict={X: x_test, y: y_test})\n",
    "            if (epoch%50==0) | (epoch==999):\n",
    "                print(epoch, \"Train accuracy:\", acc_train, \"Val accuracy:\", acc_val)\n",
    "                q3epoch.append(epoch)\n",
    "                q3train.append(acc_train)\n",
    "                q3val.append(acc_val)\n"
   ]
  },
  {
   "cell_type": "code",
   "execution_count": 53,
   "metadata": {},
   "outputs": [
    {
     "data": {
      "text/plain": [
       "'C:/tmp/tf_logs/r20180402000652/'"
      ]
     },
     "execution_count": 53,
     "metadata": {},
     "output_type": "execute_result"
    }
   ],
   "source": [
    "file_writer = tf.summary.FileWriter(logdir, graph3)\n",
    "logdir\n",
    "#tensorboard --logdir="
   ]
  },
  {
   "cell_type": "code",
   "execution_count": 54,
   "metadata": {},
   "outputs": [
    {
     "data": {
      "image/png": "[encoded data removed]",
      "text/plain": [
       "<matplotlib.figure.Figure at 0x19f3228a320>"
      ]
     },
     "metadata": {},
     "output_type": "display_data"
    }
   ],
   "source": [
    "plt.plot(q3epoch,q3train)\n",
    "plt.title('training accuracy')\n",
    "plt.show()"
   ]
  },
  {
   "cell_type": "code",
   "execution_count": 55,
   "metadata": {},
   "outputs": [
    {
     "data": {
      "image/png": "[encoded data removed]",
      "text/plain": [
       "<matplotlib.figure.Figure at 0x19f33ebfba8>"
      ]
     },
     "metadata": {},
     "output_type": "display_data"
    }
   ],
   "source": [
    "plt.plot(q3epoch,q3val)\n",
    "plt.title('validation accuracy')\n",
    "plt.show()"
   ]
  },
  {
   "cell_type": "code",
   "execution_count": null,
   "metadata": {
    "collapsed": true
   },
   "outputs": [],
   "source": []
  }
 ],
 "metadata": {
  "kernelspec": {
   "display_name": "Python 3",
   "language": "python",
   "name": "python3"
  },
  "language_info": {
   "codemirror_mode": {
    "name": "ipython",
    "version": 3
   },
   "file_extension": ".py",
   "mimetype": "text/x-python",
   "name": "python",
   "nbconvert_exporter": "python",
   "pygments_lexer": "ipython3",
   "version": "3.6.3"
  }
 },
 "nbformat": 4,
 "nbformat_minor": 2
}
