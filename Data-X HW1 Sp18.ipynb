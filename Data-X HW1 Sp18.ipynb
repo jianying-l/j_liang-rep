{
 "cells": [
  {
   "cell_type": "markdown",
   "metadata": {},
   "source": [
    "# Homework 1"
   ]
  },
  {
   "cell_type": "markdown",
   "metadata": {},
   "source": [
    "In this homework, you will get a chance to do some exercises with Numpy, Pandas, and Matplotlib to show us your understanding with this libraries. \n",
    "\n",
    "If you have questions, Google! Additionally you can ask your peers questions on Piazza and/or go to Office Hours.\n",
    "\n",
    "This homework is due **Thursday Feb. 8th, 2018 at 11:59 PM**. Please upload your .ipynb to your private repo on Github. Additionally, submit a pdf on bCourses and in the comment section include a link to your private repo.\n",
    "\n",
    "This homework is long, please start early!"
   ]
  },
  {
   "cell_type": "code",
   "execution_count": 2,
   "metadata": {
    "collapsed": true
   },
   "outputs": [],
   "source": [
    "import numpy as np\n",
    "import pandas as pd\n",
    "import matplotlib.pyplot as plt\n",
    "%matplotlib inline"
   ]
  },
  {
   "cell_type": "markdown",
   "metadata": {},
   "source": [
    "## NumPy Basics"
   ]
  },
  {
   "cell_type": "markdown",
   "metadata": {},
   "source": [
    "Create two numpy arrays (`a` and `b`). `a` should be all integers between 10-19 (inclusive), and `b` should be ten evenly spaced numbers between 1-7. Print the results below."
   ]
  },
  {
   "cell_type": "code",
   "execution_count": 3,
   "metadata": {},
   "outputs": [
    {
     "name": "stdout",
     "output_type": "stream",
     "text": [
      "a:  [10 11 12 13 14 15 16 17 18 19]\n",
      "b:  [ 1.          1.66666667  2.33333333  3.          3.66666667  4.33333333\n",
      "  5.          5.66666667  6.33333333  7.        ]\n"
     ]
    }
   ],
   "source": [
    "a =np.array(list(range(10,20)))\n",
    "b =np.array(list(np.linspace(1,7,10)))\n",
    "\n",
    "print(\"a: \", a)\n",
    "print(\"b: \", b)"
   ]
  },
  {
   "cell_type": "markdown",
   "metadata": {},
   "source": [
    "For `a` and `b` above do the follow and print out the results.\n",
    "\n",
    "1. Square all the elements in both arrays (element-wise).  \n",
    "2. Add both the squared arrays (e.g. [1,2] + [3,4] = [4,6]).  \n",
    "3. Sum the elements with even indices of the added array.  \n",
    "4. Take the square root of the added array (element-wise square root)."
   ]
  },
  {
   "cell_type": "code",
   "execution_count": 4,
   "metadata": {},
   "outputs": [
    {
     "name": "stdout",
     "output_type": "stream",
     "text": [
      "1.  [100 121 144 169 196 225 256 289 324 361] [  1.           2.77777778   5.44444444   9.          13.44444444\n",
      "  18.77777778  25.          32.11111111  40.11111111  49.        ]\n",
      "2.  [ 101.          123.77777778  149.44444444  178.          209.44444444\n",
      "  243.77777778  281.          321.11111111  364.11111111  410.        ]\n",
      "3.  588.0\n",
      "4.  [  10201.           15320.9382716    22333.64197531   31684.\n",
      "   43866.97530864   59427.60493827   78961.          103112.34567901\n",
      "  132576.90123457  168100.        ]\n"
     ]
    }
   ],
   "source": [
    "c=a**2\n",
    "d=b**2\n",
    "e=c+d\n",
    "mask=e%2==0\n",
    "f=sum(e[mask])\n",
    "ee=e**2\n",
    "print(\"1. \",c,d)\n",
    "print(\"2. \", e)\n",
    "print(\"3. \",f )\n",
    "print(\"4. \", ee)"
   ]
  },
  {
   "cell_type": "markdown",
   "metadata": {},
   "source": [
    "Append `b` to `a`. Reshape the appended array so that it is a 5x4, 2D-array and store the results in a variable called `m`. Print `m`."
   ]
  },
  {
   "cell_type": "code",
   "execution_count": 5,
   "metadata": {},
   "outputs": [
    {
     "name": "stdout",
     "output_type": "stream",
     "text": [
      "m:  [[ 10.          11.          12.          13.        ]\n",
      " [ 14.          15.          16.          17.        ]\n",
      " [ 18.          19.           1.           1.66666667]\n",
      " [  2.33333333   3.           3.66666667   4.33333333]\n",
      " [  5.           5.66666667   6.33333333   7.        ]]\n"
     ]
    }
   ],
   "source": [
    "m =np.hstack((a,b))\n",
    "m=m.reshape(5,4)\n",
    "\n",
    "print(\"m: \", m)"
   ]
  },
  {
   "cell_type": "markdown",
   "metadata": {},
   "source": [
    "Extract the second and the third column of the matrix `m`. Store the resulting 5x2 matrix in a new variable called `m2`. Print `m2`."
   ]
  },
  {
   "cell_type": "code",
   "execution_count": 6,
   "metadata": {},
   "outputs": [
    {
     "name": "stdout",
     "output_type": "stream",
     "text": [
      "(5, 2)\n",
      "(5, 2)\n",
      "m2:  [[ 11.          12.        ]\n",
      " [ 15.          16.        ]\n",
      " [ 19.           1.        ]\n",
      " [  3.           3.66666667]\n",
      " [  5.66666667   6.33333333]]\n"
     ]
    }
   ],
   "source": [
    "m2 =m[:,[1,2]]\n",
    "m=np.delete(m,[1,2],1)\n",
    "print(m.shape)\n",
    "print(m2.shape)\n",
    "print(\"m2: \", m2)"
   ]
  },
  {
   "cell_type": "markdown",
   "metadata": {},
   "source": [
    "Take the dot product of `m2` and `m` store the results in a matrix called `m3`. Print `m3`.\n",
    "Note that dot product of two matrices $A\\cdot B = A^T B$"
   ]
  },
  {
   "cell_type": "code",
   "execution_count": 7,
   "metadata": {},
   "outputs": [
    {
     "name": "stdout",
     "output_type": "stream",
     "text": [
      "m3:  [[ 697.33333333  482.33333333]\n",
      " [ 402.22222222  489.88888889]]\n"
     ]
    }
   ],
   "source": [
    "m2T=m2.T\n",
    "m3= m2T.dot(m)\n",
    "\n",
    "print(\"m3: \", m3)"
   ]
  },
  {
   "cell_type": "markdown",
   "metadata": {},
   "source": [
    "Round the `m3` matrix to two decimal points. Store the result in place and print the new `m3`."
   ]
  },
  {
   "cell_type": "code",
   "execution_count": 8,
   "metadata": {},
   "outputs": [
    {
     "name": "stdout",
     "output_type": "stream",
     "text": [
      "m3:  [[ 697.33  482.33]\n",
      " [ 402.22  489.89]]\n"
     ]
    }
   ],
   "source": [
    "m3 =np.around(m3,2)\n",
    "\n",
    "print(\"m3: \", m3)"
   ]
  },
  {
   "cell_type": "markdown",
   "metadata": {},
   "source": [
    "Sort the `m3` array so that the highest value is at the top left, the next highest value to the right of the highest, and the lowest value is at the bottom right. Print the sorted `m3` array."
   ]
  },
  {
   "cell_type": "code",
   "execution_count": 9,
   "metadata": {},
   "outputs": [
    {
     "name": "stdout",
     "output_type": "stream",
     "text": [
      "sorted m3:  [[ 697.33  489.89]\n",
      " [ 482.33  402.22]]\n"
     ]
    }
   ],
   "source": [
    "sorted_m3 =m3.ravel()\n",
    "sorted_m3[::-1].sort()\n",
    "sorted_m3=sorted_m3.reshape(2,2)\n",
    "\n",
    "\n",
    "print(\"sorted m3: \", sorted_m3)"
   ]
  },
  {
   "cell_type": "markdown",
   "metadata": {},
   "source": [
    "## NumPy and Masks"
   ]
  },
  {
   "cell_type": "markdown",
   "metadata": {},
   "source": [
    "Create an array called `f` where there are 100 equally-spaced values from 0 to pi, inclusive.\n",
    "Take the sin of the array `f` (element-wise) and store that in place. Print `f`."
   ]
  },
  {
   "cell_type": "code",
   "execution_count": 9,
   "metadata": {},
   "outputs": [
    {
     "name": "stdout",
     "output_type": "stream",
     "text": [
      "f:  [ 0.          0.03173326  0.06346652  0.09519978  0.12693304  0.1586663\n",
      "  0.19039955  0.22213281  0.25386607  0.28559933  0.31733259  0.34906585\n",
      "  0.38079911  0.41253237  0.44426563  0.47599889  0.50773215  0.53946541\n",
      "  0.57119866  0.60293192  0.63466518  0.66639844  0.6981317   0.72986496\n",
      "  0.76159822  0.79333148  0.82506474  0.856798    0.88853126  0.92026451\n",
      "  0.95199777  0.98373103  1.01546429  1.04719755  1.07893081  1.11066407\n",
      "  1.14239733  1.17413059  1.20586385  1.23759711  1.26933037  1.30106362\n",
      "  1.33279688  1.36453014  1.3962634   1.42799666  1.45972992  1.49146318\n",
      "  1.52319644  1.5549297   1.58666296  1.61839622  1.65012947  1.68186273\n",
      "  1.71359599  1.74532925  1.77706251  1.80879577  1.84052903  1.87226229\n",
      "  1.90399555  1.93572881  1.96746207  1.99919533  2.03092858  2.06266184\n",
      "  2.0943951   2.12612836  2.15786162  2.18959488  2.22132814  2.2530614\n",
      "  2.28479466  2.31652792  2.34826118  2.37999443  2.41172769  2.44346095\n",
      "  2.47519421  2.50692747  2.53866073  2.57039399  2.60212725  2.63386051\n",
      "  2.66559377  2.69732703  2.72906028  2.76079354  2.7925268   2.82426006\n",
      "  2.85599332  2.88772658  2.91945984  2.9511931   2.98292636  3.01465962\n",
      "  3.04639288  3.07812614  3.10985939  3.14159265]\n"
     ]
    }
   ],
   "source": [
    "from numpy import pi\n",
    "f = np.linspace(0,pi,100)\n",
    "sinf=np.sin(f)\n",
    "\n",
    "print(\"f: \", f)"
   ]
  },
  {
   "cell_type": "markdown",
   "metadata": {},
   "source": [
    "Use a 'mask' and print an array that is True when `f` >= 1/2 and False when `f` < 1/2.\n",
    "Print an array sequence that has only those values where `f` >= 1/2."
   ]
  },
  {
   "cell_type": "code",
   "execution_count": 10,
   "metadata": {},
   "outputs": [
    {
     "name": "stdout",
     "output_type": "stream",
     "text": [
      "[ 0.50773215  0.53946541  0.57119866  0.60293192  0.63466518  0.66639844\n",
      "  0.6981317   0.72986496  0.76159822  0.79333148  0.82506474  0.856798\n",
      "  0.88853126  0.92026451  0.95199777  0.98373103  1.01546429  1.04719755\n",
      "  1.07893081  1.11066407  1.14239733  1.17413059  1.20586385  1.23759711\n",
      "  1.26933037  1.30106362  1.33279688  1.36453014  1.3962634   1.42799666\n",
      "  1.45972992  1.49146318  1.52319644  1.5549297   1.58666296  1.61839622\n",
      "  1.65012947  1.68186273  1.71359599  1.74532925  1.77706251  1.80879577\n",
      "  1.84052903  1.87226229  1.90399555  1.93572881  1.96746207  1.99919533\n",
      "  2.03092858  2.06266184  2.0943951   2.12612836  2.15786162  2.18959488\n",
      "  2.22132814  2.2530614   2.28479466  2.31652792  2.34826118  2.37999443\n",
      "  2.41172769  2.44346095  2.47519421  2.50692747  2.53866073  2.57039399\n",
      "  2.60212725  2.63386051  2.66559377  2.69732703  2.72906028  2.76079354\n",
      "  2.7925268   2.82426006  2.85599332  2.88772658  2.91945984  2.9511931\n",
      "  2.98292636  3.01465962  3.04639288  3.07812614  3.10985939  3.14159265]\n"
     ]
    }
   ],
   "source": [
    "mask=f>=0.5\n",
    "print(f[mask])"
   ]
  },
  {
   "cell_type": "markdown",
   "metadata": {
    "collapsed": true
   },
   "source": [
    "## NumPy and 2 Variable Prediction"
   ]
  },
  {
   "cell_type": "markdown",
   "metadata": {},
   "source": [
    "Let `x` be the number of miles a person drives per day and `y` be the dollars spent on buying car fuel per day.\n",
    "  \n",
    "We have created 2 numpy arrays each of size 100 that represent `x` and `y`.  \n",
    "`x` (number of miles) ranges from 1 to 10 with a uniform noise of (0, 1/2).  \n",
    "`y` (money spent in dollars) will be from 1 to 20 with a uniform noise (0, 1). \n",
    "\n",
    "Run the cell below."
   ]
  },
  {
   "cell_type": "code",
   "execution_count": 10,
   "metadata": {},
   "outputs": [
    {
     "name": "stdout",
     "output_type": "stream",
     "text": [
      "x =  [  1.34683976   1.12176759   1.51512398   1.55233174   1.40619168\n",
      "   1.65075498   1.79399331   1.80243817   1.89844195   2.00100023\n",
      "   2.3344038    2.22424872   2.24914511   2.36268477   2.49808849\n",
      "   2.8212704    2.68452475   2.68229427   3.09511169   2.95703884\n",
      "   3.09047742   3.2544361    3.41541904   3.40886375   3.50672677\n",
      "   3.74960644   3.64861355   3.7721462    3.56368566   4.01092701\n",
      "   4.15630694   4.06088549   4.02517179   4.25169402   4.15897504\n",
      "   4.26835333   4.32520644   4.48563164   4.78490721   4.84614839\n",
      "   4.96698768   5.18754259   5.29582013   5.32097781   5.0674106\n",
      "   5.47601124   5.46852704   5.64537452   5.49642807   5.89755027\n",
      "   5.68548923   5.76276141   5.94613234   6.18135713   5.96522091\n",
      "   6.0275473    6.54290191   6.4991329    6.74003765   6.81809807\n",
      "   6.50611821   6.91538752   7.01250925   6.89905417   7.31314433\n",
      "   7.20472297   7.1043621    7.48199528   7.58957227   7.61744354\n",
      "   7.6991707    7.85436822   8.03510784   7.80787781   8.22410224\n",
      "   7.99366248   8.40581097   8.28913792   8.45971515   8.54227144\n",
      "   8.6906456    8.61856507   8.83489887   8.66309658   8.94837987\n",
      "   9.20890222   8.9614749    8.92608294   9.13231416   9.55889896\n",
      "   9.61488451   9.54252979   9.42015491   9.90952569  10.00659591\n",
      "  10.02504265  10.07330937   9.93489915  10.0892334   10.36509991]\n",
      "y=  [  1.6635012    2.0214592    2.10816052   2.26016496   1.96287558\n",
      "   2.9554635    3.02881887   3.33565296   2.75465779   3.4250107\n",
      "   3.39670148   3.39377767   3.78503343   4.38293049   4.32963586\n",
      "   4.03925039   4.73691868   4.30098399   4.8416329    4.78175957\n",
      "   4.99765787   5.31746817   5.76844671   5.93723749   5.72811642\n",
      "   6.70973615   6.68143367   6.57482731   7.17737603   7.54863252\n",
      "   7.30221419   7.3202573    7.78023884   7.91133365   8.2765417\n",
      "   8.69203281   8.78219865   8.45897546   8.89094715   8.81719921\n",
      "   8.87106971   9.66192562   9.4020625    9.85990783   9.60359778\n",
      "  10.07386266  10.6957995   10.66721916  11.18256285  10.57431836\n",
      "  11.46744716  10.94398916  11.26445259  12.09754828  12.11988037\n",
      "  12.121557    12.17613693  12.43750193  13.00912372  12.86407194\n",
      "  13.24640866  12.76120085  13.11723062  14.07841099  14.19821707\n",
      "  14.27289001  14.30624942  14.63060835  14.2770918   15.0744923\n",
      "  14.45261619  15.11897313  15.2378667   15.27203124  15.32491892\n",
      "  16.01095271  15.71250558  16.29488506  16.70618934  16.56555394\n",
      "  16.42379457  17.18144744  17.13813976  17.69613625  17.37763019\n",
      "  17.90942839  17.90343733  18.01951169  18.35727914  18.16841269\n",
      "  18.61813748  18.66062754  18.81217983  19.44995194  19.7213867\n",
      "  19.71966726  19.78961904  19.64385088  20.69719809  20.07974319]\n"
     ]
    }
   ],
   "source": [
    "# seed the random number generator with a fixed value\n",
    "np.random.seed(500)\n",
    "\n",
    "x=np.linspace(1,10,100)+ np.random.uniform(low=0,high=.5,size=100) \n",
    "y=np.linspace(1,20,100)+ np.random.uniform(low=0,high=1,size=100)\n",
    "print ('x = ',x)\n",
    "print ('y= ',y)"
   ]
  },
  {
   "cell_type": "markdown",
   "metadata": {},
   "source": [
    "Find the expected value of `x` and the expected value of `y`."
   ]
  },
  {
   "cell_type": "code",
   "execution_count": 11,
   "metadata": {},
   "outputs": [
    {
     "name": "stdout",
     "output_type": "stream",
     "text": [
      "5.78253254159\n",
      "11.0129816833\n"
     ]
    }
   ],
   "source": [
    "ex=x.mean()\n",
    "ey=y.mean()\n",
    "print(ex)\n",
    "print(ey)"
   ]
  },
  {
   "cell_type": "markdown",
   "metadata": {},
   "source": [
    "Find the variance for `x` and `y`."
   ]
  },
  {
   "cell_type": "code",
   "execution_count": 12,
   "metadata": {},
   "outputs": [
    {
     "name": "stdout",
     "output_type": "stream",
     "text": [
      "7.03332752948\n",
      "30.1139035755\n"
     ]
    }
   ],
   "source": [
    "varx=x.var()\n",
    "vary=y.var()\n",
    "print(varx)\n",
    "print(vary)"
   ]
  },
  {
   "cell_type": "markdown",
   "metadata": {},
   "source": [
    "Find the co-variance of `x` and `y`."
   ]
  },
  {
   "cell_type": "code",
   "execution_count": 13,
   "metadata": {},
   "outputs": [
    {
     "name": "stdout",
     "output_type": "stream",
     "text": [
      "14.6577438328\n"
     ]
    }
   ],
   "source": [
    "cov=np.cov(x,y)\n",
    "print(cov[0][1])"
   ]
  },
  {
   "cell_type": "markdown",
   "metadata": {},
   "source": [
    "Assume that the number of dollars spent on car fuel is only linearly dependent on the miles driven.\n",
    "Write code that uses a linear predictor to calculate a predicted value of `y` for each `x`.  \n",
    "\n",
    "i.e. $y_{predicted} = f(x) = mx + b.$"
   ]
  },
  {
   "cell_type": "code",
   "execution_count": 14,
   "metadata": {},
   "outputs": [
    {
     "name": "stdout",
     "output_type": "stream",
     "text": [
      "2.06320071597 -0.917543596587\n"
     ]
    }
   ],
   "source": [
    "mco=np.vstack([x,np.ones(len(x))]).T\n",
    "solm,solb=np.linalg.lstsq(mco,y)[0]\n",
    "print(solm,solb)\n",
    "y_predicted =np.array((solm*x+solb))\n"
   ]
  },
  {
   "cell_type": "markdown",
   "metadata": {},
   "source": [
    "Predict `y` for each value in `x`, put the error into an array called $y_{error}$."
   ]
  },
  {
   "cell_type": "code",
   "execution_count": 15,
   "metadata": {},
   "outputs": [],
   "source": [
    "y_error = y-y_predicted"
   ]
  },
  {
   "cell_type": "markdown",
   "metadata": {},
   "source": [
    "Write code that calculates the root mean square error (RMSE)."
   ]
  },
  {
   "cell_type": "code",
   "execution_count": 16,
   "metadata": {},
   "outputs": [
    {
     "name": "stdout",
     "output_type": "stream",
     "text": [
      "0.417677723669\n"
     ]
    }
   ],
   "source": [
    "rmse =((np.sum(y_error**2))/len(y_error))**0.5\n",
    "print(rmse)"
   ]
  },
  {
   "cell_type": "markdown",
   "metadata": {},
   "source": [
    "## Pandas"
   ]
  },
  {
   "cell_type": "markdown",
   "metadata": {},
   "source": [
    "### Reading a File"
   ]
  },
  {
   "cell_type": "markdown",
   "metadata": {},
   "source": [
    "Read in a CSV file called 'data3.csv' into a dataframe called df.\n",
    "\n",
    "Data description\n",
    "* Data source: http://www.fao.org/nr/water/aquastat/data/query/index.html\n",
    "* Data, units\n",
    "    * GDP, current USD (CPI adjusted)\n",
    "    * NRI, mm/yr\n",
    "    * Population density, inhab/km^2\n",
    "    * Total area of the country, 1000 ha = 10km^2\n",
    "    * Total Population, unit 1000 inhabitants\n",
    "\n",
    "Display the first 10 lines of the dataframe."
   ]
  },
  {
   "cell_type": "code",
   "execution_count": 17,
   "metadata": {
    "collapsed": true
   },
   "outputs": [],
   "source": [
    "df =pd.read_csv('data3.csv')"
   ]
  },
  {
   "cell_type": "markdown",
   "metadata": {},
   "source": [
    "Display the column names."
   ]
  },
  {
   "cell_type": "code",
   "execution_count": 18,
   "metadata": {},
   "outputs": [
    {
     "data": {
      "text/plain": [
       "Index(['Area', 'Area Id', 'Variable Name', 'Variable Id', 'Year', 'Value',\n",
       "       'Symbol', 'Md'],\n",
       "      dtype='object')"
      ]
     },
     "execution_count": 18,
     "metadata": {},
     "output_type": "execute_result"
    }
   ],
   "source": [
    "df.columns"
   ]
  },
  {
   "cell_type": "markdown",
   "metadata": {},
   "source": [
    "### Data Preprocessing"
   ]
  },
  {
   "cell_type": "markdown",
   "metadata": {},
   "source": [
    "Create a mask of NAN values (i.e. apply `.isnull` on the dataframe). Inspect the mask for 'True' values, they denote NANs.  \n",
    "*Hint: You will notice that the last 8 rows and the last column ('Other') have NAN values. You can also use df.tail() to see the last row.*\n",
    "\n",
    "Remove the bottom 8 rows from the dataframe because they contain NAN values. Also remove the column 'Other'."
   ]
  },
  {
   "cell_type": "code",
   "execution_count": 19,
   "metadata": {},
   "outputs": [],
   "source": [
    "mask=df.isnull()\n",
    "df=df.drop(range(390,398),axis=0)\n",
    "df=df.drop('Md',axis=1)\n"
   ]
  },
  {
   "cell_type": "markdown",
   "metadata": {},
   "source": [
    "All the columns in our dataframe are not required for analysis. Drop these columns: `Area Id`, `Variable Id`, and `Symbol` and save the new dataframe as `df1`.  "
   ]
  },
  {
   "cell_type": "code",
   "execution_count": 34,
   "metadata": {
    "collapsed": true
   },
   "outputs": [],
   "source": [
    "df1 = df.drop(['Area Id','Variable Id','Symbol'],axis=1)"
   ]
  },
  {
   "cell_type": "markdown",
   "metadata": {},
   "source": [
    "Display all the unique values in your new dataframe for these columns: `Area`, `Variable Name`, and `Year`.  \n",
    "\n",
    "Note the Countries and the Metrics (ie.recorded variables) represented in your dataset.\n",
    "*Hint: Use .unique( ) method.*"
   ]
  },
  {
   "cell_type": "code",
   "execution_count": 40,
   "metadata": {},
   "outputs": [
    {
     "name": "stdout",
     "output_type": "stream",
     "text": [
      "['Argentina' 'Australia' 'Germany' 'Iceland' 'Ireland' 'Sweden'\n",
      " 'United States of America']\n",
      "['Total area of the country' 'Total population' 'Population density'\n",
      " 'Gross Domestic Product (GDP)' 'National Rainfall Index (NRI)']\n",
      "[ 1962.  1967.  1972.  1977.  1982.  1987.  1992.  1997.  2002.  2007.\n",
      "  2012.  2014.  2015.  1963.  1970.  1974.  1978.  1984.  1990.  1964.\n",
      "  1981.  1985.  1996.  2001.  1969.  1973.  1979.  1993.  1971.  1975.\n",
      "  1986.  1991.  1998.  2000.  1965.  1983.  1988.  1995.]\n"
     ]
    }
   ],
   "source": [
    "print(pd.unique(df1['Area']))\n",
    "print(pd.unique(df1['Variable Name']))\n",
    "print(pd.unique(df1['Year']))"
   ]
  },
  {
   "cell_type": "markdown",
   "metadata": {},
   "source": [
    "Convert the `Year` column string values to pandas datetime objects, where only the year is specified.  \n",
    "*Hint: df1['Year'] = pd.to_datetime(pd.Series(df1['Year']).astype(int),format='%Y').dt.year*\n",
    "\n",
    "Run df1.tail() to see part of the result."
   ]
  },
  {
   "cell_type": "code",
   "execution_count": 41,
   "metadata": {},
   "outputs": [
    {
     "data": {
      "text/html": [
       "<div>\n",
       "<style>\n",
       "    .dataframe thead tr:only-child th {\n",
       "        text-align: right;\n",
       "    }\n",
       "\n",
       "    .dataframe thead th {\n",
       "        text-align: left;\n",
       "    }\n",
       "\n",
       "    .dataframe tbody tr th {\n",
       "        vertical-align: top;\n",
       "    }\n",
       "</style>\n",
       "<table border=\"1\" class=\"dataframe\">\n",
       "  <thead>\n",
       "    <tr style=\"text-align: right;\">\n",
       "      <th></th>\n",
       "      <th>Area</th>\n",
       "      <th>Variable Name</th>\n",
       "      <th>Year</th>\n",
       "      <th>Value</th>\n",
       "    </tr>\n",
       "  </thead>\n",
       "  <tbody>\n",
       "    <tr>\n",
       "      <th>385</th>\n",
       "      <td>United States of America</td>\n",
       "      <td>National Rainfall Index (NRI)</td>\n",
       "      <td>1981</td>\n",
       "      <td>949.2</td>\n",
       "    </tr>\n",
       "    <tr>\n",
       "      <th>386</th>\n",
       "      <td>United States of America</td>\n",
       "      <td>National Rainfall Index (NRI)</td>\n",
       "      <td>1984</td>\n",
       "      <td>974.6</td>\n",
       "    </tr>\n",
       "    <tr>\n",
       "      <th>387</th>\n",
       "      <td>United States of America</td>\n",
       "      <td>National Rainfall Index (NRI)</td>\n",
       "      <td>1992</td>\n",
       "      <td>1020.0</td>\n",
       "    </tr>\n",
       "    <tr>\n",
       "      <th>388</th>\n",
       "      <td>United States of America</td>\n",
       "      <td>National Rainfall Index (NRI)</td>\n",
       "      <td>1996</td>\n",
       "      <td>1005.0</td>\n",
       "    </tr>\n",
       "    <tr>\n",
       "      <th>389</th>\n",
       "      <td>United States of America</td>\n",
       "      <td>National Rainfall Index (NRI)</td>\n",
       "      <td>2002</td>\n",
       "      <td>938.7</td>\n",
       "    </tr>\n",
       "  </tbody>\n",
       "</table>\n",
       "</div>"
      ],
      "text/plain": [
       "                         Area                  Variable Name  Year   Value\n",
       "385  United States of America  National Rainfall Index (NRI)  1981   949.2\n",
       "386  United States of America  National Rainfall Index (NRI)  1984   974.6\n",
       "387  United States of America  National Rainfall Index (NRI)  1992  1020.0\n",
       "388  United States of America  National Rainfall Index (NRI)  1996  1005.0\n",
       "389  United States of America  National Rainfall Index (NRI)  2002   938.7"
      ]
     },
     "execution_count": 41,
     "metadata": {},
     "output_type": "execute_result"
    }
   ],
   "source": [
    "df1['Year'] = pd.to_datetime(pd.Series(df1['Year']).astype(int),format='%Y').dt.year\n",
    "df1.tail()"
   ]
  },
  {
   "cell_type": "markdown",
   "metadata": {},
   "source": [
    "### Extracting Statistics"
   ]
  },
  {
   "cell_type": "markdown",
   "metadata": {},
   "source": [
    "Create a dataframe 'dftemp' to store rows where the `Area` is `Iceland`."
   ]
  },
  {
   "cell_type": "code",
   "execution_count": 48,
   "metadata": {
    "collapsed": true
   },
   "outputs": [],
   "source": [
    "dftemp = df1[df1['Area']=='Iceland']"
   ]
  },
  {
   "cell_type": "markdown",
   "metadata": {},
   "source": [
    "Print the years when the National Rainfall Index (NRI) was `> 950` or `< 900` in Iceland using the dataframe you created in the previous question."
   ]
  },
  {
   "cell_type": "code",
   "execution_count": 51,
   "metadata": {},
   "outputs": [
    {
     "name": "stdout",
     "output_type": "stream",
     "text": [
      "166    1962\n",
      "167    1967\n",
      "168    1972\n",
      "169    1977\n",
      "170    1982\n",
      "171    1987\n",
      "172    1992\n",
      "173    1997\n",
      "174    2002\n",
      "175    2007\n",
      "176    2012\n",
      "177    2014\n",
      "178    1962\n",
      "179    1967\n",
      "180    1972\n",
      "181    1977\n",
      "182    1982\n",
      "183    1987\n",
      "184    1992\n",
      "185    1997\n",
      "186    2002\n",
      "187    2007\n",
      "188    2012\n",
      "189    2015\n",
      "190    1962\n",
      "191    1967\n",
      "192    1972\n",
      "193    1977\n",
      "194    1982\n",
      "195    1987\n",
      "196    1992\n",
      "197    1997\n",
      "198    2002\n",
      "199    2007\n",
      "200    2012\n",
      "201    2015\n",
      "202    1962\n",
      "203    1967\n",
      "204    1972\n",
      "205    1977\n",
      "206    1982\n",
      "207    1987\n",
      "208    1992\n",
      "209    1997\n",
      "210    2002\n",
      "211    2007\n",
      "212    2012\n",
      "213    2015\n",
      "214    1967\n",
      "215    1971\n",
      "216    1975\n",
      "217    1981\n",
      "218    1986\n",
      "219    1991\n",
      "220    1997\n",
      "221    1998\n",
      "Name: Year, dtype: int64\n"
     ]
    }
   ],
   "source": [
    "print(dftemp['Year'][(dftemp['Year']>950) | (dftemp['Year']<900)])"
   ]
  },
  {
   "cell_type": "markdown",
   "metadata": {},
   "source": [
    "Get all the rows of df1 (from the preprocessed data section of this notebook) where the `Area` is `United States of America` and store that into a new dataframe called `df_usa`. Set the indices of the this dataframe to be the `Year` column.  \n",
    "*Hint: Use .set_index()*"
   ]
  },
  {
   "cell_type": "code",
   "execution_count": 68,
   "metadata": {},
   "outputs": [
    {
     "data": {
      "text/html": [
       "<div>\n",
       "<style>\n",
       "    .dataframe thead tr:only-child th {\n",
       "        text-align: right;\n",
       "    }\n",
       "\n",
       "    .dataframe thead th {\n",
       "        text-align: left;\n",
       "    }\n",
       "\n",
       "    .dataframe tbody tr th {\n",
       "        vertical-align: top;\n",
       "    }\n",
       "</style>\n",
       "<table border=\"1\" class=\"dataframe\">\n",
       "  <thead>\n",
       "    <tr style=\"text-align: right;\">\n",
       "      <th></th>\n",
       "      <th>Area</th>\n",
       "      <th>Variable Name</th>\n",
       "      <th>Year</th>\n",
       "      <th>Value</th>\n",
       "    </tr>\n",
       "    <tr>\n",
       "      <th>Year</th>\n",
       "      <th></th>\n",
       "      <th></th>\n",
       "      <th></th>\n",
       "      <th></th>\n",
       "    </tr>\n",
       "  </thead>\n",
       "  <tbody>\n",
       "    <tr>\n",
       "      <th>1962</th>\n",
       "      <td>United States of America</td>\n",
       "      <td>Total area of the country</td>\n",
       "      <td>1962</td>\n",
       "      <td>962909.0</td>\n",
       "    </tr>\n",
       "    <tr>\n",
       "      <th>1967</th>\n",
       "      <td>United States of America</td>\n",
       "      <td>Total area of the country</td>\n",
       "      <td>1967</td>\n",
       "      <td>962909.0</td>\n",
       "    </tr>\n",
       "    <tr>\n",
       "      <th>1972</th>\n",
       "      <td>United States of America</td>\n",
       "      <td>Total area of the country</td>\n",
       "      <td>1972</td>\n",
       "      <td>962909.0</td>\n",
       "    </tr>\n",
       "    <tr>\n",
       "      <th>1977</th>\n",
       "      <td>United States of America</td>\n",
       "      <td>Total area of the country</td>\n",
       "      <td>1977</td>\n",
       "      <td>962909.0</td>\n",
       "    </tr>\n",
       "    <tr>\n",
       "      <th>1982</th>\n",
       "      <td>United States of America</td>\n",
       "      <td>Total area of the country</td>\n",
       "      <td>1982</td>\n",
       "      <td>962909.0</td>\n",
       "    </tr>\n",
       "  </tbody>\n",
       "</table>\n",
       "</div>"
      ],
      "text/plain": [
       "                          Area              Variable Name  Year     Value\n",
       "Year                                                                     \n",
       "1962  United States of America  Total area of the country  1962  962909.0\n",
       "1967  United States of America  Total area of the country  1967  962909.0\n",
       "1972  United States of America  Total area of the country  1972  962909.0\n",
       "1977  United States of America  Total area of the country  1977  962909.0\n",
       "1982  United States of America  Total area of the country  1982  962909.0"
      ]
     },
     "execution_count": 68,
     "metadata": {},
     "output_type": "execute_result"
    }
   ],
   "source": [
    "df_usa =df1[df1['Area']=='United States of America']\n",
    "df_usa=df_usa.set_index(df_usa['Year'])\n",
    "df_usa.head()"
   ]
  },
  {
   "cell_type": "markdown",
   "metadata": {},
   "source": [
    "Pivot the dataframe so that the unique `Variable Name` entries become the column entries. The dataframe values should be the ones in the `Value` column. Do this by running the lines of code below."
   ]
  },
  {
   "cell_type": "code",
   "execution_count": 69,
   "metadata": {},
   "outputs": [
    {
     "data": {
      "text/html": [
       "<div>\n",
       "<style>\n",
       "    .dataframe thead tr:only-child th {\n",
       "        text-align: right;\n",
       "    }\n",
       "\n",
       "    .dataframe thead th {\n",
       "        text-align: left;\n",
       "    }\n",
       "\n",
       "    .dataframe tbody tr th {\n",
       "        vertical-align: top;\n",
       "    }\n",
       "</style>\n",
       "<table border=\"1\" class=\"dataframe\">\n",
       "  <thead>\n",
       "    <tr style=\"text-align: right;\">\n",
       "      <th>Variable Name</th>\n",
       "      <th>Gross Domestic Product (GDP)</th>\n",
       "      <th>National Rainfall Index (NRI)</th>\n",
       "      <th>Population density</th>\n",
       "      <th>Total area of the country</th>\n",
       "      <th>Total population</th>\n",
       "    </tr>\n",
       "    <tr>\n",
       "      <th>Year</th>\n",
       "      <th></th>\n",
       "      <th></th>\n",
       "      <th></th>\n",
       "      <th></th>\n",
       "      <th></th>\n",
       "    </tr>\n",
       "  </thead>\n",
       "  <tbody>\n",
       "    <tr>\n",
       "      <th>1962</th>\n",
       "      <td>6.050000e+11</td>\n",
       "      <td>NaN</td>\n",
       "      <td>19.93</td>\n",
       "      <td>962909.0</td>\n",
       "      <td>191861.0</td>\n",
       "    </tr>\n",
       "    <tr>\n",
       "      <th>1965</th>\n",
       "      <td>NaN</td>\n",
       "      <td>928.5</td>\n",
       "      <td>NaN</td>\n",
       "      <td>NaN</td>\n",
       "      <td>NaN</td>\n",
       "    </tr>\n",
       "    <tr>\n",
       "      <th>1967</th>\n",
       "      <td>8.620000e+11</td>\n",
       "      <td>NaN</td>\n",
       "      <td>21.16</td>\n",
       "      <td>962909.0</td>\n",
       "      <td>203713.0</td>\n",
       "    </tr>\n",
       "    <tr>\n",
       "      <th>1969</th>\n",
       "      <td>NaN</td>\n",
       "      <td>952.2</td>\n",
       "      <td>NaN</td>\n",
       "      <td>NaN</td>\n",
       "      <td>NaN</td>\n",
       "    </tr>\n",
       "    <tr>\n",
       "      <th>1972</th>\n",
       "      <td>1.280000e+12</td>\n",
       "      <td>NaN</td>\n",
       "      <td>22.14</td>\n",
       "      <td>962909.0</td>\n",
       "      <td>213220.0</td>\n",
       "    </tr>\n",
       "  </tbody>\n",
       "</table>\n",
       "</div>"
      ],
      "text/plain": [
       "Variable Name  Gross Domestic Product (GDP)  National Rainfall Index (NRI)  \\\n",
       "Year                                                                         \n",
       "1962                           6.050000e+11                            NaN   \n",
       "1965                                    NaN                          928.5   \n",
       "1967                           8.620000e+11                            NaN   \n",
       "1969                                    NaN                          952.2   \n",
       "1972                           1.280000e+12                            NaN   \n",
       "\n",
       "Variable Name  Population density  Total area of the country  Total population  \n",
       "Year                                                                            \n",
       "1962                        19.93                   962909.0          191861.0  \n",
       "1965                          NaN                        NaN               NaN  \n",
       "1967                        21.16                   962909.0          203713.0  \n",
       "1969                          NaN                        NaN               NaN  \n",
       "1972                        22.14                   962909.0          213220.0  "
      ]
     },
     "execution_count": 69,
     "metadata": {},
     "output_type": "execute_result"
    }
   ],
   "source": [
    "df_usa=df_usa.pivot(columns='Variable Name',values='Value')\n",
    "df_usa.head()"
   ]
  },
  {
   "cell_type": "markdown",
   "metadata": {},
   "source": [
    "Rename the corresponding columns to ['GDP','NRI','PD','Area','Population']."
   ]
  },
  {
   "cell_type": "code",
   "execution_count": 70,
   "metadata": {},
   "outputs": [
    {
     "data": {
      "text/html": [
       "<div>\n",
       "<style>\n",
       "    .dataframe thead tr:only-child th {\n",
       "        text-align: right;\n",
       "    }\n",
       "\n",
       "    .dataframe thead th {\n",
       "        text-align: left;\n",
       "    }\n",
       "\n",
       "    .dataframe tbody tr th {\n",
       "        vertical-align: top;\n",
       "    }\n",
       "</style>\n",
       "<table border=\"1\" class=\"dataframe\">\n",
       "  <thead>\n",
       "    <tr style=\"text-align: right;\">\n",
       "      <th>Variable Name</th>\n",
       "      <th>GDP</th>\n",
       "      <th>NRI</th>\n",
       "      <th>PD</th>\n",
       "      <th>Area</th>\n",
       "      <th>Population</th>\n",
       "    </tr>\n",
       "    <tr>\n",
       "      <th>Year</th>\n",
       "      <th></th>\n",
       "      <th></th>\n",
       "      <th></th>\n",
       "      <th></th>\n",
       "      <th></th>\n",
       "    </tr>\n",
       "  </thead>\n",
       "  <tbody>\n",
       "    <tr>\n",
       "      <th>1962</th>\n",
       "      <td>6.050000e+11</td>\n",
       "      <td>NaN</td>\n",
       "      <td>19.93</td>\n",
       "      <td>962909.0</td>\n",
       "      <td>191861.0</td>\n",
       "    </tr>\n",
       "    <tr>\n",
       "      <th>1965</th>\n",
       "      <td>NaN</td>\n",
       "      <td>928.5</td>\n",
       "      <td>NaN</td>\n",
       "      <td>NaN</td>\n",
       "      <td>NaN</td>\n",
       "    </tr>\n",
       "    <tr>\n",
       "      <th>1967</th>\n",
       "      <td>8.620000e+11</td>\n",
       "      <td>NaN</td>\n",
       "      <td>21.16</td>\n",
       "      <td>962909.0</td>\n",
       "      <td>203713.0</td>\n",
       "    </tr>\n",
       "    <tr>\n",
       "      <th>1969</th>\n",
       "      <td>NaN</td>\n",
       "      <td>952.2</td>\n",
       "      <td>NaN</td>\n",
       "      <td>NaN</td>\n",
       "      <td>NaN</td>\n",
       "    </tr>\n",
       "    <tr>\n",
       "      <th>1972</th>\n",
       "      <td>1.280000e+12</td>\n",
       "      <td>NaN</td>\n",
       "      <td>22.14</td>\n",
       "      <td>962909.0</td>\n",
       "      <td>213220.0</td>\n",
       "    </tr>\n",
       "  </tbody>\n",
       "</table>\n",
       "</div>"
      ],
      "text/plain": [
       "Variable Name           GDP    NRI     PD      Area  Population\n",
       "Year                                                           \n",
       "1962           6.050000e+11    NaN  19.93  962909.0    191861.0\n",
       "1965                    NaN  928.5    NaN       NaN         NaN\n",
       "1967           8.620000e+11    NaN  21.16  962909.0    203713.0\n",
       "1969                    NaN  952.2    NaN       NaN         NaN\n",
       "1972           1.280000e+12    NaN  22.14  962909.0    213220.0"
      ]
     },
     "execution_count": 70,
     "metadata": {},
     "output_type": "execute_result"
    }
   ],
   "source": [
    "df_usa = df_usa.rename(columns = {'Gross Domestic Product (GDP)':'GDP','National Rainfall Index (NRI)':'NRI',\n",
    "                                 'Population density':'PD','Total area of the country':'Area','Total population':'Population'})\n",
    "df_usa.head()"
   ]
  },
  {
   "cell_type": "markdown",
   "metadata": {},
   "source": [
    "Print the output of `df_usa.isnull().sum()`. This gives us the number of NAN values in each column. Replace the NAN values by 0, using `df_usa=df_usa.fillna(0)`. Print the output of `df_usa.isnull().sum()` again."
   ]
  },
  {
   "cell_type": "code",
   "execution_count": 71,
   "metadata": {},
   "outputs": [
    {
     "name": "stdout",
     "output_type": "stream",
     "text": [
      "Number of NAN values before:  Variable Name\n",
      "GDP            7\n",
      "NRI           11\n",
      "PD             7\n",
      "Area           7\n",
      "Population     7\n",
      "dtype: int64\n",
      "Number of NAN values after:  Variable Name\n",
      "GDP           0\n",
      "NRI           0\n",
      "PD            0\n",
      "Area          0\n",
      "Population    0\n",
      "dtype: int64\n"
     ]
    }
   ],
   "source": [
    "print(\"Number of NAN values before: \", df_usa.isnull().sum())\n",
    "df_usa=df_usa.fillna(0)\n",
    "print(\"Number of NAN values after: \", df_usa.isnull().sum())"
   ]
  },
  {
   "cell_type": "markdown",
   "metadata": {},
   "source": [
    "Calculate and print all the column averages and the column standard deviations."
   ]
  },
  {
   "cell_type": "code",
   "execution_count": 73,
   "metadata": {},
   "outputs": [
    {
     "name": "stdout",
     "output_type": "stream",
     "text": [
      "mean: \n",
      " Variable Name\n",
      "GDP           4.620895e+12\n",
      "NRI           4.092737e+02\n",
      "PD            1.670158e+01\n",
      "Area          6.103147e+05\n",
      "Population    1.615134e+05\n",
      "dtype: float64\n",
      "Standard deviation: \n",
      " Variable Name\n",
      "GDP           6.088656e+12\n",
      "NRI           4.935515e+02\n",
      "PD            1.355462e+01\n",
      "Area          4.789482e+05\n",
      "Population    1.313805e+05\n",
      "dtype: float64\n"
     ]
    }
   ],
   "source": [
    "print(\"mean: \\n\",df_usa.mean())\n",
    "print(\"Standard deviation: \\n\",df_usa.std())"
   ]
  },
  {
   "cell_type": "markdown",
   "metadata": {},
   "source": [
    "Using the `df_usa` dataframe, multiply the `Area` by 10 (so instead of 1000 ha, the unit becomes 100 ha = 1km^2). Store the result in place."
   ]
  },
  {
   "cell_type": "code",
   "execution_count": 75,
   "metadata": {},
   "outputs": [
    {
     "data": {
      "text/html": [
       "<div>\n",
       "<style>\n",
       "    .dataframe thead tr:only-child th {\n",
       "        text-align: right;\n",
       "    }\n",
       "\n",
       "    .dataframe thead th {\n",
       "        text-align: left;\n",
       "    }\n",
       "\n",
       "    .dataframe tbody tr th {\n",
       "        vertical-align: top;\n",
       "    }\n",
       "</style>\n",
       "<table border=\"1\" class=\"dataframe\">\n",
       "  <thead>\n",
       "    <tr style=\"text-align: right;\">\n",
       "      <th>Variable Name</th>\n",
       "      <th>GDP</th>\n",
       "      <th>NRI</th>\n",
       "      <th>PD</th>\n",
       "      <th>Area</th>\n",
       "      <th>Population</th>\n",
       "    </tr>\n",
       "    <tr>\n",
       "      <th>Year</th>\n",
       "      <th></th>\n",
       "      <th></th>\n",
       "      <th></th>\n",
       "      <th></th>\n",
       "      <th></th>\n",
       "    </tr>\n",
       "  </thead>\n",
       "  <tbody>\n",
       "    <tr>\n",
       "      <th>1962</th>\n",
       "      <td>6.050000e+11</td>\n",
       "      <td>0.0</td>\n",
       "      <td>19.93</td>\n",
       "      <td>9629090.0</td>\n",
       "      <td>191861.0</td>\n",
       "    </tr>\n",
       "    <tr>\n",
       "      <th>1965</th>\n",
       "      <td>0.000000e+00</td>\n",
       "      <td>928.5</td>\n",
       "      <td>0.00</td>\n",
       "      <td>0.0</td>\n",
       "      <td>0.0</td>\n",
       "    </tr>\n",
       "    <tr>\n",
       "      <th>1967</th>\n",
       "      <td>8.620000e+11</td>\n",
       "      <td>0.0</td>\n",
       "      <td>21.16</td>\n",
       "      <td>9629090.0</td>\n",
       "      <td>203713.0</td>\n",
       "    </tr>\n",
       "    <tr>\n",
       "      <th>1969</th>\n",
       "      <td>0.000000e+00</td>\n",
       "      <td>952.2</td>\n",
       "      <td>0.00</td>\n",
       "      <td>0.0</td>\n",
       "      <td>0.0</td>\n",
       "    </tr>\n",
       "    <tr>\n",
       "      <th>1972</th>\n",
       "      <td>1.280000e+12</td>\n",
       "      <td>0.0</td>\n",
       "      <td>22.14</td>\n",
       "      <td>9629090.0</td>\n",
       "      <td>213220.0</td>\n",
       "    </tr>\n",
       "  </tbody>\n",
       "</table>\n",
       "</div>"
      ],
      "text/plain": [
       "Variable Name           GDP    NRI     PD       Area  Population\n",
       "Year                                                            \n",
       "1962           6.050000e+11    0.0  19.93  9629090.0    191861.0\n",
       "1965           0.000000e+00  928.5   0.00        0.0         0.0\n",
       "1967           8.620000e+11    0.0  21.16  9629090.0    203713.0\n",
       "1969           0.000000e+00  952.2   0.00        0.0         0.0\n",
       "1972           1.280000e+12    0.0  22.14  9629090.0    213220.0"
      ]
     },
     "execution_count": 75,
     "metadata": {},
     "output_type": "execute_result"
    }
   ],
   "source": [
    "area=df_usa['Area']*10\n",
    "df_usa['Area']=area\n",
    "df_usa.head()"
   ]
  },
  {
   "cell_type": "markdown",
   "metadata": {},
   "source": [
    "Create a new column in `df_usa` called `GDP/capita` and populate it with the calculated GDP per capita. Round the results to two decimal points. Store the result in place."
   ]
  },
  {
   "cell_type": "code",
   "execution_count": 80,
   "metadata": {},
   "outputs": [
    {
     "data": {
      "text/html": [
       "<div>\n",
       "<style>\n",
       "    .dataframe thead tr:only-child th {\n",
       "        text-align: right;\n",
       "    }\n",
       "\n",
       "    .dataframe thead th {\n",
       "        text-align: left;\n",
       "    }\n",
       "\n",
       "    .dataframe tbody tr th {\n",
       "        vertical-align: top;\n",
       "    }\n",
       "</style>\n",
       "<table border=\"1\" class=\"dataframe\">\n",
       "  <thead>\n",
       "    <tr style=\"text-align: right;\">\n",
       "      <th>Variable Name</th>\n",
       "      <th>GDP</th>\n",
       "      <th>NRI</th>\n",
       "      <th>PD</th>\n",
       "      <th>Area</th>\n",
       "      <th>Population</th>\n",
       "      <th>GDP/capita</th>\n",
       "    </tr>\n",
       "    <tr>\n",
       "      <th>Year</th>\n",
       "      <th></th>\n",
       "      <th></th>\n",
       "      <th></th>\n",
       "      <th></th>\n",
       "      <th></th>\n",
       "      <th></th>\n",
       "    </tr>\n",
       "  </thead>\n",
       "  <tbody>\n",
       "    <tr>\n",
       "      <th>1962</th>\n",
       "      <td>6.050000e+11</td>\n",
       "      <td>0.0</td>\n",
       "      <td>19.93</td>\n",
       "      <td>9629090.0</td>\n",
       "      <td>191861.0</td>\n",
       "      <td>3.153325e+06</td>\n",
       "    </tr>\n",
       "    <tr>\n",
       "      <th>1965</th>\n",
       "      <td>0.000000e+00</td>\n",
       "      <td>928.5</td>\n",
       "      <td>0.00</td>\n",
       "      <td>0.0</td>\n",
       "      <td>0.0</td>\n",
       "      <td>NaN</td>\n",
       "    </tr>\n",
       "    <tr>\n",
       "      <th>1967</th>\n",
       "      <td>8.620000e+11</td>\n",
       "      <td>0.0</td>\n",
       "      <td>21.16</td>\n",
       "      <td>9629090.0</td>\n",
       "      <td>203713.0</td>\n",
       "      <td>4.231443e+06</td>\n",
       "    </tr>\n",
       "    <tr>\n",
       "      <th>1969</th>\n",
       "      <td>0.000000e+00</td>\n",
       "      <td>952.2</td>\n",
       "      <td>0.00</td>\n",
       "      <td>0.0</td>\n",
       "      <td>0.0</td>\n",
       "      <td>NaN</td>\n",
       "    </tr>\n",
       "    <tr>\n",
       "      <th>1972</th>\n",
       "      <td>1.280000e+12</td>\n",
       "      <td>0.0</td>\n",
       "      <td>22.14</td>\n",
       "      <td>9629090.0</td>\n",
       "      <td>213220.0</td>\n",
       "      <td>6.003189e+06</td>\n",
       "    </tr>\n",
       "  </tbody>\n",
       "</table>\n",
       "</div>"
      ],
      "text/plain": [
       "Variable Name           GDP    NRI     PD       Area  Population    GDP/capita\n",
       "Year                                                                          \n",
       "1962           6.050000e+11    0.0  19.93  9629090.0    191861.0  3.153325e+06\n",
       "1965           0.000000e+00  928.5   0.00        0.0         0.0           NaN\n",
       "1967           8.620000e+11    0.0  21.16  9629090.0    203713.0  4.231443e+06\n",
       "1969           0.000000e+00  952.2   0.00        0.0         0.0           NaN\n",
       "1972           1.280000e+12    0.0  22.14  9629090.0    213220.0  6.003189e+06"
      ]
     },
     "execution_count": 80,
     "metadata": {},
     "output_type": "execute_result"
    }
   ],
   "source": [
    "Gc=df_usa['GDP']/df_usa['Population']\n",
    "df_usa['GDP/capita']=Gc\n",
    "df_usa.head()"
   ]
  },
  {
   "cell_type": "markdown",
   "metadata": {},
   "source": [
    "Create a new column in `df_usa` called `PD2` (i.e. population density 2). Calculate the population density. **Note: the units should be inhab/km^2**. Round the reults to two decimal point. Store the result in place."
   ]
  },
  {
   "cell_type": "code",
   "execution_count": 95,
   "metadata": {},
   "outputs": [
    {
     "data": {
      "text/html": [
       "<div>\n",
       "<style>\n",
       "    .dataframe thead tr:only-child th {\n",
       "        text-align: right;\n",
       "    }\n",
       "\n",
       "    .dataframe thead th {\n",
       "        text-align: left;\n",
       "    }\n",
       "\n",
       "    .dataframe tbody tr th {\n",
       "        vertical-align: top;\n",
       "    }\n",
       "</style>\n",
       "<table border=\"1\" class=\"dataframe\">\n",
       "  <thead>\n",
       "    <tr style=\"text-align: right;\">\n",
       "      <th>Variable Name</th>\n",
       "      <th>GDP</th>\n",
       "      <th>NRI</th>\n",
       "      <th>PD</th>\n",
       "      <th>Area</th>\n",
       "      <th>Population</th>\n",
       "      <th>GDP/capita</th>\n",
       "      <th>PD2</th>\n",
       "    </tr>\n",
       "    <tr>\n",
       "      <th>Year</th>\n",
       "      <th></th>\n",
       "      <th></th>\n",
       "      <th></th>\n",
       "      <th></th>\n",
       "      <th></th>\n",
       "      <th></th>\n",
       "      <th></th>\n",
       "    </tr>\n",
       "  </thead>\n",
       "  <tbody>\n",
       "    <tr>\n",
       "      <th>1962</th>\n",
       "      <td>6.050000e+11</td>\n",
       "      <td>0.0</td>\n",
       "      <td>19.93</td>\n",
       "      <td>9629090.0</td>\n",
       "      <td>191861.0</td>\n",
       "      <td>3.153325e+06</td>\n",
       "      <td>0.019925</td>\n",
       "    </tr>\n",
       "    <tr>\n",
       "      <th>1965</th>\n",
       "      <td>0.000000e+00</td>\n",
       "      <td>928.5</td>\n",
       "      <td>0.00</td>\n",
       "      <td>0.0</td>\n",
       "      <td>0.0</td>\n",
       "      <td>NaN</td>\n",
       "      <td>NaN</td>\n",
       "    </tr>\n",
       "    <tr>\n",
       "      <th>1967</th>\n",
       "      <td>8.620000e+11</td>\n",
       "      <td>0.0</td>\n",
       "      <td>21.16</td>\n",
       "      <td>9629090.0</td>\n",
       "      <td>203713.0</td>\n",
       "      <td>4.231443e+06</td>\n",
       "      <td>0.021156</td>\n",
       "    </tr>\n",
       "    <tr>\n",
       "      <th>1969</th>\n",
       "      <td>0.000000e+00</td>\n",
       "      <td>952.2</td>\n",
       "      <td>0.00</td>\n",
       "      <td>0.0</td>\n",
       "      <td>0.0</td>\n",
       "      <td>NaN</td>\n",
       "      <td>NaN</td>\n",
       "    </tr>\n",
       "    <tr>\n",
       "      <th>1972</th>\n",
       "      <td>1.280000e+12</td>\n",
       "      <td>0.0</td>\n",
       "      <td>22.14</td>\n",
       "      <td>9629090.0</td>\n",
       "      <td>213220.0</td>\n",
       "      <td>6.003189e+06</td>\n",
       "      <td>0.022143</td>\n",
       "    </tr>\n",
       "  </tbody>\n",
       "</table>\n",
       "</div>"
      ],
      "text/plain": [
       "Variable Name           GDP    NRI     PD       Area  Population  \\\n",
       "Year                                                               \n",
       "1962           6.050000e+11    0.0  19.93  9629090.0    191861.0   \n",
       "1965           0.000000e+00  928.5   0.00        0.0         0.0   \n",
       "1967           8.620000e+11    0.0  21.16  9629090.0    203713.0   \n",
       "1969           0.000000e+00  952.2   0.00        0.0         0.0   \n",
       "1972           1.280000e+12    0.0  22.14  9629090.0    213220.0   \n",
       "\n",
       "Variable Name    GDP/capita       PD2  \n",
       "Year                                   \n",
       "1962           3.153325e+06  0.019925  \n",
       "1965                    NaN       NaN  \n",
       "1967           4.231443e+06  0.021156  \n",
       "1969                    NaN       NaN  \n",
       "1972           6.003189e+06  0.022143  "
      ]
     },
     "execution_count": 95,
     "metadata": {},
     "output_type": "execute_result"
    }
   ],
   "source": [
    "PD=df_usa['Population']/df_usa['Area']\n",
    "df_usa['PD2']=PD\n",
    "df_usa.head()"
   ]
  },
  {
   "cell_type": "markdown",
   "metadata": {},
   "source": [
    "Find the maximum value and minimum value of the 'NRI' column in the USA (using pandas methods). What years do the min and max values occur in?"
   ]
  },
  {
   "cell_type": "code",
   "execution_count": 103,
   "metadata": {},
   "outputs": [
    {
     "name": "stdout",
     "output_type": "stream",
     "text": [
      "max value is  1020.0\n",
      "It occured in year  1992\n",
      "\n",
      " min value is  928.5\n",
      "It occured in year  1965\n"
     ]
    }
   ],
   "source": [
    "NRI_max=df_usa['NRI'].max()\n",
    "NRI_min=df_usa[df_usa['NRI']!=0]['NRI'].min()\n",
    "print(\"max value is \",NRI_max)\n",
    "print(\"It occured in year \",df_usa[df_usa['NRI']==NRI_max].index[0])\n",
    "print(\"\\n min value is \",NRI_min)\n",
    "print(\"It occured in year \",df_usa[df_usa['NRI']==NRI_min].index[0])"
   ]
  },
  {
   "cell_type": "markdown",
   "metadata": {},
   "source": [
    "## Matplotlib"
   ]
  },
  {
   "cell_type": "markdown",
   "metadata": {},
   "source": [
    "Create a dataframe called `icecream` that has column `Flavor` with entries `Strawberry`, `Vanilla`, and `Chocolate` and another column with `Price` with entries `3.50`, `3.00`, and `4.25`. "
   ]
  },
  {
   "cell_type": "code",
   "execution_count": 5,
   "metadata": {},
   "outputs": [
    {
     "name": "stdout",
     "output_type": "stream",
     "text": [
      "       Flavor  Price\n",
      "0  Strawberry   3.50\n",
      "1     Vanilla   3.00\n",
      "2   Chocolate   4.25\n"
     ]
    }
   ],
   "source": [
    "Col={'Flavor':[\"Strawberry\",\"Vanilla\",\"Chocolate\"],'Price':[3.50,3.00,4.25]}\n",
    "icecream=pd.DataFrame(Col,columns=['Flavor','Price'])\n",
    "print(icecream)"
   ]
  },
  {
   "cell_type": "markdown",
   "metadata": {},
   "source": [
    "Create a bar chart representing the three flavors and their associated prices."
   ]
  },
  {
   "cell_type": "code",
   "execution_count": 6,
   "metadata": {},
   "outputs": [
    {
     "data": {
      "text/plain": [
       "<Container object of 3 artists>"
      ]
     },
     "execution_count": 6,
     "metadata": {},
     "output_type": "execute_result"
    },
    {
     "data": {
      "image/png": "[encoded data removed]",
      "text/plain": [
       "<matplotlib.figure.Figure at 0x2b270fc5ac8>"
      ]
     },
     "metadata": {},
     "output_type": "display_data"
    }
   ],
   "source": [
    "plt.bar(icecream['Flavor'],icecream['Price'])"
   ]
  },
  {
   "cell_type": "markdown",
   "metadata": {},
   "source": [
    "Create 9 random plots. The top three should be scatter plots (one with green dots, one with purple crosses, and one with blue triangles. The middle three graphs should be a line graph, a horizontal bar chart, and a histogram. The bottom three graphs should be trignometric functions (one sin, one cosine, one tangent)."
   ]
  },
  {
   "cell_type": "code",
   "execution_count": 153,
   "metadata": {},
   "outputs": [
    {
     "data": {
      "text/plain": [
       "[<matplotlib.lines.Line2D at 0x2d534b25fd0>]"
      ]
     },
     "execution_count": 153,
     "metadata": {},
     "output_type": "execute_result"
    },
    {
     "data": {
      "image/png": "[encoded data removed]",
      "text/plain": [
       "<matplotlib.figure.Figure at 0x2d5326b4f28>"
      ]
     },
     "metadata": {},
     "output_type": "display_data"
    }
   ],
   "source": [
    "ax1 = plt.subplot2grid((3,3), (0,0))\n",
    "ax2 = plt.subplot2grid((3,3), (0,1))\n",
    "ax3 = plt.subplot2grid((3,3), (0,2))\n",
    "ax4 = plt.subplot2grid((3,3), (1,0))\n",
    "ax5 = plt.subplot2grid((3,3), (1,1))\n",
    "ax6 = plt.subplot2grid((3,3), (1,2))\n",
    "ax7 = plt.subplot2grid((3,3), (2,0))\n",
    "ax8 = plt.subplot2grid((3,3), (2,1))\n",
    "ax9 = plt.subplot2grid((3,3), (2,2))\n",
    "\n",
    "vals = np.random.randint(0,11,20)\n",
    "x=np.linspace(0,4,50)\n",
    "y1=np.sin(x)\n",
    "y2=np.cos(x)\n",
    "y3=np.tan(x)\n",
    "ax1.scatter(vals,vals[::-1],color='green')\n",
    "ax2.scatter(vals,vals[::-1],color='purple',marker=\"x\")\n",
    "ax3.scatter(vals,vals[::-1],color='blue',marker='^')\n",
    "ax4.plot(vals)\n",
    "ax5.barh(vals,vals)\n",
    "ax6.hist(vals)\n",
    "ax7.plot(x,y1)\n",
    "ax8.plot(x,y2)\n",
    "ax9.plot(x,y3)"
   ]
  },
  {
   "cell_type": "markdown",
   "metadata": {
    "collapsed": true
   },
   "source": [
    "## Extra Credit"
   ]
  },
  {
   "cell_type": "markdown",
   "metadata": {},
   "source": [
    "Run the cell below to read in the data. See: https://www.quantshare.com/sa-43-10-ways-to-download-historical-stock-quotes-data-for-free"
   ]
  },
  {
   "cell_type": "code",
   "execution_count": 7,
   "metadata": {},
   "outputs": [
    {
     "data": {
      "text/html": [
       "<div>\n",
       "<style>\n",
       "    .dataframe thead tr:only-child th {\n",
       "        text-align: right;\n",
       "    }\n",
       "\n",
       "    .dataframe thead th {\n",
       "        text-align: left;\n",
       "    }\n",
       "\n",
       "    .dataframe tbody tr th {\n",
       "        vertical-align: top;\n",
       "    }\n",
       "</style>\n",
       "<table border=\"1\" class=\"dataframe\">\n",
       "  <thead>\n",
       "    <tr style=\"text-align: right;\">\n",
       "      <th></th>\n",
       "      <th>Date</th>\n",
       "      <th>Open</th>\n",
       "      <th>High</th>\n",
       "      <th>Low</th>\n",
       "      <th>Close</th>\n",
       "      <th>Volume</th>\n",
       "    </tr>\n",
       "  </thead>\n",
       "  <tbody>\n",
       "    <tr>\n",
       "      <th>0</th>\n",
       "      <td>1-Feb-18</td>\n",
       "      <td>167.16</td>\n",
       "      <td>168.62</td>\n",
       "      <td>166.76</td>\n",
       "      <td>167.78</td>\n",
       "      <td>47230787</td>\n",
       "    </tr>\n",
       "    <tr>\n",
       "      <th>1</th>\n",
       "      <td>31-Jan-18</td>\n",
       "      <td>166.87</td>\n",
       "      <td>168.44</td>\n",
       "      <td>166.50</td>\n",
       "      <td>167.43</td>\n",
       "      <td>32478930</td>\n",
       "    </tr>\n",
       "    <tr>\n",
       "      <th>2</th>\n",
       "      <td>30-Jan-18</td>\n",
       "      <td>165.52</td>\n",
       "      <td>167.37</td>\n",
       "      <td>164.70</td>\n",
       "      <td>166.97</td>\n",
       "      <td>46048185</td>\n",
       "    </tr>\n",
       "    <tr>\n",
       "      <th>3</th>\n",
       "      <td>29-Jan-18</td>\n",
       "      <td>170.16</td>\n",
       "      <td>170.16</td>\n",
       "      <td>167.07</td>\n",
       "      <td>167.96</td>\n",
       "      <td>50640406</td>\n",
       "    </tr>\n",
       "    <tr>\n",
       "      <th>4</th>\n",
       "      <td>26-Jan-18</td>\n",
       "      <td>172.00</td>\n",
       "      <td>172.00</td>\n",
       "      <td>170.06</td>\n",
       "      <td>171.51</td>\n",
       "      <td>39143011</td>\n",
       "    </tr>\n",
       "  </tbody>\n",
       "</table>\n",
       "</div>"
      ],
      "text/plain": [
       "        Date    Open    High     Low   Close    Volume\n",
       "0   1-Feb-18  167.16  168.62  166.76  167.78  47230787\n",
       "1  31-Jan-18  166.87  168.44  166.50  167.43  32478930\n",
       "2  30-Jan-18  165.52  167.37  164.70  166.97  46048185\n",
       "3  29-Jan-18  170.16  170.16  167.07  167.96  50640406\n",
       "4  26-Jan-18  172.00  172.00  170.06  171.51  39143011"
      ]
     },
     "execution_count": 7,
     "metadata": {},
     "output_type": "execute_result"
    }
   ],
   "source": [
    "df_google = pd.read_csv('https://finance.google.com/finance/historical?output=csv&q=goog')\n",
    "df_apple = pd.read_csv('https://finance.google.com/finance/historical?output=csv&q=aapl')\n",
    "\n",
    "df_disney = pd.read_csv('https://finance.google.com/finance/historical?output=csv&q=dis')\n",
    "df_nike= pd.read_csv('https://finance.google.com/finance/historical?output=csv&q=nke')\n",
    "\n",
    "df_apple.head()"
   ]
  },
  {
   "cell_type": "markdown",
   "metadata": {},
   "source": [
    "Show a 3 x 3 correlation matrix for Nike, Apple, and Disney stock prices for the month of July, 2017.  \n",
    "\n",
    "Hint: Convert `Date` to a pandas datetime object. \n",
    "Change the indices of all the dataframes to `Date`. Use `Date` indices to filter rows.\n",
    "Create a new dataframe that stores values of the `Close` column from each dataframe.\n",
    "Use the `Close` column of each company's stock data to find the correlation using df.corr()."
   ]
  },
  {
   "cell_type": "code",
   "execution_count": 8,
   "metadata": {},
   "outputs": [
    {
     "name": "stdout",
     "output_type": "stream",
     "text": [
      "             apple  disney  google   nike\n",
      "Date                                     \n",
      "2017-07-31  148.73  109.93  930.50  59.05\n",
      "2017-07-28  149.50  109.96  941.53  58.67\n",
      "2017-07-27  150.56  110.00  934.09  58.15\n",
      "2017-07-26  153.46  106.94  947.80  58.36\n",
      "2017-07-25  152.74  106.42  950.70  59.39\n"
     ]
    },
    {
     "data": {
      "text/html": [
       "<div>\n",
       "<style>\n",
       "    .dataframe thead tr:only-child th {\n",
       "        text-align: right;\n",
       "    }\n",
       "\n",
       "    .dataframe thead th {\n",
       "        text-align: left;\n",
       "    }\n",
       "\n",
       "    .dataframe tbody tr th {\n",
       "        vertical-align: top;\n",
       "    }\n",
       "</style>\n",
       "<table border=\"1\" class=\"dataframe\">\n",
       "  <thead>\n",
       "    <tr style=\"text-align: right;\">\n",
       "      <th></th>\n",
       "      <th>apple</th>\n",
       "      <th>disney</th>\n",
       "      <th>google</th>\n",
       "      <th>nike</th>\n",
       "    </tr>\n",
       "  </thead>\n",
       "  <tbody>\n",
       "    <tr>\n",
       "      <th>apple</th>\n",
       "      <td>1.000000</td>\n",
       "      <td>0.524912</td>\n",
       "      <td>0.805168</td>\n",
       "      <td>0.417947</td>\n",
       "    </tr>\n",
       "    <tr>\n",
       "      <th>disney</th>\n",
       "      <td>0.524912</td>\n",
       "      <td>1.000000</td>\n",
       "      <td>0.188795</td>\n",
       "      <td>0.459045</td>\n",
       "    </tr>\n",
       "    <tr>\n",
       "      <th>google</th>\n",
       "      <td>0.805168</td>\n",
       "      <td>0.188795</td>\n",
       "      <td>1.000000</td>\n",
       "      <td>0.351716</td>\n",
       "    </tr>\n",
       "    <tr>\n",
       "      <th>nike</th>\n",
       "      <td>0.417947</td>\n",
       "      <td>0.459045</td>\n",
       "      <td>0.351716</td>\n",
       "      <td>1.000000</td>\n",
       "    </tr>\n",
       "  </tbody>\n",
       "</table>\n",
       "</div>"
      ],
      "text/plain": [
       "           apple    disney    google      nike\n",
       "apple   1.000000  0.524912  0.805168  0.417947\n",
       "disney  0.524912  1.000000  0.188795  0.459045\n",
       "google  0.805168  0.188795  1.000000  0.351716\n",
       "nike    0.417947  0.459045  0.351716  1.000000"
      ]
     },
     "execution_count": 8,
     "metadata": {},
     "output_type": "execute_result"
    }
   ],
   "source": [
    "import datetime\n",
    "df_apple['Date']=pd.to_datetime(df_apple['Date'])\n",
    "df_disney['Date']=pd.to_datetime(df_disney['Date'])\n",
    "df_nike['Date']=pd.to_datetime(df_nike['Date'])\n",
    "df_google['Date']=pd.to_datetime(df_google['Date'])\n",
    "df_apple=df_apple.set_index(df_apple['Date'])\n",
    "df_disney=df_disney.set_index(df_disney['Date'])\n",
    "df_nike=df_nike.set_index(df_nike['Date'])\n",
    "df_google=df_google.set_index(df_google['Date'])\n",
    "\n",
    "jul1=pd.datetime(2017,6,30)\n",
    "jul31=pd.datetime(2017,8,1)\n",
    "mask_apple=df_apple[(df_apple['Date']>jul1) & (df_apple['Date'] < jul31)]\n",
    "mask_disney=df_disney[(df_disney['Date']>jul1) & (df_disney['Date'] < jul31)]\n",
    "mask_nike=df_nike[(df_nike['Date']>jul1) & (df_nike['Date'] < jul31)]\n",
    "mask_google=df_google[(df_google['Date']>jul1) & (df_google['Date'] < jul31)]\n",
    "\n",
    "dfd={'apple':mask_apple['Close'],'disney':mask_disney['Close'],'nike':mask_nike['Close'],'google':mask_google['Close']}\n",
    "df_close=pd.DataFrame(data=dfd)\n",
    "print(df_close.head())\n",
    "df_close.corr()\n",
    "\n",
    "\n",
    "\n"
   ]
  },
  {
   "cell_type": "markdown",
   "metadata": {},
   "source": [
    "Show the same correlation matrix but over different time periods.\n",
    "1. the last 20 days  \n",
    "2. the last 80 days"
   ]
  },
  {
   "cell_type": "code",
   "execution_count": 10,
   "metadata": {},
   "outputs": [
    {
     "name": "stdout",
     "output_type": "stream",
     "text": [
      "             apple  disney   google   nike\n",
      "Date                                      \n",
      "2018-02-01  167.78  110.49  1167.70  67.65\n",
      "2018-01-31  167.43  108.67  1169.94  68.22\n",
      "2018-01-30  166.97  110.11  1163.69  67.33\n",
      "2018-01-29  167.96  111.54  1175.58  67.58\n",
      "2018-01-26  171.51  112.19  1175.84  68.04\n",
      "20 days correlation: \n",
      "            apple    disney    google      nike\n",
      "apple   1.000000  0.300410 -0.725609 -0.659082\n",
      "disney  0.300410  1.000000 -0.088488 -0.249232\n",
      "google -0.725609 -0.088488  1.000000  0.894735\n",
      "nike   -0.659082 -0.249232  0.894735  1.000000\n",
      "\n",
      "              apple  disney   google   nike\n",
      "Date                                      \n",
      "2018-02-01  167.78  110.49  1167.70  67.65\n",
      "2018-01-31  167.43  108.67  1169.94  68.22\n",
      "2018-01-30  166.97  110.11  1163.69  67.33\n",
      "2018-01-29  167.96  111.54  1175.58  67.58\n",
      "2018-01-26  171.51  112.19  1175.84  68.04\n",
      "80 days correlation: \n",
      "            apple    disney    google      nike\n",
      "apple   1.000000  0.342855  0.266763  0.197134\n",
      "disney  0.342855  1.000000  0.679637  0.815758\n",
      "google  0.266763  0.679637  1.000000  0.865600\n",
      "nike    0.197134  0.815758  0.865600  1.000000\n"
     ]
    }
   ],
   "source": [
    "datest=pd.datetime.now()-pd.DateOffset(days=20)\n",
    "mask_apple=df_apple[df_apple['Date']>datest]\n",
    "mask_disney=df_disney[df_disney['Date']>datest]\n",
    "mask_nike=df_nike[df_nike['Date']>datest]\n",
    "mask_google=df_google[df_google['Date']>datest]\n",
    "\n",
    "dfd={'apple':mask_apple['Close'],'disney':mask_disney['Close'],'nike':mask_nike['Close'],'google':mask_google['Close']}\n",
    "df_close=pd.DataFrame(data=dfd)\n",
    "print(df_close.head())\n",
    "print(\"20 days correlation: \\n\",df_close.corr())\n",
    "\n",
    "datest=pd.datetime.now()-pd.DateOffset(days=80)\n",
    "mask_apple=df_apple[df_apple['Date']>datest]\n",
    "mask_disney=df_disney[df_disney['Date']>datest]\n",
    "mask_nike=df_nike[df_nike['Date']>datest]\n",
    "mask_google=df_google[df_google['Date']>datest]\n",
    "\n",
    "dfd={'apple':mask_apple['Close'],'disney':mask_disney['Close'],'nike':mask_nike['Close'],'google':mask_google['Close']}\n",
    "df_close=pd.DataFrame(data=dfd)\n",
    "print(\"\\n\",df_close.head())\n",
    "print(\"80 days correlation: \\n\",df_close.corr())"
   ]
  },
  {
   "cell_type": "markdown",
   "metadata": {},
   "source": [
    "Change the code so that it accepts a list of any stock symbols (i.e. ['NKE', 'APPL', 'DIS', ... ]) and creates a correlation matrix for the past 100 days."
   ]
  },
  {
   "cell_type": "code",
   "execution_count": 12,
   "metadata": {},
   "outputs": [
    {
     "name": "stdout",
     "output_type": "stream",
     "text": [
      "GOOG,NKE,APPL\n",
      "             Nike   apple   google\n",
      "Date                              \n",
      "2018-02-01  67.65  167.78  1167.70\n",
      "2018-01-31  68.22  167.43  1169.94\n",
      "2018-01-30  67.33  166.97  1163.69\n",
      "2018-01-29  67.58  167.96  1175.58\n",
      "2018-01-26  68.04  171.51  1175.84\n",
      "100 days correlationvfor users: \n",
      "             Nike     apple    google\n",
      "Nike    1.000000  0.328031  0.838448\n",
      "apple   0.328031  1.000000  0.399213\n",
      "google  0.838448  0.399213  1.000000\n"
     ]
    }
   ],
   "source": [
    "dateh=datest=pd.datetime.now()-pd.DateOffset(days=100)\n",
    "mask_apple=df_apple[df_apple['Date']>dateh]\n",
    "mask_disney=df_disney[df_disney['Date']>dateh]\n",
    "mask_nike=df_nike[df_nike['Date']>dateh]\n",
    "mask_google=df_google[df_google['Date']>dateh]\n",
    "dfdf={}\n",
    "\n",
    "inp=input()\n",
    "inpp=[x for x in inp.split(',')]\n",
    "for x in inpp:\n",
    "    if x==\"NKE\":\n",
    "        dfdf.update({'Nike':mask_nike['Close']})\n",
    "    if x==\"APPL\":\n",
    "        dfdf.update({'apple':mask_apple['Close']})\n",
    "    if x==\"DIS\":\n",
    "        dfdf.update({'disney':mask_disney['Close']})\n",
    "    if x==\"GOOG\":\n",
    "        dfdf.update({'google':mask_google['Close']})\n",
    "\n",
    "df_user=pd.DataFrame(data=dfdf)\n",
    "print(df_user.head())\n",
    "print(\"100 days correlationvfor users: \\n\",df_user.corr())"
   ]
  },
  {
   "cell_type": "code",
   "execution_count": null,
   "metadata": {
    "collapsed": true
   },
   "outputs": [],
   "source": []
  }
 ],
 "metadata": {
  "anaconda-cloud": {},
  "kernelspec": {
   "display_name": "Python 3",
   "language": "python",
   "name": "python3"
  },
  "language_info": {
   "codemirror_mode": {
    "name": "ipython",
    "version": 3
   },
   "file_extension": ".py",
   "mimetype": "text/x-python",
   "name": "python",
   "nbconvert_exporter": "python",
   "pygments_lexer": "ipython3",
   "version": "3.6.3"
  }
 },
 "nbformat": 4,
 "nbformat_minor": 1
}
