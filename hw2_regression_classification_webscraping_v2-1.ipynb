{
 "cells": [
  {
   "cell_type": "markdown",
   "metadata": {},
   "source": [
    "# Data-X Spring 2018: Homework 02\n",
    "\n",
    "### Regression, Classification, Webscraping\n",
    "\n",
    "**Authors:** Sana Iqbal (Part 1, 2, 3), Alexander Fred-Ojala (Extra Credit)\n",
    "\n",
    "\n",
    "In this homework, you will do some exercises with prediction-classification, regression and web-scraping.\n"
   ]
  },
  {
   "cell_type": "markdown",
   "metadata": {},
   "source": [
    "## Part 1"
   ]
  },
  {
   "cell_type": "markdown",
   "metadata": {},
   "source": [
    "\n",
    "### Data:\n",
    "__Data Source__:\n",
    "Data file is uploaded to bCourses and is named: __Energy.csv__\n",
    "\n",
    "The dataset was created by Angeliki Xifara ( Civil/Structural Engineer) and was processed by Athanasios Tsanas, Oxford Centre for Industrial and Applied Mathematics, University of Oxford, UK).\n",
    "\n",
    "__Data Description__:\n",
    "\n",
    "The dataset contains eight attributes of a building (or features, denoted by X1...X8) and response being the heating load on the building, y1. \n",
    "\n",
    "* X1\tRelative Compactness \n",
    "* X2\tSurface Area \n",
    "* X3\tWall Area \n",
    "*  X4\tRoof Area \n",
    "*  X5\tOverall Height \n",
    "* X6\tOrientation \n",
    "*  X7\tGlazing Area \n",
    "*  X8\tGlazing Area Distribution \n",
    "*  y1\tHeating Load \n"
   ]
  },
  {
   "cell_type": "markdown",
   "metadata": {},
   "source": [
    "#### Q1:Read the data file in python. Describe data features in terms of type, distribution range and mean values. Plot feature distributions.This step should give you clues about data sufficiency."
   ]
  },
  {
   "cell_type": "code",
   "execution_count": 1,
   "metadata": {
    "collapsed": true,
    "scrolled": true
   },
   "outputs": [],
   "source": [
    "import numpy as np\n",
    "import pandas as pd\n",
    "import matplotlib.pyplot as plt\n",
    "\n",
    "energy = pd.read_csv(\"Energy.csv\")"
   ]
  },
  {
   "cell_type": "code",
   "execution_count": 2,
   "metadata": {},
   "outputs": [
    {
     "name": "stdout",
     "output_type": "stream",
     "text": [
      "               X1          X2          X3          X4         X5          X6  \\\n",
      "count  768.000000  768.000000  768.000000  768.000000  768.00000  768.000000   \n",
      "mean     0.764167  671.708333  318.500000  176.604167    5.25000    3.500000   \n",
      "std      0.105777   88.086116   43.626481   45.165950    1.75114    1.118763   \n",
      "min      0.620000  514.500000  245.000000  110.250000    3.50000    2.000000   \n",
      "25%      0.682500  606.375000  294.000000  140.875000    3.50000    2.750000   \n",
      "50%      0.750000  673.750000  318.500000  183.750000    5.25000    3.500000   \n",
      "75%      0.830000  741.125000  343.000000  220.500000    7.00000    4.250000   \n",
      "max      0.980000  808.500000  416.500000  220.500000    7.00000    5.000000   \n",
      "\n",
      "               X7         X8          Y1  \n",
      "count  768.000000  768.00000  768.000000  \n",
      "mean     0.234375    2.81250   22.307201  \n",
      "std      0.133221    1.55096   10.090196  \n",
      "min      0.000000    0.00000    6.010000  \n",
      "25%      0.100000    1.75000   12.992500  \n",
      "50%      0.250000    3.00000   18.950000  \n",
      "75%      0.400000    4.00000   31.667500  \n",
      "max      0.400000    5.00000   43.100000  \n",
      "<class 'pandas.core.frame.DataFrame'>\n",
      "RangeIndex: 768 entries, 0 to 767\n",
      "Data columns (total 9 columns):\n",
      "X1    768 non-null float64\n",
      "X2    768 non-null float64\n",
      "X3    768 non-null float64\n",
      "X4    768 non-null float64\n",
      "X5    768 non-null float64\n",
      "X6    768 non-null int64\n",
      "X7    768 non-null float64\n",
      "X8    768 non-null int64\n",
      "Y1    768 non-null float64\n",
      "dtypes: float64(7), int64(2)\n",
      "memory usage: 54.1 KB\n",
      "None\n"
     ]
    },
    {
     "data": {
      "image/png": "[encoded data removed]",
      "text/plain": [
       "<matplotlib.figure.Figure at 0x15b89879668>"
      ]
     },
     "metadata": {},
     "output_type": "display_data"
    }
   ],
   "source": [
    "print(energy.describe())\n",
    "print(energy.info())\n",
    "energy.hist(figsize=(13,10))\n",
    "plt.show()"
   ]
  },
  {
   "cell_type": "markdown",
   "metadata": {},
   "source": [
    " __REGRESSION__:\n",
    "LABELS ARE CONTINUOUS VALUES.\n",
    "Here the model is trained to predict a continuous value for each instance.\n",
    "On inputting a feature vector into the model, the trained model is able to predict a continuous value  for  that instance.  \n",
    "\n",
    "__Q2.1: Train a linear regression model on 85 percent of the given dataset, what is the intercept value and coefficient values.__\n",
    "\n"
   ]
  },
  {
   "cell_type": "code",
   "execution_count": 3,
   "metadata": {
    "collapsed": true
   },
   "outputs": [],
   "source": [
    "energy['Intercept']=np.ones(len(energy['X1']))\n",
    "np.random.seed(150)\n",
    "from sklearn.model_selection import train_test_split\n",
    "energy_train, energy_test = train_test_split(energy, test_size=0.15)\n"
   ]
  },
  {
   "cell_type": "code",
   "execution_count": 4,
   "metadata": {},
   "outputs": [
    {
     "name": "stdout",
     "output_type": "stream",
     "text": [
      "beta values are [  8.00752349e+01  -6.25080383e+01  -6.01702663e-02   3.58280238e-02\n",
      "  -4.79991451e-02   4.19905578e+00   1.63071494e-02   1.98895967e+01\n",
      "   2.51115474e-01]\n"
     ]
    }
   ],
   "source": [
    "X=energy_train[['Intercept','X1','X2','X3','X4','X5','X6','X7','X8']].values\n",
    "Y=energy_train['Y1'].values\n",
    "W=np.linalg.lstsq(X,Y)[0]\n",
    "\n",
    "print(\"beta values are\",W)\n"
   ]
  },
  {
   "cell_type": "markdown",
   "metadata": {
    "collapsed": true
   },
   "source": [
    "\n",
    "#### Q.2.2: Report model performance using 'ROOT MEAN SQUARE' error metric on:  \n",
    "__1. Data that was used for training(Training error)__   \n",
    "__2. On the 15 percent of unseen data (test error) __ \n",
    "\n"
   ]
  },
  {
   "cell_type": "code",
   "execution_count": 5,
   "metadata": {},
   "outputs": [
    {
     "name": "stdout",
     "output_type": "stream",
     "text": [
      "training error RMS =  2.9162380734\n",
      "test error RMS = 2.94412590449\n"
     ]
    }
   ],
   "source": [
    "Yp=W.dot(X.T)\n",
    "err_train=Yp-Y\n",
    "errsq_train=(np.sum(err_train**2)/len(Y))**0.5\n",
    "print(\"training error RMS = \",errsq_train)\n",
    "\n",
    "tX=energy_test[['Intercept','X1','X2','X3','X4','X5','X6','X7','X8']].values\n",
    "test_Y=energy_test['Y1'].values\n",
    "test_pred=W.dot(tX.T)\n",
    "err_test=test_pred-test_Y\n",
    "errsq_test=(np.sum(err_test**2)/len(test_Y))**0.5\n",
    "print(\"test error RMS =\", errsq_test)\n"
   ]
  },
  {
   "cell_type": "markdown",
   "metadata": {},
   "source": [
    "\n",
    "__ Q2.3: Lets us see the effect of amount of data on the performance of prediction model.Use varying amounts of  Training data (100,200,300,400,500,all) to train regression models and report  training error and validation error in each case. Validation data/Test data   is the same as above for  all  these cases.__  \n",
    "\n",
    "Plot error rates vs number of training examples.Comment on the relationshipyou observe in the plot, between the amount of data used to train the model and the validation accuracy of the model.\n",
    "\n",
    "__Hint:__ Use array indexing to choose varying data amounts"
   ]
  },
  {
   "cell_type": "code",
   "execution_count": 6,
   "metadata": {
    "collapsed": true
   },
   "outputs": [],
   "source": [
    "def linreg(train,test,num):\n",
    "    X=train[0:num][['Intercept','X1','X2','X3','X4','X5','X6','X7','X8']].values\n",
    "    Y=train[0:num]['Y1'].values\n",
    "    W=np.linalg.lstsq(X,Y)[0]\n",
    "    Y_tra=W.dot(X.T)\n",
    "    err_tr=Y_tra-Y\n",
    "    errsq_tr=(np.sum(err_tr**2)/len(Y))**0.5\n",
    "    \n",
    "    Xt=test[['Intercept','X1','X2','X3','X4','X5','X6','X7','X8']].values\n",
    "    Yt=test['Y1'].values\n",
    "    pred=W.dot(Xt.T)\n",
    "    err_st=pred-Yt\n",
    "    errsq_st=(np.sum(err_st**2)/len(Yt))**0.5\n",
    "    print(\"\\n \\n for \"+str(num)+\" training data:\")\n",
    "    print(\"Training error RMS =\",errsq_tr)\n",
    "    print(\"Test set error RMS =\",errsq_st)\n",
    "    return [errsq_tr,errsq_st]\n"
   ]
  },
  {
   "cell_type": "code",
   "execution_count": 7,
   "metadata": {},
   "outputs": [
    {
     "name": "stdout",
     "output_type": "stream",
     "text": [
      "\n",
      " \n",
      " for 100 training data:\n",
      "Training error RMS = 2.67452829068\n",
      "Test set error RMS = 3.1426980615\n",
      "\n",
      " \n",
      " for 200 training data:\n",
      "Training error RMS = 2.89778558317\n",
      "Test set error RMS = 3.03269271744\n",
      "\n",
      " \n",
      " for 300 training data:\n",
      "Training error RMS = 2.88250654749\n",
      "Test set error RMS = 2.95447794187\n",
      "\n",
      " \n",
      " for 400 training data:\n",
      "Training error RMS = 2.83187904917\n",
      "Test set error RMS = 2.92417651385\n",
      "\n",
      " \n",
      " for 500 training data:\n",
      "Training error RMS = 2.89746393391\n",
      "Test set error RMS = 2.93120881037\n",
      "\n",
      " \n",
      " for 652 training data:\n",
      "Training error RMS = 2.9162380734\n",
      "Test set error RMS = 2.94412590449\n"
     ]
    },
    {
     "data": {
      "image/png": "[encoded data removed]",
      "text/plain": [
       "<matplotlib.figure.Figure at 0x15b89f896d8>"
      ]
     },
     "metadata": {},
     "output_type": "display_data"
    },
    {
     "data": {
      "image/png": "[encoded data removed]",
      "text/plain": [
       "<matplotlib.figure.Figure at 0x15b89f89748>"
      ]
     },
     "metadata": {},
     "output_type": "display_data"
    }
   ],
   "source": [
    "test_err=[]\n",
    "train_err=[]\n",
    "amount=[100,200,300,400,500,len(energy_train)]\n",
    "for num in amount:\n",
    "    a=linreg(energy_train,energy_test,num)\n",
    "    train_err.append(a[0])\n",
    "    test_err.append(a[1])\n",
    "df1=pd.DataFrame(train_err,amount)\n",
    "df2=pd.DataFrame(test_err,amount)\n",
    "df1.plot(figsize=(5,5),title=\"training error\")\n",
    "df2.plot(figsize=(5,5),title=\"test set error\")\n",
    "plt.show()\n",
    "\n"
   ]
  },
  {
   "cell_type": "markdown",
   "metadata": {},
   "source": [
    "\n",
    "__CLASSIFICATION__:\n",
    "LABELS ARE DISCRETE VALUES.\n",
    "Here the model is trained to classify each instance into a set of predefined  discrete classes.\n",
    "On inputting a feature vector into the model, the trained model is able to predict a  class of that instance. You can also output the probabilities of an instance belnging to a class.  \n",
    "\n",
    "__ Q 3.1:  Bucket values of 'y1' i.e 'Heating Load'  from the original dataset into 3 classes:__ \n",
    "\n",
    "0: 'Low' ( < 15),   \n",
    "1: 'Medium'  (15-30),   \n",
    "2: 'High'  (>30)\n",
    "\n",
    "This converts the given dataset  into a classification problem, classes being, Heating load is: *low, medium or high*. Use this datset with transformed 'heating load' for creating a  logistic regression classifiction model that predicts heating load type of a building. Use test-train split ratio of 0.15.  \n",
    "\n",
    "*Report training and test accuracies and  confusion matrices.*\n",
    "\n",
    "\n",
    "**HINT:** Use pandas.cut"
   ]
  },
  {
   "cell_type": "code",
   "execution_count": 8,
   "metadata": {
    "collapsed": true
   },
   "outputs": [],
   "source": [
    "energy.loc[energy['Y1']<15,'HL']=0\n",
    "energy.loc[(energy['Y1']>=15) & (energy['Y1']<=30),'HL']=1\n",
    "energy.loc[energy['Y1']>30,'HL']=2\n",
    "\n",
    "np.random.seed(150)\n",
    "from sklearn.model_selection import train_test_split\n",
    "energy_train, energy_test = train_test_split(energy, test_size=0.15)"
   ]
  },
  {
   "cell_type": "code",
   "execution_count": 9,
   "metadata": {},
   "outputs": [
    {
     "name": "stdout",
     "output_type": "stream",
     "text": [
      "Training set accuracy =  80.0613496933 %\n",
      "Test set accuracy =  75.8620689655 %\n"
     ]
    }
   ],
   "source": [
    "from sklearn.linear_model import LogisticRegression\n",
    "logreg = LogisticRegression()\n",
    "\n",
    "X=energy_train.drop(['Y1','HL','Intercept'],axis=1)\n",
    "Y=energy_train['HL']\n",
    "logreg.fit(X,Y)\n",
    "lr_tr_pred=logreg.predict(X)\n",
    "lr_tr_acc=sum(lr_tr_pred == Y)/len(Y)*100\n",
    "print(\"Training set accuracy = \", lr_tr_acc,\"%\")\n",
    "\n",
    "X_st=energy_test.drop(['Y1','HL','Intercept'],axis=1)\n",
    "Y_st=energy_test['HL']\n",
    "lr_pred=logreg.predict(X_st)\n",
    "lr_acc = sum(lr_pred == Y_st)/len(Y_st)*100\n",
    "print(\"Test set accuracy = \", lr_acc,\"%\")"
   ]
  },
  {
   "cell_type": "markdown",
   "metadata": {},
   "source": [
    "__ Q3.2: One of the preprocessing steps in Data science is Feature Scaling i.e getting all our data on the same scale by setting same  Min-Max of feature values. This makes training less sensitive to the scale of features . Scaling is important in algorithms that use distance based classification, SVM or K means or involve gradient descent optimization.If we  Scale features in the range [0,1] it is called unity based normalization.__\n",
    "\n",
    "__Perform unity based normalization on the above dataset and train the model again, compare model performance in training and validation with your previous model.__  \n",
    "\n",
    "refer:http://scikit-learn.org/stable/modules/preprocessing.html#preprocessing-scaler  \n",
    "more at: https://en.wikipedia.org/wiki/Feature_scaling"
   ]
  },
  {
   "cell_type": "code",
   "execution_count": 10,
   "metadata": {},
   "outputs": [
    {
     "name": "stdout",
     "output_type": "stream",
     "text": [
      "Training set accuracy =  80.8282208589 %\n",
      "Test set accuracy =  76.724137931 %\n",
      "\n",
      "Training set accuracy improves by 0.766871165644 %\n",
      "Test set accuracy improves by 0.862068965517 %\n"
     ]
    }
   ],
   "source": [
    "from sklearn import preprocessing\n",
    "min_max_scaler = preprocessing.MinMaxScaler()\n",
    "X=min_max_scaler.fit_transform(X)\n",
    "X_st=min_max_scaler.fit_transform(X_st)\n",
    "\n",
    "logreg.fit(X,Y)\n",
    "lr_tr_pred1=logreg.predict(X)\n",
    "lr_tr_acc1=sum(lr_tr_pred1 == Y)/len(Y)*100\n",
    "print(\"Training set accuracy = \", lr_tr_acc1,\"%\")\n",
    "\n",
    "lr_pred1=logreg.predict(X_st)\n",
    "lr_acc1 = sum(lr_pred1 == Y_st)/len(Y_st)*100\n",
    "print(\"Test set accuracy = \", lr_acc1,\"%\")\n",
    "\n",
    "print(\"\\nTraining set accuracy improves by\", lr_tr_acc1-lr_tr_acc,\"%\")\n",
    "print(\"Test set accuracy improves by\", lr_acc1-lr_acc,\"%\")"
   ]
  },
  {
   "cell_type": "markdown",
   "metadata": {
    "collapsed": true
   },
   "source": [
    "## Part 2"
   ]
  },
  {
   "cell_type": "markdown",
   "metadata": {},
   "source": [
    "\n",
    "\n",
    "__ 1. Read __`diabetesdata.csv`__ file into a pandas dataframe. Analyze the data features, check for NaN values. \n",
    "About the data: __\n",
    "\n",
    "1. __TimesPregnant__: Number of times pregnant \n",
    "2. __glucoseLevel__: Plasma glucose concentration a 2 hours in an oral glucose tolerance test \n",
    "3. __BP__: Diastolic blood pressure (mm Hg)  \n",
    "5. __insulin__: 2-Hour serum insulin (mu U/ml) \n",
    "6. __BMI__: Body mass index (weight in kg/(height in m)^2) \n",
    "7. __pedigree__: Diabetes pedigree function \n",
    "8. __Age__: Age (years) \n",
    "9. __IsDiabetic__: 0 if not diabetic or 1 if diabetic) \n",
    "\n",
    "__ 2. Preprocess data to replace NaN values in a feature(if any) using mean of the feature.  \n",
    "Train  logistic regression, SVM, perceptron, kNN, xgboost and random forest models using this preprocessed data with 20% test split.Report training and test accuracies.__\n",
    "\n",
    "\n",
    "\n",
    "\n",
    "\n"
   ]
  },
  {
   "cell_type": "code",
   "execution_count": 110,
   "metadata": {},
   "outputs": [
    {
     "name": "stdout",
     "output_type": "stream",
     "text": [
      "       TimesPregnant  glucoseLevel          BP     insulin         BMI  \\\n",
      "count     768.000000    734.000000  768.000000  768.000000  768.000000   \n",
      "mean        3.845052    121.016349   69.105469   79.799479   31.992578   \n",
      "std         3.369578     31.660240   19.355807  115.244002    7.884160   \n",
      "min         0.000000      0.000000    0.000000    0.000000    0.000000   \n",
      "25%         1.000000     99.000000   62.000000    0.000000   27.300000   \n",
      "50%         3.000000    117.000000   72.000000   30.500000   32.000000   \n",
      "75%         6.000000    141.000000   80.000000  127.250000   36.600000   \n",
      "max        17.000000    199.000000  122.000000  846.000000   67.100000   \n",
      "\n",
      "         Pedigree         Age  IsDiabetic  \n",
      "count  768.000000  735.000000  768.000000  \n",
      "mean     0.471876   33.353741    0.348958  \n",
      "std      0.331329   11.772944    0.476951  \n",
      "min      0.078000   21.000000    0.000000  \n",
      "25%      0.243750   24.000000    0.000000  \n",
      "50%      0.372500   29.000000    0.000000  \n",
      "75%      0.626250   41.000000    1.000000  \n",
      "max      2.420000   81.000000    1.000000  \n",
      "<class 'pandas.core.frame.DataFrame'>\n",
      "RangeIndex: 768 entries, 0 to 767\n",
      "Data columns (total 8 columns):\n",
      "TimesPregnant    768 non-null int64\n",
      "glucoseLevel     734 non-null float64\n",
      "BP               768 non-null int64\n",
      "insulin          768 non-null int64\n",
      "BMI              768 non-null float64\n",
      "Pedigree         768 non-null float64\n",
      "Age              735 non-null float64\n",
      "IsDiabetic       768 non-null int64\n",
      "dtypes: float64(4), int64(4)\n",
      "memory usage: 48.1 KB\n",
      "None\n"
     ]
    }
   ],
   "source": [
    "diabete = pd.read_csv(\"diabetesdata.csv\")\n",
    "print(diabete.describe())\n",
    "print(diabete.info())"
   ]
  },
  {
   "cell_type": "code",
   "execution_count": 111,
   "metadata": {},
   "outputs": [
    {
     "name": "stdout",
     "output_type": "stream",
     "text": [
      "<class 'pandas.core.frame.DataFrame'>\n",
      "RangeIndex: 768 entries, 0 to 767\n",
      "Data columns (total 8 columns):\n",
      "TimesPregnant    768 non-null int64\n",
      "glucoseLevel     768 non-null float64\n",
      "BP               768 non-null int64\n",
      "insulin          768 non-null int64\n",
      "BMI              768 non-null float64\n",
      "Pedigree         768 non-null float64\n",
      "Age              768 non-null int32\n",
      "IsDiabetic       768 non-null int64\n",
      "dtypes: float64(3), int32(1), int64(4)\n",
      "memory usage: 45.1 KB\n",
      "None\n"
     ]
    }
   ],
   "source": [
    "diabete.loc[diabete['glucoseLevel'].isnull(),'glucoseLevel']=diabete['glucoseLevel'].mean()\n",
    "diabete.loc[diabete['Age'].isnull(),'Age']=int(diabete['Age'].mean())\n",
    "diabete['Age']= diabete['Age'].astype(int)\n",
    "print(diabete.info())"
   ]
  },
  {
   "cell_type": "markdown",
   "metadata": {},
   "source": [
    "\n",
    "\n",
    "__3. What is the  ratio of diabetic persons in 3 equirange bands of 'BMI' and 'Pedigree' in the provided dataset.__\n",
    "\n",
    " __Convert these features - 'BP','insulin','BMI' and 'Pedigree'   into categorical values by mapping different bands of values of these features to integers 0,1,2.__  \n",
    " \n",
    "HINT: USE pd.cut with bin=3 to create 3 bins\n",
    "\n",
    "\n",
    "\n",
    "\n"
   ]
  },
  {
   "cell_type": "code",
   "execution_count": 112,
   "metadata": {},
   "outputs": [
    {
     "name": "stdout",
     "output_type": "stream",
     "text": [
      "3.9215686274509802 % of people in BMI Band 0 have diabetes\n",
      "35.82966226138032 % of people in BMI Band 1 have diabetes\n",
      "61.111111111111114 % of people in BMI Band 2 have diabetes\n",
      "\n",
      "32.7007299270073 % of people in Pedigree Band 0 have diabetes\n",
      "54.054054054054056 % of people in Pedigree Band 1 have diabetes\n",
      "44.44444444444444 % of people in Pedigree Band 2 have diabetes\n"
     ]
    }
   ],
   "source": [
    "diabete['BPBand'] = pd.cut(diabete['BP'], bins=3,labels=[0,1,2])\n",
    "diabete['insulinBand'] = pd.cut(diabete['insulin'], bins=3,labels=[0,1,2])\n",
    "diabete['BMIBand'] = pd.cut(diabete['BMI'], bins=3,labels=[0,1,2])\n",
    "diabete['PedigreeBand'] = pd.cut(diabete['Pedigree'], bins=3,labels=[0,1,2])\n",
    "for i in range(3):\n",
    "    perc=100*len(diabete[(diabete['BMIBand']==i)&(diabete['IsDiabetic']==1)])/len(diabete[diabete['BMIBand']==i])\n",
    "    print(perc,\"% of people in BMI Band \"+str(i)+\" have diabetes\")\n",
    "print()\n",
    "for i in range(3):\n",
    "    perc=100*len(diabete[(diabete['PedigreeBand']==i)&(diabete['IsDiabetic']==1)])/len(diabete[diabete['PedigreeBand']==i])\n",
    "    print(perc,\"% of people in Pedigree Band \"+str(i)+\" have diabetes\")"
   ]
  },
  {
   "cell_type": "markdown",
   "metadata": {},
   "source": [
    "\n",
    "__4. Now consider the original dataset again, instead of generalizing the NAN values with the mean of the feature we will try assigning values to NANs based on some hypothesis. For example for age we assume that the relation between BMI and BP of people is a reflection of the age group.We can have 9 types of BMI and BP relations and our aim is to find the median age of each of that group:__\n",
    "\n",
    "Your Age guess matrix will look like this:  \n",
    "\n",
    "| BMI | 0       | 1      | 2  |\n",
    "|-----|-------------|------------- |----- |\n",
    "| BP  |             |              |      |\n",
    "| 0   | a00         | a01          | a02  |\n",
    "| 1   | a10         | a11          | a12  |\n",
    "| 2   | a20         | a21          |  a22 |\n",
    "\n",
    "\n",
    "__Create a guess_matrix  for NaN values of *'Age'* ( using 'BMI' and 'BP')  and  *'glucoseLevel'*  (using 'BP' and 'Pedigree') for the given dataset and assign values accordingly to the NaNs in 'Age' or *'glucoseLevel'* .__\n",
    "\n",
    "\n",
    "Refer to how we guessed age in the titanic notebook in the class.\n",
    "\n"
   ]
  },
  {
   "cell_type": "code",
   "execution_count": 117,
   "metadata": {},
   "outputs": [
    {
     "name": "stdout",
     "output_type": "stream",
     "text": [
      "3.9215686274509802 % of people in BMI Band 0 have diabetes\n",
      "35.82966226138032 % of people in BMI Band 1 have diabetes\n",
      "61.111111111111114 % of people in BMI Band 2 have diabetes\n",
      "\n",
      "32.7007299270073 % of people in Pedigree Band 0 have diabetes\n",
      "54.054054054054056 % of people in Pedigree Band 1 have diabetes\n",
      "44.44444444444444 % of people in Pedigree Band 2 have diabetes\n"
     ]
    }
   ],
   "source": [
    "diabete = pd.read_csv(\"diabetesdata.csv\")\n",
    "diabete['BPBand'] = pd.cut(diabete['BP'], bins=3,labels=[0,1,2])\n",
    "diabete['insulinBand'] = pd.cut(diabete['insulin'], bins=3,labels=[0,1,2])\n",
    "diabete['BMIBand'] = pd.cut(diabete['BMI'], bins=3,labels=[0,1,2])\n",
    "diabete['PedigreeBand'] = pd.cut(diabete['Pedigree'], bins=3,labels=[0,1,2])\n",
    "for i in range(3):\n",
    "    perc=100*len(diabete[(diabete['BMIBand']==i)&(diabete['IsDiabetic']==1)])/len(diabete[diabete['BMIBand']==i])\n",
    "    print(perc,\"% of people in BMI Band \"+str(i)+\" have diabetes\")\n",
    "print()\n",
    "for i in range(3):\n",
    "    perc=100*len(diabete[(diabete['PedigreeBand']==i)&(diabete['IsDiabetic']==1)])/len(diabete[diabete['PedigreeBand']==i])\n",
    "    print(perc,\"% of people in Pedigree Band \"+str(i)+\" have diabetes\")\n"
   ]
  },
  {
   "cell_type": "code",
   "execution_count": 118,
   "metadata": {},
   "outputs": [
    {
     "name": "stdout",
     "output_type": "stream",
     "text": [
      "   TimesPregnant  glucoseLevel  BP  insulin   BMI  Pedigree  Age  IsDiabetic  \\\n",
      "0              6         148.0  72        0  33.6     0.627   50           1   \n",
      "1              1         112.0  66        0  26.6     0.351   31           0   \n",
      "2              8         183.0  64        0  23.3     0.672   29           1   \n",
      "3              1         112.0  66       94  28.1     0.167   21           0   \n",
      "4              0         137.0  40      168  43.1     2.288   33           1   \n",
      "\n",
      "  BPBand insulinBand BMIBand PedigreeBand  \n",
      "0      1           0       1            0  \n",
      "1      1           0       1            0  \n",
      "2      1           0       1            0  \n",
      "3      1           0       1            0  \n",
      "4      0           0       1            2  \n",
      "<class 'pandas.core.frame.DataFrame'>\n",
      "RangeIndex: 768 entries, 0 to 767\n",
      "Data columns (total 12 columns):\n",
      "TimesPregnant    768 non-null int64\n",
      "glucoseLevel     768 non-null float64\n",
      "BP               768 non-null int64\n",
      "insulin          768 non-null int64\n",
      "BMI              768 non-null float64\n",
      "Pedigree         768 non-null float64\n",
      "Age              768 non-null int32\n",
      "IsDiabetic       768 non-null int64\n",
      "BPBand           768 non-null category\n",
      "insulinBand      768 non-null category\n",
      "BMIBand          768 non-null category\n",
      "PedigreeBand     768 non-null category\n",
      "dtypes: category(4), float64(3), int32(1), int64(4)\n",
      "memory usage: 48.5 KB\n"
     ]
    }
   ],
   "source": [
    "guess_age = np.zeros((3,3),dtype=int)\n",
    "guess_glu = np.zeros((3,3),dtype=int)\n",
    "for i in range(3):\n",
    "    for j in range(3):\n",
    "        guess_df = diabete[(diabete['BMIBand'] == i)&(diabete['BPBand'] == j)]['Age'].dropna()\n",
    "        age_g=guess_df.median()\n",
    "        guess_age[i,j]=int(age_g)\n",
    "        \n",
    "        guess_df2 = diabete[(diabete['PedigreeBand'] == i)&(diabete['BPBand'] == j)]['glucoseLevel'].dropna()\n",
    "        glu_g=guess_df2.median()\n",
    "        guess_glu[i,j]=int(glu_g)\n",
    "for i in range(3):\n",
    "    for j in range(3):\n",
    "            diabete.loc[ (diabete['Age'].isnull()) & (diabete['BMIBand'] == i) \\\n",
    "                    & (diabete['BPBand'] == j),'Age'] = guess_age[i,j]\n",
    "            diabete.loc[ (diabete['glucoseLevel'].isnull()) & (diabete['PedigreeBand'] == i) \\\n",
    "                    & (diabete['BPBand'] == j),'glucoseLevel'] = guess_glu[i,j]\n",
    "diabete['Age']= diabete['Age'].astype(int)\n",
    "print(diabete.head())\n",
    "diabete.info()\n",
    "\n"
   ]
  },
  {
   "cell_type": "markdown",
   "metadata": {},
   "source": [
    "\n",
    "\n",
    "__5. Now, convert 'glucoseLevel' and 'Age' features also to categorical variables of 5 categories each.__\n",
    "\n",
    "__Use this dataset (with all features in categorical form) to train perceptron, logistic regression and random forest models using 20% test split. Report training and test accuracies.__\n",
    "\n",
    "\n",
    "\n",
    "\n",
    "\n"
   ]
  },
  {
   "cell_type": "code",
   "execution_count": 119,
   "metadata": {},
   "outputs": [
    {
     "data": {
      "text/html": [
       "<div>\n",
       "<style>\n",
       "    .dataframe thead tr:only-child th {\n",
       "        text-align: right;\n",
       "    }\n",
       "\n",
       "    .dataframe thead th {\n",
       "        text-align: left;\n",
       "    }\n",
       "\n",
       "    .dataframe tbody tr th {\n",
       "        vertical-align: top;\n",
       "    }\n",
       "</style>\n",
       "<table border=\"1\" class=\"dataframe\">\n",
       "  <thead>\n",
       "    <tr style=\"text-align: right;\">\n",
       "      <th></th>\n",
       "      <th>TimesPregnant</th>\n",
       "      <th>glucoseLevel</th>\n",
       "      <th>BP</th>\n",
       "      <th>insulin</th>\n",
       "      <th>BMI</th>\n",
       "      <th>Pedigree</th>\n",
       "      <th>Age</th>\n",
       "      <th>IsDiabetic</th>\n",
       "      <th>BPBand</th>\n",
       "      <th>insulinBand</th>\n",
       "      <th>BMIBand</th>\n",
       "      <th>PedigreeBand</th>\n",
       "      <th>AgeBand</th>\n",
       "      <th>glucoseLevelBand</th>\n",
       "    </tr>\n",
       "  </thead>\n",
       "  <tbody>\n",
       "    <tr>\n",
       "      <th>0</th>\n",
       "      <td>6</td>\n",
       "      <td>148.0</td>\n",
       "      <td>72</td>\n",
       "      <td>0</td>\n",
       "      <td>33.6</td>\n",
       "      <td>0.627</td>\n",
       "      <td>50</td>\n",
       "      <td>1</td>\n",
       "      <td>1</td>\n",
       "      <td>0</td>\n",
       "      <td>1</td>\n",
       "      <td>0</td>\n",
       "      <td>2</td>\n",
       "      <td>3</td>\n",
       "    </tr>\n",
       "    <tr>\n",
       "      <th>1</th>\n",
       "      <td>1</td>\n",
       "      <td>112.0</td>\n",
       "      <td>66</td>\n",
       "      <td>0</td>\n",
       "      <td>26.6</td>\n",
       "      <td>0.351</td>\n",
       "      <td>31</td>\n",
       "      <td>0</td>\n",
       "      <td>1</td>\n",
       "      <td>0</td>\n",
       "      <td>1</td>\n",
       "      <td>0</td>\n",
       "      <td>0</td>\n",
       "      <td>2</td>\n",
       "    </tr>\n",
       "    <tr>\n",
       "      <th>2</th>\n",
       "      <td>8</td>\n",
       "      <td>183.0</td>\n",
       "      <td>64</td>\n",
       "      <td>0</td>\n",
       "      <td>23.3</td>\n",
       "      <td>0.672</td>\n",
       "      <td>29</td>\n",
       "      <td>1</td>\n",
       "      <td>1</td>\n",
       "      <td>0</td>\n",
       "      <td>1</td>\n",
       "      <td>0</td>\n",
       "      <td>0</td>\n",
       "      <td>4</td>\n",
       "    </tr>\n",
       "    <tr>\n",
       "      <th>3</th>\n",
       "      <td>1</td>\n",
       "      <td>112.0</td>\n",
       "      <td>66</td>\n",
       "      <td>94</td>\n",
       "      <td>28.1</td>\n",
       "      <td>0.167</td>\n",
       "      <td>21</td>\n",
       "      <td>0</td>\n",
       "      <td>1</td>\n",
       "      <td>0</td>\n",
       "      <td>1</td>\n",
       "      <td>0</td>\n",
       "      <td>0</td>\n",
       "      <td>2</td>\n",
       "    </tr>\n",
       "    <tr>\n",
       "      <th>4</th>\n",
       "      <td>0</td>\n",
       "      <td>137.0</td>\n",
       "      <td>40</td>\n",
       "      <td>168</td>\n",
       "      <td>43.1</td>\n",
       "      <td>2.288</td>\n",
       "      <td>33</td>\n",
       "      <td>1</td>\n",
       "      <td>0</td>\n",
       "      <td>0</td>\n",
       "      <td>1</td>\n",
       "      <td>2</td>\n",
       "      <td>0</td>\n",
       "      <td>3</td>\n",
       "    </tr>\n",
       "  </tbody>\n",
       "</table>\n",
       "</div>"
      ],
      "text/plain": [
       "   TimesPregnant  glucoseLevel  BP  insulin   BMI  Pedigree  Age  IsDiabetic  \\\n",
       "0              6         148.0  72        0  33.6     0.627   50           1   \n",
       "1              1         112.0  66        0  26.6     0.351   31           0   \n",
       "2              8         183.0  64        0  23.3     0.672   29           1   \n",
       "3              1         112.0  66       94  28.1     0.167   21           0   \n",
       "4              0         137.0  40      168  43.1     2.288   33           1   \n",
       "\n",
       "  BPBand insulinBand BMIBand PedigreeBand AgeBand glucoseLevelBand  \n",
       "0      1           0       1            0       2                3  \n",
       "1      1           0       1            0       0                2  \n",
       "2      1           0       1            0       0                4  \n",
       "3      1           0       1            0       0                2  \n",
       "4      0           0       1            2       0                3  "
      ]
     },
     "execution_count": 119,
     "metadata": {},
     "output_type": "execute_result"
    }
   ],
   "source": [
    "diabete['AgeBand'] = pd.cut(diabete['Age'], bins=5,labels=[0,1,2,3,4])\n",
    "diabete['glucoseLevelBand'] = pd.cut(diabete['glucoseLevel'], bins=5,labels=[0,1,2,3,4])\n",
    "diabete.head()"
   ]
  },
  {
   "cell_type": "code",
   "execution_count": 121,
   "metadata": {
    "collapsed": true
   },
   "outputs": [],
   "source": [
    "X=diabete[['BPBand','insulinBand','BMIBand','PedigreeBand','AgeBand','glucoseLevelBand']]\n",
    "Y=diabete['IsDiabetic']\n",
    "\n",
    "np.random.seed(1337)\n",
    "from sklearn.model_selection import train_test_split\n",
    "X_train, X_val, Y_train, Y_val = train_test_split(X, Y, test_size=0.2)"
   ]
  },
  {
   "cell_type": "code",
   "execution_count": 124,
   "metadata": {},
   "outputs": [
    {
     "name": "stdout",
     "output_type": "stream",
     "text": [
      "Logistic Regression Training set accuracy =  75.4071661238 %\n",
      "Logistic Regression Test set accuracy =  78.5714285714 %\n"
     ]
    }
   ],
   "source": [
    "from sklearn.linear_model import LogisticRegression\n",
    "logreg = LogisticRegression()\n",
    "logreg.fit(X_train, Y_train)\n",
    "lr_tr_pred=logreg.predict(X_train)\n",
    "lr_tr_acc=sum(lr_tr_pred == Y_train)/len(Y_train)*100\n",
    "print(\"Logistic Regression Training set accuracy = \", lr_tr_acc,\"%\")\n",
    "\n",
    "lr_st_pred=logreg.predict(X_val)\n",
    "lr_st_acc=sum(lr_st_pred == Y_val)/len(Y_val)*100\n",
    "print(\"Logistic Regression Test set accuracy = \", lr_st_acc,\"%\")"
   ]
  },
  {
   "cell_type": "code",
   "execution_count": 126,
   "metadata": {},
   "outputs": [
    {
     "name": "stdout",
     "output_type": "stream",
     "text": [
      "Perception Training set accuracy =  62.7035830619 %\n",
      "Perception Test set accuracy =  74.6753246753 %\n"
     ]
    },
    {
     "name": "stderr",
     "output_type": "stream",
     "text": [
      "C:\\Users\\jylia\\Anaconda3\\envs\\data-x\\lib\\site-packages\\sklearn\\linear_model\\stochastic_gradient.py:128: FutureWarning: max_iter and tol parameters have been added in <class 'sklearn.linear_model.perceptron.Perceptron'> in 0.19. If both are left unset, they default to max_iter=5 and tol=None. If tol is not None, max_iter defaults to max_iter=1000. From 0.21, default max_iter will be 1000, and default tol will be 1e-3.\n",
      "  \"and default tol will be 1e-3.\" % type(self), FutureWarning)\n"
     ]
    }
   ],
   "source": [
    "from sklearn.linear_model import Perceptron\n",
    "perceptron = Perceptron()\n",
    "perceptron.fit(X_train, Y_train)\n",
    "\n",
    "per_tr_pred=perceptron.predict(X_train)\n",
    "per_tr_acc=sum(per_tr_pred == Y_train)/len(Y_train)*100\n",
    "print(\"Perception Training set accuracy = \", per_tr_acc,\"%\")\n",
    "\n",
    "per_st_pred=perceptron.predict(X_val)\n",
    "per_st_acc=sum(per_st_pred == Y_val)/len(Y_val)*100\n",
    "print(\"Perception Test set accuracy = \", per_st_acc,\"%\")"
   ]
  },
  {
   "cell_type": "code",
   "execution_count": 127,
   "metadata": {},
   "outputs": [
    {
     "name": "stdout",
     "output_type": "stream",
     "text": [
      "Random Forest Training set accuracy =  78.990228013 %\n",
      "Random Forest Test set accuracy =  74.6753246753 %\n"
     ]
    }
   ],
   "source": [
    "from sklearn.ensemble import RandomForestClassifier\n",
    "rf = RandomForestClassifier(n_estimators=1000)\n",
    "rf.fit(X_train, Y_train)\n",
    "\n",
    "rf_tr_pred=rf.predict(X_train)\n",
    "rf_tr_acc=sum(rf_tr_pred == Y_train)/len(Y_train)*100\n",
    "print(\"Random Forest Training set accuracy = \", rf_tr_acc,\"%\")\n",
    "\n",
    "rf_st_pred=perceptron.predict(X_val)\n",
    "rf_st_acc=sum(rf_st_pred == Y_val)/len(Y_val)*100\n",
    "print(\"Random Forest Test set accuracy = \", rf_st_acc,\"%\")"
   ]
  },
  {
   "cell_type": "markdown",
   "metadata": {},
   "source": []
  },
  {
   "cell_type": "markdown",
   "metadata": {},
   "source": [
    "### Part 3\n",
    "\n",
    "1. __Derive the expression for the optimal parameters in the linear regression equation, i.e. solve the normal equation for Ordinary Least Squares for the case of Simple Linear Regression, when we only have one input and one output__\n",
    "\n",
    "Given a set of _n_ points $(X_i,Y_i)$ where $Yi$ is dependent on $Xi$ by a linear relation,  find the best-fit line,$$Z_i = {aX_i + b}$$  that minimizes the __sum of squared errors in Y__,i.e: $$minimize \\sum_{i}{(Y_i- Z_i)^2}$$\n",
    "__i. __ Show that $$ intercept \\quad b = \\overline{Y}-  a.\\overline{X}\\quad  and   \\quad slope \\quad a= \\frac{\\sum_{i}(X_i- \\overline{X})\u0001(Y_i- \\overline{Y})}{ \\sum_{i}(X_i- \\overline{X})^2}$$\n",
    "\n",
    "\n",
    " where $\\overline{X}$ and  $\\overline{Y}$ are the averages of the X values and the Y values, respectively.\n",
    " \n",
    "__ ii. __Show that slope _a_ can be written as $ a = r.(S_y /S_x)$ where $S_y$  = the standard deviation of the Y values and $S_x$= the standard deviation of the X values and _r_ is the correlation coefficient.\n",
    "\n",
    "##### Please try to write a nice LateXed version of your answer, and do the derivations of the expressions as nicely as possible\n",
    "\n",
    "\n",
    "_____"
   ]
  },
  {
   "cell_type": "markdown",
   "metadata": {},
   "source": []
  },
  {
   "cell_type": "markdown",
   "metadata": {
    "collapsed": true
   },
   "source": [
    "i)\n",
    "line predictor L = Y = E[Y] + Y-E[Y] = E[Y]+(Y-E[Y])(X-E[X])/(X-E[X])\n",
    "                                     = E[Y]+cov(X,Y)/var(x) *(X-E[X])     .....cov(X,Y)=(Y-E[Y])(X-E[X]);var(X)=(X-E[X])^2\n",
    "                                     = (cov(X,Y)/var(X))*X + (E[Y]-(cov(X,Y)/var(X))*E[X])\n",
    "                                     = aX + b \n",
    "                                     ...... a =cov(X,Y)/var(X); b =E[Y]-a*E[X]\n",
    "ii)\n",
    "r=corr(X,Y)=cov(X,Y)/(Std(X)*Std(Y)); var(X)=Std(X)^2\n",
    "a= cov(X,Y)/var(X) = corr(X,Y)*(Std(X)*Std(Y)) / Std(X)^2 =corr(X,Y)*std(Y)/std(X) = r*(Std(Y)/Std(X)\n"
   ]
  },
  {
   "cell_type": "markdown",
   "metadata": {},
   "source": [
    "# Two Extra Credit Points: Fun with Webscraping & Text manipulation\n",
    "### (Mandatory for Grad students!)"
   ]
  },
  {
   "cell_type": "markdown",
   "metadata": {},
   "source": [
    "<div class='alert alert-info'> `NOTE:` **If you are a Graduate Section student (enrolled in 290), the Extra Credit Questions are mandatory.**</div>"
   ]
  },
  {
   "cell_type": "markdown",
   "metadata": {
    "collapsed": true
   },
   "source": [
    "## 1. Statistics in Presidential Debates\n",
    "\n",
    "Your first task is to scrape Presidential Debates from the Commission of Presidential Debates website: http://www.debates.org/index.php?page=debate-transcripts.\n",
    "\n",
    "To do this, you are not allowed to manually look up the URLs that you need, instead you have to scrape them. The root url to be scraped is the one listed above, namely: http://www.debates.org/index.php?page=debate-transcripts\n",
    "\n",
    "\n",
    "1. By using `requests` and `BeautifulSoup` find all the links / URLs on the website that links to transcriptions of **First Presidential Debates** from the years [2012, 2008, 2004, 2000, 1996, 1988, 1984, 1976, 1960]. In total you should find 9 links / URLs tat fulfill this criteria.\n",
    "2. When you have a list of the URLs your task is to create a Data Frame with some statistics (see example of output below):\n",
    "    1. Scrape the title of each link and use that as the column name in your Data Frame. \n",
    "    2. Count how long the transcript of the debate is (as in the number of characters in transcription string). Feel free to include `\\` characters in your count, but remove any breakline characters, i.e. `\\n`. You will get credit if your count is +/- 10% from our result.\n",
    "    3. Count how many times the word **war** was used in the different debates. Note that you have to convert the text in a smart way (to not count the word **warranty** for example, but counting **war.**, **war!**, **war,** or **War** etc.\n",
    "    4. Also scrape the most common used word in the debate, and write how many times it was used. Note that you have to use the same strategy as in 3 in order to do this.\n",
    "    \n",
    "**Tips:**\n",
    "\n",
    "___\n",
    "\n",
    "In order to solve question 3 and 4 above it can be useful to work with Regular Expressions and explore methods on strings like `.strip(), .replace(), .find(), .count(), .lower()` etc. Both are very powerful tools to do string processing in Python. To count common words for example I used a `Counter` object and a Regular expression pattern for only words, see example:\n",
    "\n",
    "```python\n",
    "    from collections import Counter\n",
    "    import re\n",
    "\n",
    "    counts = Counter(re.findall(r\"[\\w']+\", text.lower()))\n",
    "```\n",
    "\n",
    "Read more about Regular Expressions here: https://docs.python.org/3/howto/regex.html\n",
    "    \n",
    "    \n",
    "**Example output of all of the answers to EC Question 1:**\n",
    "\n",
    "\n",
    "![pres_stats](https://github.com/ikhlaqsidhu/data-x/raw/master/x-archive/misc/hw2_imgs_spring2018/president_stats.png)\n",
    "\n",
    "\n",
    "\n",
    "\n",
    "----\n",
    "\n",
    ".\n",
    "\n",
    "\n"
   ]
  },
  {
   "cell_type": "code",
   "execution_count": 1,
   "metadata": {},
   "outputs": [
    {
     "name": "stdout",
     "output_type": "stream",
     "text": [
      "<Response [200]>\n"
     ]
    }
   ],
   "source": [
    "import requests\n",
    "import bs4 as bs\n",
    "from collections import Counter\n",
    "import re\n",
    "import pandas as pd\n",
    "import numpy as np\n",
    "\n",
    "source = requests.get(\"http://www.debates.org/index.php?page=debate-transcripts\",) \n",
    "print(source)\n",
    "soup = bs.BeautifulSoup(source.content, features='html.parser')\n"
   ]
  },
  {
   "cell_type": "code",
   "execution_count": 210,
   "metadata": {},
   "outputs": [
    {
     "name": "stdout",
     "output_type": "stream",
     "text": [
      "Info about October 3, 2012: The First Obama-Romney Presidential Debate:  http://www.debates.org/index.php?page=october-3-2012-debate-transcript\n",
      "Info about September 26, 2008: The First McCain-Obama Presidential Debate:  http://www.debates.org/index.php?page=2008-debate-transcript\n",
      "Info about September 30, 2004: The First Bush-Kerry Presidential Debate:  http://www.debates.org/index.php?page=september-30-2004-debate-transcript\n",
      "Info about October 3, 2000: The First Gore-Bush Presidential Debate:  http://www.debates.org/index.php?page=october-3-2000-transcript\n",
      "Info about October 6, 1996: The First Clinton-Dole Presidential Debate:  http://www.debates.org/index.php?page=october-6-1996-debate-transcript\n",
      "Info about September 25, 1988: The First Bush-Dukakis Presidential Debate:  http://www.debates.org/index.php?page=september-25-1988-debate-transcript\n",
      "Info about October 7, 1984: The First Reagan-Mondale Presidential Debate:  http://www.debates.org/index.php?page=october-7-1984-debate-transcript\n",
      "Info about September 23, 1976: The First Carter-Ford Presidential Debate:  http://www.debates.org/index.php?page=september-23-1976-debate-transcript\n",
      "Info about September 26, 1960: The First Kennedy-Nixon Presidential Debate:  http://www.debates.org/index.php?page=september-26-1960-debate-transcript\n"
     ]
    }
   ],
   "source": [
    "####### 1.\n",
    "tab=[]\n",
    "li=[]\n",
    "links = soup.find_all('a')\n",
    "\n",
    "for l in links:\n",
    "    if ('First' in l.text) & ('Presidential' in l.text) & ('Debate' in l.text):\n",
    "        print(\"Info about {}: \".format(l.text), \\\n",
    "              l.get('href')) \n",
    "        tab.append(l.text)\n",
    "        li.append(l.get('href'))\n",
    "df= pd.DataFrame(columns=tab) ####a\n",
    "for i in range(len(li)):\n",
    "    length=[]\n",
    "    war=[]\n",
    "    ll=0\n",
    "    df.loc['link',tab[i]]=li[i]\n",
    "    co=requests.get(li[i],)\n",
    "    cont=bs.BeautifulSoup(co.content, features='html.parser')\n",
    "    x=cont.find_all('p')\n",
    "    b=x[0]\n",
    "    ##########b\n",
    "    co = Counter(re.findall('[0-9A-Za-z?.,! ]', cc.text))\n",
    "    for j in range(len(co.most_common())):\n",
    "        ll += co.most_common()[j][1]\n",
    "    df.loc['character',tab[i]]=ll\n",
    "    for a in x:##########c\n",
    "        war_len=a.text.count('War,')+a.text.count('war,')+a.text.count('wars')+a.text.count('War.')+a.text.count('war.')\\\n",
    "          +a.text.count('War!')+a.text.count('war!')+a.text.count('War ')+a.text.count('war ')\n",
    "        war.append(war_len)\n",
    "    df.loc['war_count',tab[i]]=np.sum(war.pop(0))\n",
    "    ##################d\n",
    "    counts = Counter(re.findall(r\"[\\w']+\", b.text.lower()))\n",
    "    df.loc['most_common_w',tab[i]]=counts.most_common()[0][0]\n",
    "    df.loc['most_common_count',tab[i]]=counts.most_common()[0][1]\n",
    "    \n",
    "    \n",
    "    \n",
    "    \n",
    "    \n"
   ]
  },
  {
   "cell_type": "code",
   "execution_count": 211,
   "metadata": {},
   "outputs": [
    {
     "data": {
      "text/html": [
       "<div>\n",
       "<style>\n",
       "    .dataframe thead tr:only-child th {\n",
       "        text-align: right;\n",
       "    }\n",
       "\n",
       "    .dataframe thead th {\n",
       "        text-align: left;\n",
       "    }\n",
       "\n",
       "    .dataframe tbody tr th {\n",
       "        vertical-align: top;\n",
       "    }\n",
       "</style>\n",
       "<table border=\"1\" class=\"dataframe\">\n",
       "  <thead>\n",
       "    <tr style=\"text-align: right;\">\n",
       "      <th></th>\n",
       "      <th>October 3, 2012: The First Obama-Romney Presidential Debate</th>\n",
       "      <th>September 26, 2008: The First McCain-Obama Presidential Debate</th>\n",
       "      <th>September 30, 2004: The First Bush-Kerry Presidential Debate</th>\n",
       "      <th>October 3, 2000: The First Gore-Bush Presidential Debate</th>\n",
       "      <th>October 6, 1996: The First Clinton-Dole Presidential Debate</th>\n",
       "      <th>September 25, 1988: The First Bush-Dukakis Presidential Debate</th>\n",
       "      <th>October 7, 1984: The First Reagan-Mondale Presidential Debate</th>\n",
       "      <th>September 23, 1976: The First Carter-Ford Presidential Debate</th>\n",
       "      <th>September 26, 1960: The First Kennedy-Nixon Presidential Debate</th>\n",
       "    </tr>\n",
       "  </thead>\n",
       "  <tbody>\n",
       "    <tr>\n",
       "      <th>link</th>\n",
       "      <td>http://www.debates.org/index.php?page=october-...</td>\n",
       "      <td>http://www.debates.org/index.php?page=2008-deb...</td>\n",
       "      <td>http://www.debates.org/index.php?page=septembe...</td>\n",
       "      <td>http://www.debates.org/index.php?page=october-...</td>\n",
       "      <td>http://www.debates.org/index.php?page=october-...</td>\n",
       "      <td>http://www.debates.org/index.php?page=septembe...</td>\n",
       "      <td>http://www.debates.org/index.php?page=october-...</td>\n",
       "      <td>http://www.debates.org/index.php?page=septembe...</td>\n",
       "      <td>http://www.debates.org/index.php?page=septembe...</td>\n",
       "    </tr>\n",
       "    <tr>\n",
       "      <th>character</th>\n",
       "      <td>92912</td>\n",
       "      <td>92912</td>\n",
       "      <td>92912</td>\n",
       "      <td>92912</td>\n",
       "      <td>92912</td>\n",
       "      <td>92912</td>\n",
       "      <td>92912</td>\n",
       "      <td>92912</td>\n",
       "      <td>92912</td>\n",
       "    </tr>\n",
       "    <tr>\n",
       "      <th>war_count</th>\n",
       "      <td>5</td>\n",
       "      <td>48</td>\n",
       "      <td>63</td>\n",
       "      <td>11</td>\n",
       "      <td>15</td>\n",
       "      <td>7</td>\n",
       "      <td>3</td>\n",
       "      <td>7</td>\n",
       "      <td>3</td>\n",
       "    </tr>\n",
       "    <tr>\n",
       "      <th>most_common_w</th>\n",
       "      <td>the</td>\n",
       "      <td>the</td>\n",
       "      <td>the</td>\n",
       "      <td>the</td>\n",
       "      <td>the</td>\n",
       "      <td>the</td>\n",
       "      <td>the</td>\n",
       "      <td>the</td>\n",
       "      <td>the</td>\n",
       "    </tr>\n",
       "    <tr>\n",
       "      <th>most_common_count</th>\n",
       "      <td>757</td>\n",
       "      <td>1470</td>\n",
       "      <td>857</td>\n",
       "      <td>919</td>\n",
       "      <td>876</td>\n",
       "      <td>804</td>\n",
       "      <td>867</td>\n",
       "      <td>857</td>\n",
       "      <td>779</td>\n",
       "    </tr>\n",
       "  </tbody>\n",
       "</table>\n",
       "</div>"
      ],
      "text/plain": [
       "                  October 3, 2012: The First Obama-Romney Presidential Debate  \\\n",
       "link               http://www.debates.org/index.php?page=october-...            \n",
       "character                                                      92912            \n",
       "war_count                                                          5            \n",
       "most_common_w                                                    the            \n",
       "most_common_count                                                757            \n",
       "\n",
       "                  September 26, 2008: The First McCain-Obama Presidential Debate  \\\n",
       "link               http://www.debates.org/index.php?page=2008-deb...               \n",
       "character                                                      92912               \n",
       "war_count                                                         48               \n",
       "most_common_w                                                    the               \n",
       "most_common_count                                               1470               \n",
       "\n",
       "                  September 30, 2004: The First Bush-Kerry Presidential Debate  \\\n",
       "link               http://www.debates.org/index.php?page=septembe...             \n",
       "character                                                      92912             \n",
       "war_count                                                         63             \n",
       "most_common_w                                                    the             \n",
       "most_common_count                                                857             \n",
       "\n",
       "                  October 3, 2000: The First Gore-Bush Presidential Debate  \\\n",
       "link               http://www.debates.org/index.php?page=october-...         \n",
       "character                                                      92912         \n",
       "war_count                                                         11         \n",
       "most_common_w                                                    the         \n",
       "most_common_count                                                919         \n",
       "\n",
       "                  October 6, 1996: The First Clinton-Dole Presidential Debate  \\\n",
       "link               http://www.debates.org/index.php?page=october-...            \n",
       "character                                                      92912            \n",
       "war_count                                                         15            \n",
       "most_common_w                                                    the            \n",
       "most_common_count                                                876            \n",
       "\n",
       "                  September 25, 1988: The First Bush-Dukakis Presidential Debate  \\\n",
       "link               http://www.debates.org/index.php?page=septembe...               \n",
       "character                                                      92912               \n",
       "war_count                                                          7               \n",
       "most_common_w                                                    the               \n",
       "most_common_count                                                804               \n",
       "\n",
       "                  October 7, 1984: The First Reagan-Mondale Presidential Debate  \\\n",
       "link               http://www.debates.org/index.php?page=october-...              \n",
       "character                                                      92912              \n",
       "war_count                                                          3              \n",
       "most_common_w                                                    the              \n",
       "most_common_count                                                867              \n",
       "\n",
       "                  September 23, 1976: The First Carter-Ford Presidential Debate  \\\n",
       "link               http://www.debates.org/index.php?page=septembe...              \n",
       "character                                                      92912              \n",
       "war_count                                                          7              \n",
       "most_common_w                                                    the              \n",
       "most_common_count                                                857              \n",
       "\n",
       "                  September 26, 1960: The First Kennedy-Nixon Presidential Debate  \n",
       "link               http://www.debates.org/index.php?page=septembe...               \n",
       "character                                                      92912               \n",
       "war_count                                                          3               \n",
       "most_common_w                                                    the               \n",
       "most_common_count                                                779               "
      ]
     },
     "execution_count": 211,
     "metadata": {},
     "output_type": "execute_result"
    }
   ],
   "source": [
    "df"
   ]
  },
  {
   "cell_type": "markdown",
   "metadata": {},
   "source": [
    "    \n",
    "## 2. Download and read in specific line from many data sets\n",
    "\n",
    "Scrape the first 27 data sets from this URL http://people.sc.fsu.edu/~jburkardt/datasets/regression/ (i.e.`x01.txt` - `x27.txt`). Then, save the 5th line in each data set, this should be the name of the data set author (get rid of the `#` symbol, the white spaces and the comma at the end). \n",
    "\n",
    "Count how many times (with a Python function) each author is the reference for one of the 27 data sets. Showcase your results, sorted, with the most common author name first and how many times he appeared in data sets. Use a Pandas DataFrame to show your results, see example.\n",
    "\n",
    "**Example output of the answer EC Question 2:**\n",
    "\n",
    "![author_stats](https://github.com/ikhlaqsidhu/data-x/raw/master/x-archive/misc/hw2_imgs_spring2018/data_authors.png)\n"
   ]
  },
  {
   "cell_type": "code",
   "execution_count": 52,
   "metadata": {},
   "outputs": [
    {
     "name": "stdout",
     "output_type": "stream",
     "text": [
      "<Response [200]>\n"
     ]
    }
   ],
   "source": [
    "import shutil\n",
    "import os\n",
    "source = requests.get(\"http://people.sc.fsu.edu/~jburkardt/datasets/regression/\",) \n",
    "print(source)\n",
    "soup = bs.BeautifulSoup(source.content, features='html.parser')"
   ]
  },
  {
   "cell_type": "code",
   "execution_count": 173,
   "metadata": {},
   "outputs": [
    {
     "name": "stdout",
     "output_type": "stream",
     "text": [
      "author for x01.txt is Helmut Spaeth\n",
      "author for x02.txt is Helmut Spaeth\n",
      "author for x03.txt is Helmut Spaeth\n",
      "author for x04.txt is Helmut Spaeth\n",
      "author for x05.txt is Helmut Spaeth\n",
      "author for x06.txt is R J Freund and P D Minton\n",
      "author for x07.txt is D G Kleinbaum and L L Kupper\n",
      "author for x08.txt is Helmut Spaeth\n",
      "author for x09.txt is D G Kleinbaum and L L Kupper\n",
      "author for x10.txt is K A Brownlee\n",
      "author for x11.txt is Helmut Spaeth\n",
      "author for x12.txt is Helmut Spaeth\n",
      "author for x13.txt is S Chatterjee and B Price\n",
      "author for x14.txt is Helmut Spaeth\n",
      "author for x15.txt is Helmut Spaeth\n",
      "author for x16.txt is Helmut Spaeth\n",
      "author for x17.txt is Helmut Spaeth\n",
      "author for x18.txt is Helmut Spaeth\n",
      "author for x19.txt is R J Freund and P D Minton\n",
      "author for x20.txt is Helmut Spaeth\n",
      "author for x21.txt is Helmut Spaeth\n",
      "author for x22.txt is Helmut Spaeth\n",
      "author for x23.txt is S Chatterjee, B Price\n",
      "author for x24.txt is S Chatterjee, B Price\n",
      "author for x25.txt is S Chatterjee, B Price\n",
      "author for x26.txt is S C Narula, J F Wellington\n",
      "author for x27.txt is S C Narula, J F Wellington\n"
     ]
    }
   ],
   "source": [
    "authors=[]\n",
    "for n, link in enumerate(soup.find_all('a')):\n",
    "    if '28' in link.text:\n",
    "        break\n",
    "    if 'txt' in link.text:\n",
    "        file_url = 'http://people.sc.fsu.edu/~jburkardt/datasets/regression/'+link.get('href')\n",
    "        file_name =  link.get('href')\n",
    "        file_source = requests.get(file_url, stream = True)\n",
    "        file_soup = bs.BeautifulSoup(file_source.content,features='lxml')\n",
    "        x=file_soup.find_all('p')\n",
    "        for d in x:\n",
    "            tex=d.text.split('\\n')\n",
    "        art=tex[4].strip('#').strip(' ').strip(',')\n",
    "        authors.append(art)\n",
    "        print('author for '+file_name+' is '+art)\n",
    "        del file_source\n"
   ]
  },
  {
   "cell_type": "code",
   "execution_count": 177,
   "metadata": {},
   "outputs": [
    {
     "data": {
      "text/html": [
       "<div>\n",
       "<style>\n",
       "    .dataframe thead tr:only-child th {\n",
       "        text-align: right;\n",
       "    }\n",
       "\n",
       "    .dataframe thead th {\n",
       "        text-align: left;\n",
       "    }\n",
       "\n",
       "    .dataframe tbody tr th {\n",
       "        vertical-align: top;\n",
       "    }\n",
       "</style>\n",
       "<table border=\"1\" class=\"dataframe\">\n",
       "  <thead>\n",
       "    <tr style=\"text-align: right;\">\n",
       "      <th></th>\n",
       "      <th>Counts</th>\n",
       "    </tr>\n",
       "  </thead>\n",
       "  <tbody>\n",
       "    <tr>\n",
       "      <th>Helmut Spaeth</th>\n",
       "      <td>16</td>\n",
       "    </tr>\n",
       "    <tr>\n",
       "      <th>S Chatterjee, B Price</th>\n",
       "      <td>3</td>\n",
       "    </tr>\n",
       "    <tr>\n",
       "      <th>R J Freund and P D Minton</th>\n",
       "      <td>2</td>\n",
       "    </tr>\n",
       "    <tr>\n",
       "      <th>D G Kleinbaum and L L Kupper</th>\n",
       "      <td>2</td>\n",
       "    </tr>\n",
       "    <tr>\n",
       "      <th>S C Narula, J F Wellington</th>\n",
       "      <td>2</td>\n",
       "    </tr>\n",
       "    <tr>\n",
       "      <th>K A Brownlee</th>\n",
       "      <td>1</td>\n",
       "    </tr>\n",
       "    <tr>\n",
       "      <th>S Chatterjee and B Price</th>\n",
       "      <td>1</td>\n",
       "    </tr>\n",
       "  </tbody>\n",
       "</table>\n",
       "</div>"
      ],
      "text/plain": [
       "                              Counts\n",
       "Helmut Spaeth                     16\n",
       "S Chatterjee, B Price              3\n",
       "R J Freund and P D Minton          2\n",
       "D G Kleinbaum and L L Kupper       2\n",
       "S C Narula, J F Wellington         2\n",
       "K A Brownlee                       1\n",
       "S Chatterjee and B Price           1"
      ]
     },
     "execution_count": 177,
     "metadata": {},
     "output_type": "execute_result"
    }
   ],
   "source": [
    "dfd=pd.DataFrame(columns=['Counts'])\n",
    "dfd['Counts']=authors\n",
    "Author_counts=pd.DataFrame(dfd.Counts.value_counts())\n",
    "Author_counts"
   ]
  },
  {
   "cell_type": "code",
   "execution_count": null,
   "metadata": {
    "collapsed": true
   },
   "outputs": [],
   "source": []
  }
 ],
 "metadata": {
  "kernel_info": {
   "name": "data-x"
  },
  "kernelspec": {
   "display_name": "Python 3",
   "language": "python",
   "name": "python3"
  },
  "language_info": {
   "codemirror_mode": {
    "name": "ipython",
    "version": 3
   },
   "file_extension": ".py",
   "mimetype": "text/x-python",
   "name": "python",
   "nbconvert_exporter": "python",
   "pygments_lexer": "ipython3",
   "version": "3.6.3"
  },
  "nteract": {
   "version": "0.7.1"
  }
 },
 "nbformat": 4,
 "nbformat_minor": 2
}
