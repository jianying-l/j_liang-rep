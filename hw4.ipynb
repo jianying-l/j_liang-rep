{
 "cells": [
  {
   "cell_type": "code",
   "execution_count": 1,
   "metadata": {
    "collapsed": true
   },
   "outputs": [],
   "source": [
    "import numpy as np\n",
    "import pandas as pd  \n",
    "import matplotlib.pyplot as plt\n",
    "\n",
    "train = pd.read_csv(\"prideNprejudice.csv\",delimiter=\"\\t\")"
   ]
  },
  {
   "cell_type": "code",
   "execution_count": 2,
   "metadata": {},
   "outputs": [
    {
     "data": {
      "text/html": [
       "<div>\n",
       "<style>\n",
       "    .dataframe thead tr:only-child th {\n",
       "        text-align: right;\n",
       "    }\n",
       "\n",
       "    .dataframe thead th {\n",
       "        text-align: left;\n",
       "    }\n",
       "\n",
       "    .dataframe tbody tr th {\n",
       "        vertical-align: top;\n",
       "    }\n",
       "</style>\n",
       "<table border=\"1\" class=\"dataframe\">\n",
       "  <thead>\n",
       "    <tr style=\"text-align: right;\">\n",
       "      <th></th>\n",
       "      <th>sentences</th>\n",
       "    </tr>\n",
       "  </thead>\n",
       "  <tbody>\n",
       "    <tr>\n",
       "      <th>0</th>\n",
       "      <td>It is a truth universally acknowledged, that a...</td>\n",
       "    </tr>\n",
       "    <tr>\n",
       "      <th>1</th>\n",
       "      <td>\"My dear Mr. Bennet,\" said his lady to him one...</td>\n",
       "    </tr>\n",
       "    <tr>\n",
       "      <th>2</th>\n",
       "      <td>Bennet replied that he had not.</td>\n",
       "    </tr>\n",
       "    <tr>\n",
       "      <th>3</th>\n",
       "      <td>\"But it is,\" returned she; \"for Mrs. Long has ...</td>\n",
       "    </tr>\n",
       "    <tr>\n",
       "      <th>4</th>\n",
       "      <td>Bennet made no answer.</td>\n",
       "    </tr>\n",
       "  </tbody>\n",
       "</table>\n",
       "</div>"
      ],
      "text/plain": [
       "                                           sentences\n",
       "0  It is a truth universally acknowledged, that a...\n",
       "1  \"My dear Mr. Bennet,\" said his lady to him one...\n",
       "2                    Bennet replied that he had not.\n",
       "3  \"But it is,\" returned she; \"for Mrs. Long has ...\n",
       "4                             Bennet made no answer."
      ]
     },
     "execution_count": 2,
     "metadata": {},
     "output_type": "execute_result"
    }
   ],
   "source": [
    "train.head()\n"
   ]
  },
  {
   "cell_type": "code",
   "execution_count": 3,
   "metadata": {
    "collapsed": true
   },
   "outputs": [],
   "source": [
    "import warnings\n",
    "warnings.filterwarnings('ignore')\n",
    "\n",
    "import bs4 as bs\n",
    "import nltk\n",
    "# nltk.download('all')\n",
    "from nltk.tokenize import sent_tokenize # tokenizes sentences\n",
    "import re\n",
    "from nltk.stem import PorterStemmer\n",
    "from nltk.corpus import stopwords\n",
    "from nltk.stem import WordNetLemmatizer\n",
    "\n",
    "eng_stopwords = stopwords.words('english')"
   ]
  },
  {
   "cell_type": "code",
   "execution_count": 4,
   "metadata": {
    "collapsed": true
   },
   "outputs": [],
   "source": [
    "from nltk.corpus import stopwords\n",
    "from nltk.util import ngrams\n",
    "\n",
    "\n",
    "ps = PorterStemmer()\n",
    "wnl = WordNetLemmatizer()\n",
    "\n",
    "def review_cleaner(review,lemmatize=True,stem=False):\n",
    "    '''\n",
    "    Clean and preprocess a review.\n",
    "\n",
    "    1. Remove HTML tags\n",
    "    2. Use regex to remove all special characters (only keep letters)\n",
    "    3. Make strings to lower case and tokenize / word split reviews\n",
    "    4. Remove English stopwords\n",
    "    5. Rejoin to one string\n",
    "    '''\n",
    "    ps = PorterStemmer()\n",
    "    wnl = WordNetLemmatizer()\n",
    "    #1. Remove HTML tags\n",
    "    review = bs.BeautifulSoup(review).text\n",
    "\n",
    "    \n",
    "    #2. Remove punctuation\n",
    "    review = re.sub(\"[^a-zA-Z]\", \" \",review)\n",
    "    \n",
    "    #3. Tokenize into words (all lower case)\n",
    "    review = review.lower().split()\n",
    "    \n",
    "    #4.Set stopwords\n",
    "    eng_stopwords = set(stopwords.words(\"english\"))\n",
    "\n",
    "    clean_review=[]\n",
    "    for word in review:\n",
    "        if word not in eng_stopwords:\n",
    "            if lemmatize is True:\n",
    "                word=wnl.lemmatize(word)\n",
    "            elif stem is True:\n",
    "                if word == 'oed':\n",
    "                    continue\n",
    "                word=ps.stem(word)\n",
    "            clean_review.append(word)\n",
    "    return(clean_review)"
   ]
  },
  {
   "cell_type": "code",
   "execution_count": 5,
   "metadata": {
    "collapsed": true
   },
   "outputs": [],
   "source": [
    "clean_txt = []\n",
    "for i in range(0,len(train['sentences'])):\n",
    "    clean_txt.append(review_cleaner(train['sentences'][i]))"
   ]
  },
  {
   "cell_type": "code",
   "execution_count": 6,
   "metadata": {},
   "outputs": [
    {
     "data": {
      "text/plain": [
       "['truth',\n",
       " 'universally',\n",
       " 'acknowledged',\n",
       " 'single',\n",
       " 'man',\n",
       " 'possessionof',\n",
       " 'good',\n",
       " 'fortune',\n",
       " 'must',\n",
       " 'want',\n",
       " 'wife',\n",
       " 'however',\n",
       " 'little',\n",
       " 'known',\n",
       " 'feeling',\n",
       " 'view',\n",
       " 'man',\n",
       " 'may',\n",
       " 'hisfirst',\n",
       " 'entering',\n",
       " 'neighbourhood',\n",
       " 'truth',\n",
       " 'well',\n",
       " 'fixed',\n",
       " 'mindsof',\n",
       " 'surrounding',\n",
       " 'family',\n",
       " 'considered',\n",
       " 'rightful',\n",
       " 'propertyof',\n",
       " 'one',\n",
       " 'daughter']"
      ]
     },
     "execution_count": 6,
     "metadata": {},
     "output_type": "execute_result"
    }
   ],
   "source": [
    "clean_txt[0]"
   ]
  },
  {
   "cell_type": "code",
   "execution_count": 62,
   "metadata": {
    "collapsed": true
   },
   "outputs": [],
   "source": [
    "sentences=clean_txt\n",
    "# Set values for various parameters\n",
    "num_features = 300    # Word vector dimensionality                      \n",
    "min_word_count = 40   # ignore all words with total frequency lower than this                       \n",
    "num_workers = 4       # Number of threads to run in parallel\n",
    "context = 10          # Context window size                                                                                    \n",
    "\n",
    "from gensim.models import word2vec\n",
    "\n",
    "model = word2vec.Word2Vec(sentences, workers=num_workers, \\\n",
    "           size=num_features, min_count = min_word_count, \\\n",
    "            window = context,iter=20)\n",
    "\n",
    "\n",
    "# save the model for later use. You can load it later using Word2Vec.load()\n",
    "model.save(\"model_1\")"
   ]
  },
  {
   "cell_type": "code",
   "execution_count": 63,
   "metadata": {},
   "outputs": [
    {
     "name": "stdout",
     "output_type": "stream",
     "text": [
      "Vocab length: 234\n"
     ]
    },
    {
     "data": {
      "text/plain": [
       "'man'"
      ]
     },
     "execution_count": 63,
     "metadata": {},
     "output_type": "execute_result"
    }
   ],
   "source": [
    "vocab_tmp = list(model.wv.vocab)\n",
    "print('Vocab length:',len(vocab_tmp))\n",
    "vocab_tmp[0]"
   ]
  },
  {
   "cell_type": "code",
   "execution_count": 64,
   "metadata": {
    "collapsed": true
   },
   "outputs": [],
   "source": [
    "from sklearn.metrics.pairwise import cosine_similarity\n"
   ]
  },
  {
   "cell_type": "code",
   "execution_count": 65,
   "metadata": {},
   "outputs": [
    {
     "data": {
      "text/plain": [
       "0.99617046114502972"
      ]
     },
     "execution_count": 65,
     "metadata": {},
     "output_type": "execute_result"
    }
   ],
   "source": [
    "model.similarity('man','woman')"
   ]
  },
  {
   "cell_type": "code",
   "execution_count": 66,
   "metadata": {},
   "outputs": [
    {
     "data": {
      "text/plain": [
       "0.99369943659369309"
      ]
     },
     "execution_count": 66,
     "metadata": {},
     "output_type": "execute_result"
    }
   ],
   "source": [
    "model.similarity('see','visit')"
   ]
  },
  {
   "cell_type": "code",
   "execution_count": 67,
   "metadata": {},
   "outputs": [
    {
     "data": {
      "text/plain": [
       "0.98998099855167609"
      ]
     },
     "execution_count": 67,
     "metadata": {},
     "output_type": "execute_result"
    }
   ],
   "source": [
    "model.similarity('two','mother')"
   ]
  },
  {
   "cell_type": "code",
   "execution_count": 68,
   "metadata": {},
   "outputs": [
    {
     "data": {
      "text/plain": [
       "[('collins', 0.9768012166023254),\n",
       " ('catherine', 0.9760928750038147),\n",
       " ('lucas', 0.9730533361434937),\n",
       " ('room', 0.9583531022071838),\n",
       " ('daughter', 0.9532002210617065),\n",
       " ('charlotte', 0.9510802030563354),\n",
       " ('house', 0.9508532881736755),\n",
       " ('two', 0.9486631751060486),\n",
       " ('seemed', 0.9485880136489868),\n",
       " ('rosings', 0.9476629495620728)]"
      ]
     },
     "execution_count": 68,
     "metadata": {},
     "output_type": "execute_result"
    }
   ],
   "source": [
    "model.most_similar(positive=['lady','woman'], negative=['man'])"
   ]
  },
  {
   "cell_type": "code",
   "execution_count": 69,
   "metadata": {},
   "outputs": [
    {
     "data": {
      "text/plain": [
       "[('lucas', 0.9303553104400635),\n",
       " ('william', 0.9261990189552307),\n",
       " ('collins', 0.890133261680603),\n",
       " ('lady', 0.8730971813201904),\n",
       " ('charlotte', 0.8653660416603088),\n",
       " ('daughter', 0.8579386472702026),\n",
       " ('young', 0.8567472100257874),\n",
       " ('le', 0.85390305519104),\n",
       " ('say', 0.8532811403274536),\n",
       " ('take', 0.8531085252761841)]"
      ]
     },
     "execution_count": 69,
     "metadata": {},
     "output_type": "execute_result"
    }
   ],
   "source": [
    "model.most_similar(positive=['sir','man'], negative=['woman'])"
   ]
  },
  {
   "cell_type": "code",
   "execution_count": 70,
   "metadata": {},
   "outputs": [
    {
     "data": {
      "text/plain": [
       "'man'"
      ]
     },
     "execution_count": 70,
     "metadata": {},
     "output_type": "execute_result"
    }
   ],
   "source": [
    "model.doesnt_match(\"man woman ok kill\".split())"
   ]
  },
  {
   "cell_type": "code",
   "execution_count": 71,
   "metadata": {},
   "outputs": [
    {
     "data": {
      "text/plain": [
       "'lucas'"
      ]
     },
     "execution_count": 71,
     "metadata": {},
     "output_type": "execute_result"
    }
   ],
   "source": [
    "model.doesnt_match(\"think come like lucas\".split())"
   ]
  },
  {
   "cell_type": "code",
   "execution_count": 72,
   "metadata": {},
   "outputs": [
    {
     "data": {
      "text/plain": [
       "[('regard', 0.9991554021835327),\n",
       " ('heart', 0.9991470575332642),\n",
       " ('ever', 0.9989364147186279),\n",
       " ('really', 0.9988886713981628),\n",
       " ('marriage', 0.9988623857498169),\n",
       " ('power', 0.9988265037536621),\n",
       " ('reason', 0.9987472295761108),\n",
       " ('want', 0.9986894130706787),\n",
       " ('character', 0.9986242055892944),\n",
       " ('much', 0.9986101388931274)]"
      ]
     },
     "execution_count": 72,
     "metadata": {},
     "output_type": "execute_result"
    }
   ],
   "source": [
    "model.most_similar(\"love\")"
   ]
  },
  {
   "cell_type": "code",
   "execution_count": 73,
   "metadata": {},
   "outputs": [
    {
     "data": {
      "text/plain": [
       "[('returned', 0.9991984367370605),\n",
       " ('meryton', 0.9987325668334961),\n",
       " ('family', 0.9987310171127319),\n",
       " ('week', 0.9987285137176514),\n",
       " ('till', 0.9987049102783203),\n",
       " ('began', 0.9986638426780701),\n",
       " ('return', 0.998303234577179),\n",
       " ('rosings', 0.9981467723846436),\n",
       " ('great', 0.9980743527412415),\n",
       " ('thought', 0.9980107545852661)]"
      ]
     },
     "execution_count": 73,
     "metadata": {},
     "output_type": "execute_result"
    }
   ],
   "source": [
    "model.most_similar(\"visit\")"
   ]
  },
  {
   "cell_type": "code",
   "execution_count": 74,
   "metadata": {},
   "outputs": [
    {
     "data": {
      "text/plain": [
       "(300,)"
      ]
     },
     "execution_count": 74,
     "metadata": {},
     "output_type": "execute_result"
    }
   ],
   "source": [
    "X = model[vocab_tmp]\n",
    "X[0].shape"
   ]
  },
  {
   "cell_type": "code",
   "execution_count": 75,
   "metadata": {},
   "outputs": [
    {
     "data": {
      "text/plain": [
       "5370"
      ]
     },
     "execution_count": 75,
     "metadata": {},
     "output_type": "execute_result"
    }
   ],
   "source": [
    "model.corpus_count"
   ]
  },
  {
   "cell_type": "code",
   "execution_count": 76,
   "metadata": {},
   "outputs": [
    {
     "data": {
      "text/plain": [
       "(234, 300)"
      ]
     },
     "execution_count": 76,
     "metadata": {},
     "output_type": "execute_result"
    }
   ],
   "source": [
    "model.wv.syn0.shape"
   ]
  },
  {
   "cell_type": "code",
   "execution_count": 77,
   "metadata": {},
   "outputs": [
    {
     "data": {
      "image/png": "[encoded data removed]",
      "text/plain": [
       "<matplotlib.figure.Figure at 0x181798ef860>"
      ]
     },
     "metadata": {},
     "output_type": "display_data"
    }
   ],
   "source": [
    "from sklearn import decomposition\n",
    "# get two principle components of the feature space\n",
    "pca= decomposition.PCA(n_components=2).fit_transform(model[vocab_tmp])\n",
    "\n",
    "# set figure settings\n",
    "plt.figure(figsize=(10,10),dpi=100)\n",
    "\n",
    "# save pca values and vocab in dataframe df\n",
    "df = pd.concat([pd.DataFrame(pca),pd.Series(vocab_tmp)],axis=1)\n",
    "df.columns = ['x', 'y', 'word']\n",
    "\n",
    "\n",
    "\n",
    "plt.xlabel(\"Ist principal component\")\n",
    "plt.ylabel('2nd principal component')\n",
    "\n",
    "\n",
    "plt.scatter(x=pca[:, 0], y=pca[:, 1],s=3)\n",
    "for i, word in enumerate(df['word'][0:100]):\n",
    "    plt.annotate(word, (df['x'].iloc[i], df['y'].iloc[i]))\n",
    "plt.title(\"PCA Embedding\")\n",
    "plt.show()"
   ]
  },
  {
   "cell_type": "code",
   "execution_count": 51,
   "metadata": {
    "collapsed": true
   },
   "outputs": [],
   "source": [
    "import sqlite3"
   ]
  },
  {
   "cell_type": "code",
   "execution_count": 62,
   "metadata": {},
   "outputs": [
    {
     "data": {
      "text/plain": [
       "<sqlite3.Cursor at 0x1feb6e4b3b0>"
      ]
     },
     "execution_count": 62,
     "metadata": {},
     "output_type": "execute_result"
    }
   ],
   "source": [
    "connection = sqlite3.connect('company.db')\n",
    "cursor = connection.cursor()\n",
    "cursor.execute(\"DROP TABLE IF EXISTS parents;\")"
   ]
  },
  {
   "cell_type": "code",
   "execution_count": 63,
   "metadata": {},
   "outputs": [
    {
     "data": {
      "text/plain": [
       "<sqlite3.Cursor at 0x1feb6e4b3b0>"
      ]
     },
     "execution_count": 63,
     "metadata": {},
     "output_type": "execute_result"
    }
   ],
   "source": [
    "sql_command = \"\"\"\n",
    "CREATE TABLE parents (\n",
    "parent VARCHAR(20),\n",
    "child VARCHAR(20));\"\"\"\n",
    "cursor.execute(sql_command)"
   ]
  },
  {
   "cell_type": "code",
   "execution_count": 64,
   "metadata": {},
   "outputs": [
    {
     "data": {
      "text/plain": [
       "<sqlite3.Cursor at 0x1feb6e4b3b0>"
      ]
     },
     "execution_count": 64,
     "metadata": {},
     "output_type": "execute_result"
    }
   ],
   "source": [
    "sql_command = \"\"\"\n",
    "INSERT INTO parents (parent, child)\n",
    "VALUES (\"abraham\", \"barack\") UNION\n",
    "VALUES (\"abraham\", \"clinton\") UNION\n",
    "VALUES (\"delano\", \"herbert\") UNION\n",
    "VALUES (\"fillmore\", \"abraham\") UNION\n",
    "VALUES (\"fillmore\", \"delano\") UNION\n",
    "VALUES (\"fillmore\", \"grover\") UNION\n",
    "VALUES (\"eisenhower\", \"fillmore\");\"\"\"\n",
    "cursor.execute(sql_command)"
   ]
  },
  {
   "cell_type": "code",
   "execution_count": 65,
   "metadata": {
    "collapsed": true
   },
   "outputs": [],
   "source": [
    "connection.commit() \n",
    "\n",
    "connection.close()"
   ]
  },
  {
   "cell_type": "code",
   "execution_count": 67,
   "metadata": {
    "collapsed": true
   },
   "outputs": [],
   "source": [
    "connection = sqlite3.connect(\"company.db\")\n",
    "\n",
    "cursor = connection.cursor()"
   ]
  },
  {
   "cell_type": "code",
   "execution_count": 68,
   "metadata": {},
   "outputs": [
    {
     "name": "stdout",
     "output_type": "stream",
     "text": [
      "fetchall:\n",
      "('abraham', 'barack')\n",
      "('abraham', 'clinton')\n",
      "('delano', 'herbert')\n",
      "('eisenhower', 'fillmore')\n",
      "('fillmore', 'abraham')\n",
      "('fillmore', 'delano')\n",
      "('fillmore', 'grover')\n"
     ]
    }
   ],
   "source": [
    "cursor.execute(\"SELECT * FROM parents\") \n",
    "\n",
    "print(\"fetchall:\") \n",
    "\n",
    "result = cursor.fetchall() \n",
    "\n",
    "for r in result:\n",
    "\n",
    "    print(r)"
   ]
  },
  {
   "cell_type": "code",
   "execution_count": 69,
   "metadata": {},
   "outputs": [
    {
     "name": "stdout",
     "output_type": "stream",
     "text": [
      "fetching:\n",
      "('abraham', 'barack')\n",
      "('abraham', 'clinton')\n"
     ]
    }
   ],
   "source": [
    "sql_command = \"\"\"\n",
    "SELECT parent,child\n",
    "FROM parents\n",
    "WHERE parent = \"abraham\";\"\"\"\n",
    "cursor.execute(sql_command)\n",
    "\n",
    "print(\"fetching:\") \n",
    "\n",
    "result = cursor.fetchall() \n",
    "\n",
    "for r in result:\n",
    "\n",
    "    print(r)"
   ]
  },
  {
   "cell_type": "code",
   "execution_count": 71,
   "metadata": {},
   "outputs": [
    {
     "name": "stdout",
     "output_type": "stream",
     "text": [
      "fetching:\n",
      "('herbert',)\n",
      "('fillmore',)\n",
      "('delano',)\n",
      "('grover',)\n"
     ]
    }
   ],
   "source": [
    "sql_command = \"\"\"\n",
    "SELECT child\n",
    "FROM parents\n",
    "WHERE child LIKE '%e%';\"\"\"\n",
    "cursor.execute(sql_command)\n",
    "\n",
    "print(\"fetching:\") \n",
    "\n",
    "result = cursor.fetchall() \n",
    "\n",
    "for r in result:\n",
    "\n",
    "    print(r)"
   ]
  },
  {
   "cell_type": "code",
   "execution_count": 72,
   "metadata": {},
   "outputs": [
    {
     "name": "stdout",
     "output_type": "stream",
     "text": [
      "fetching:\n",
      "('fillmore',)\n",
      "('eisenhower',)\n",
      "('delano',)\n",
      "('abraham',)\n"
     ]
    }
   ],
   "source": [
    "sql_command = \"\"\"\n",
    "SELECT DISTINCT parent\n",
    "FROM parents\n",
    "ORDER BY parent DESC;\"\"\"\n",
    "cursor.execute(sql_command)\n",
    "\n",
    "print(\"fetching:\") \n",
    "\n",
    "result = cursor.fetchall() \n",
    "\n",
    "for r in result:\n",
    "\n",
    "    print(r)"
   ]
  },
  {
   "cell_type": "code",
   "execution_count": 100,
   "metadata": {},
   "outputs": [
    {
     "name": "stdout",
     "output_type": "stream",
     "text": [
      "fetching:\n",
      "('clinton', 'barack')\n",
      "('delano', 'abraham')\n",
      "('grover', 'abraham')\n",
      "('grover', 'delano')\n"
     ]
    }
   ],
   "source": [
    "sql_command = \"\"\"\n",
    "SELECT a.child, b.child\n",
    "FROM parents a, parents b\n",
    "WHERE a.parent=b.parent AND a.child > b.child;\"\"\"\n",
    "cursor.execute(sql_command)\n",
    "\n",
    "print(\"fetching:\") \n",
    "\n",
    "result = cursor.fetchall() \n",
    "\n",
    "for r in result:\n",
    "\n",
    "    print(r)"
   ]
  },
  {
   "cell_type": "code",
   "execution_count": 101,
   "metadata": {},
   "outputs": [
    {
     "data": {
      "text/plain": [
       "<sqlite3.Cursor at 0x1feb6e4b650>"
      ]
     },
     "execution_count": 101,
     "metadata": {},
     "output_type": "execute_result"
    }
   ],
   "source": [
    "cursor.execute(\"DROP TABLE IF EXISTS dogs;\")\n",
    "sql_command = \"\"\"\n",
    "CREATE TABLE dogs AS\n",
    "SELECT \"abraham\" AS name, \"long\" AS fur UNION\n",
    "SELECT \"barack\", \"short\" UNION\n",
    "SELECT \"clinton\", \"long\" UNION\n",
    "SELECT \"delano\", \"long\" UNION\n",
    "SELECT \"eisenhower\", \"short\" UNION\n",
    "SELECT \"fillmore\", \"curly\" UNION\n",
    "SELECT \"grover\", \"short\" UNION\n",
    "SELECT \"herbert\", \"curly\";\"\"\"\n",
    "cursor.execute(sql_command)"
   ]
  },
  {
   "cell_type": "code",
   "execution_count": 102,
   "metadata": {},
   "outputs": [
    {
     "name": "stdout",
     "output_type": "stream",
     "text": [
      "fetching:\n",
      "(3,)\n"
     ]
    }
   ],
   "source": [
    "sql_command = \"\"\"\n",
    "SELECT count(*)\n",
    "FROM dogs\n",
    "WHERE fur =\"short\";\"\"\"\n",
    "cursor.execute(sql_command)\n",
    "\n",
    "print(\"fetching:\") \n",
    "\n",
    "result = cursor.fetchall() \n",
    "\n",
    "for r in result:\n",
    "\n",
    "    print(r)"
   ]
  },
  {
   "cell_type": "code",
   "execution_count": 109,
   "metadata": {},
   "outputs": [
    {
     "name": "stdout",
     "output_type": "stream",
     "text": [
      "fetching:\n",
      "('eisenhower',)\n",
      "('delano',)\n"
     ]
    }
   ],
   "source": [
    "sql_command = \"\"\"\n",
    "SELECT parents.parent\n",
    "FROM parents INNER JOIN dogs ON parents.child =dogs.name AND dogs.fur =\"curly\";\"\"\"\n",
    "cursor.execute(sql_command)\n",
    "\n",
    "print(\"fetching:\") \n",
    "\n",
    "result = cursor.fetchall() \n",
    "\n",
    "for r in result:\n",
    "\n",
    "    print(r)"
   ]
  },
  {
   "cell_type": "code",
   "execution_count": 126,
   "metadata": {},
   "outputs": [
    {
     "name": "stdout",
     "output_type": "stream",
     "text": [
      "fetching:\n",
      "('abraham', 'clinton')\n"
     ]
    }
   ],
   "source": [
    "sql_command = \"\"\"\n",
    "SELECT a.child,b.child\n",
    "FROM (parents INNER JOIN dogs ON parents.child =dogs.name) a, (parents INNER JOIN dogs ON parents.child =dogs.name) b\n",
    "WHERE a.fur=b.fur AND b.parent=a.child;\"\"\"\n",
    "cursor.execute(sql_command)\n",
    "\n",
    "print(\"fetching:\") \n",
    "\n",
    "result = cursor.fetchall() \n",
    "\n",
    "for r in result:\n",
    "\n",
    "    print(r)"
   ]
  },
  {
   "cell_type": "code",
   "execution_count": 127,
   "metadata": {},
   "outputs": [
    {
     "data": {
      "text/plain": [
       "<sqlite3.Cursor at 0x1feb6e4b650>"
      ]
     },
     "execution_count": 127,
     "metadata": {},
     "output_type": "execute_result"
    }
   ],
   "source": [
    "cursor.execute(\"DROP TABLE IF EXISTS animals;\")\n",
    "sql_command = \"\"\"\n",
    "create table animals as\n",
    "select \"dog\" as kind, 4 as legs, 20 as weight union\n",
    "select \"cat\" , 4 , 10 union\n",
    "select \"ferret\" , 4 , 10 union\n",
    "select \"parrot\" , 2 , 6 union\n",
    "select \"penguin\" , 2 , 10 union\n",
    "select \"t-rex\" , 2 , 12000;\"\"\"\n",
    "cursor.execute(sql_command)"
   ]
  },
  {
   "cell_type": "code",
   "execution_count": 128,
   "metadata": {},
   "outputs": [
    {
     "name": "stdout",
     "output_type": "stream",
     "text": [
      "fetching:\n",
      "('parrot', 6)\n"
     ]
    }
   ],
   "source": [
    "sql_command = \"\"\"\n",
    "SELECT kind, MIN(weight)\n",
    "FROM animals;\"\"\"\n",
    "cursor.execute(sql_command)\n",
    "\n",
    "print(\"fetching:\") \n",
    "\n",
    "result = cursor.fetchall() \n",
    "\n",
    "for r in result:\n",
    "\n",
    "    print(r)"
   ]
  },
  {
   "cell_type": "code",
   "execution_count": 129,
   "metadata": {},
   "outputs": [
    {
     "name": "stdout",
     "output_type": "stream",
     "text": [
      "fetching:\n",
      "(3.0, 2009.3333333333333)\n"
     ]
    }
   ],
   "source": [
    "sql_command = \"\"\"\n",
    "SELECT AVG(legs), AVG(weight)\n",
    "FROM animals;\"\"\"\n",
    "cursor.execute(sql_command)\n",
    "\n",
    "print(\"fetching:\") \n",
    "\n",
    "result = cursor.fetchall() \n",
    "\n",
    "for r in result:\n",
    "\n",
    "    print(r)"
   ]
  },
  {
   "cell_type": "code",
   "execution_count": 131,
   "metadata": {},
   "outputs": [
    {
     "name": "stdout",
     "output_type": "stream",
     "text": [
      "fetching:\n",
      "('cat', 4, 10)\n",
      "('ferret', 4, 10)\n"
     ]
    }
   ],
   "source": [
    "sql_command = \"\"\"\n",
    "SELECT a.kind, a.legs, a.weight\n",
    "FROM animals a\n",
    "WHERE a.legs > 2 AND a.weight <20;\"\"\"\n",
    "cursor.execute(sql_command)\n",
    "\n",
    "print(\"fetching:\") \n",
    "\n",
    "result = cursor.fetchall() \n",
    "\n",
    "for r in result:\n",
    "\n",
    "    print(r)"
   ]
  },
  {
   "cell_type": "code",
   "execution_count": 137,
   "metadata": {},
   "outputs": [
    {
     "name": "stdout",
     "output_type": "stream",
     "text": [
      "fetching:\n",
      "(2, 4005.3333333333335)\n",
      "(4, 13.333333333333334)\n"
     ]
    }
   ],
   "source": [
    "sql_command = \"\"\"\n",
    "SELECT legs, AVG(weight) as average_weights\n",
    "FROM animals\n",
    "GROUP BY legs;\"\"\"\n",
    "cursor.execute(sql_command)\n",
    "\n",
    "print(\"fetching:\") \n",
    "\n",
    "result = cursor.fetchall() \n",
    "\n",
    "for r in result:\n",
    "\n",
    "    print(r)"
   ]
  },
  {
   "cell_type": "code",
   "execution_count": null,
   "metadata": {
    "collapsed": true
   },
   "outputs": [],
   "source": []
  }
 ],
 "metadata": {
  "kernelspec": {
   "display_name": "Python 3",
   "language": "python",
   "name": "python3"
  },
  "language_info": {
   "codemirror_mode": {
    "name": "ipython",
    "version": 3
   },
   "file_extension": ".py",
   "mimetype": "text/x-python",
   "name": "python",
   "nbconvert_exporter": "python",
   "pygments_lexer": "ipython3",
   "version": "3.6.3"
  }
 },
 "nbformat": 4,
 "nbformat_minor": 2
}
